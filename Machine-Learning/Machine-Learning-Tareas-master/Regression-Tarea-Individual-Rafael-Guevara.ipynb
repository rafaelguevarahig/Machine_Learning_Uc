{
 "cells": [
  {
   "cell_type": "markdown",
   "metadata": {},
   "source": [
    "## ML Supervisado: Regresiones - Tarea Individual\n",
    "\n",
    "### Entrega 30/12 a correo marcelo.medel.v@gmail.com.\n",
    "\n",
    "- (15%) Pregunta 1:\n",
    "    - ¿Qué entiende del método de ajuste por mínimos cuadrados ordinarios (OLS)? Investigue y desarrolle.\n",
    "\n",
    "- (15%) Pregunta 2:\n",
    "    - ¿En qué casos puede ser útil medir el **MAPE** como métrica de error? En el código se le entrega el método para calcular la métrica.\n",
    "\n",
    "- (70%) Pregunta 3:\n",
    "\n",
    "    - Utilice los mismos datos y códigos del ejemplo a continuación, pero utilizando lo siguiente:\n",
    "        * **X**: *Global_reactive_power, Voltage, Sub_metering_1, Sub_metering_2, Sub_metering_3*\n",
    "        * **Y**: *Global Intensity*\n",
    "\n",
    "    - **Preguntas**:\n",
    "\n",
    "        * ¿Existen valores anormales en los datos (outliers)? ¿será necesario hacer algún tipo de tratamiento a estos datos?.\n",
    "        * ¿Será necesario escalar los datos?, en caso de utilizar algún método de escalamiento (MinMax, Standard, Robust, otro), ¿mejora o empeora los resultados de los modelos?.\n",
    "        * ¿Para qué sirve la métrica *explained variance*? El cálculo se encuentra en el código.\n",
    "        * ¿Qué hiperparámetros de los modelos modificó para llegar a la mejor solución?\n",
    "        * De los modelos que desarrolló ¿cuál es el que tiene mejor performance respecto a las métricas? interprete los resultados basándose en las métricas.\n",
    "        * ¿Qué diferencias observa al mirar los coeficientes de cada modelo? Interprete cuales son las variables que mejor modelan el problema.\n",
    "\n"
   ]
  },
  {
   "cell_type": "markdown",
   "metadata": {},
   "source": [
    "## Regression Example \n",
    "\n",
    "* Instale la última versión disponible de scikit learn. Para este ejemplo es necesaria la versión 1.5 para poder desarrollar la métrica RMSE.\n",
    "\n",
    "* El ejercicio fue tomado de Kaggle: https://www.kaggle.com/akouaorsot/power-consumption-regression-rmse-0-04\n",
    "\n",
    "### Explicación tomada de Kaggle.\n",
    "\n",
    "#### Context\n",
    "\n",
    "Measurements of electric power consumption in one household with a one-minute sampling rate over a period of almost 4 years. Different electrical quantities and some sub-metering values are available.\n",
    "\n",
    "**Data Set Characteristics**:\n",
    "Multivariate, Time-Series\n",
    "\n",
    "**Associated Tasks**:\n",
    "Regression, Clustering\n",
    "\n",
    "Data Set Information:\n",
    "\n",
    "This archive contains 2075259 measurements gathered between December 2006 and November 2010 (47 months).\n",
    "\n",
    "#### Notes:\n",
    "1.**Power Consumption** : (globalactivepower *1000/60 - submetering1 - submetering2 - submetering3) represents the active energy consumed every minute (in watt hour) in the household by electrical equipment not measured in sub-meterings 1, 2 and 3.\n",
    "\n",
    "2.The dataset contains some missing values in the measurements (nearly 1,25% of the rows). All calendar timestamps are present in the dataset but for some timestamps, the measurement values are missing: a missing value is represented by the absence of value between two consecutive semi-colon attribute separators. For instance, the dataset shows missing values on April 28, 2007.\n",
    "\n",
    "**Attribute Information**:\n",
    "1.**date**: Date in format dd/mm/yyyy\n",
    "\n",
    "2.**time**: time in format hh:mm:ss\n",
    "\n",
    "3.**globalactivepower**: household global minute-averaged active power (in kilowatt)\n",
    "\n",
    "4.**globalreactivepower**: household global minute-averaged reactive power (in kilowatt)\n",
    "\n",
    "5.**voltage**: minute-averaged voltage (in volt)\n",
    "\n",
    "6.**global_intensity**: household global minute-averaged current intensity (in ampere)\n",
    "\n",
    "7.**submetering1**: energy sub-metering No. 1 (in watt-hour of active energy). It corresponds to the kitchen, containing mainly a dishwasher, an oven and a microwave (hot plates are not electric but gas powered).\n",
    "\n",
    "8.**submetering2**: energy sub-metering No. 2 (in watt-hour of active energy). It corresponds to the laundry room, containing a washing-machine, a tumble-drier, a refrigerator and a light.\n",
    "\n",
    "9.**submetering3**: energy sub-metering No. 3 (in watt-hour of active energy). It corresponds to an electric water-heater and an air-conditioner."
   ]
  },
  {
   "cell_type": "code",
   "execution_count": 1680,
   "metadata": {},
   "outputs": [
    {
     "name": "stdout",
     "output_type": "stream",
     "text": [
      "Requirement already satisfied: scikit-learn in c:\\users\\rafael.guevara\\documents\\machine learning tareas\\.venv\\lib\\site-packages (1.6.0)\n",
      "Requirement already satisfied: numpy>=1.19.5 in c:\\users\\rafael.guevara\\documents\\machine learning tareas\\.venv\\lib\\site-packages (from scikit-learn) (2.2.1)\n",
      "Requirement already satisfied: scipy>=1.6.0 in c:\\users\\rafael.guevara\\documents\\machine learning tareas\\.venv\\lib\\site-packages (from scikit-learn) (1.14.1)\n",
      "Requirement already satisfied: joblib>=1.2.0 in c:\\users\\rafael.guevara\\documents\\machine learning tareas\\.venv\\lib\\site-packages (from scikit-learn) (1.4.2)\n",
      "Requirement already satisfied: threadpoolctl>=3.1.0 in c:\\users\\rafael.guevara\\documents\\machine learning tareas\\.venv\\lib\\site-packages (from scikit-learn) (3.5.0)\n",
      "Requirement already satisfied: pandas in c:\\users\\rafael.guevara\\documents\\machine learning tareas\\.venv\\lib\\site-packages (2.2.3)\n",
      "Requirement already satisfied: numpy>=1.22.4 in c:\\users\\rafael.guevara\\documents\\machine learning tareas\\.venv\\lib\\site-packages (from pandas) (2.2.1)\n",
      "Requirement already satisfied: python-dateutil>=2.8.2 in c:\\users\\rafael.guevara\\documents\\machine learning tareas\\.venv\\lib\\site-packages (from pandas) (2.9.0.post0)\n",
      "Requirement already satisfied: pytz>=2020.1 in c:\\users\\rafael.guevara\\documents\\machine learning tareas\\.venv\\lib\\site-packages (from pandas) (2024.2)\n",
      "Requirement already satisfied: tzdata>=2022.7 in c:\\users\\rafael.guevara\\documents\\machine learning tareas\\.venv\\lib\\site-packages (from pandas) (2024.2)\n",
      "Requirement already satisfied: six>=1.5 in c:\\users\\rafael.guevara\\documents\\machine learning tareas\\.venv\\lib\\site-packages (from python-dateutil>=2.8.2->pandas) (1.17.0)\n",
      "Requirement already satisfied: numpy in c:\\users\\rafael.guevara\\documents\\machine learning tareas\\.venv\\lib\\site-packages (2.2.1)\n",
      "Requirement already satisfied: matplotlib in c:\\users\\rafael.guevara\\documents\\machine learning tareas\\.venv\\lib\\site-packages (3.10.0)\n",
      "Requirement already satisfied: contourpy>=1.0.1 in c:\\users\\rafael.guevara\\documents\\machine learning tareas\\.venv\\lib\\site-packages (from matplotlib) (1.3.1)\n",
      "Requirement already satisfied: cycler>=0.10 in c:\\users\\rafael.guevara\\documents\\machine learning tareas\\.venv\\lib\\site-packages (from matplotlib) (0.12.1)\n",
      "Requirement already satisfied: fonttools>=4.22.0 in c:\\users\\rafael.guevara\\documents\\machine learning tareas\\.venv\\lib\\site-packages (from matplotlib) (4.55.3)\n",
      "Requirement already satisfied: kiwisolver>=1.3.1 in c:\\users\\rafael.guevara\\documents\\machine learning tareas\\.venv\\lib\\site-packages (from matplotlib) (1.4.8)\n",
      "Requirement already satisfied: numpy>=1.23 in c:\\users\\rafael.guevara\\documents\\machine learning tareas\\.venv\\lib\\site-packages (from matplotlib) (2.2.1)\n",
      "Requirement already satisfied: packaging>=20.0 in c:\\users\\rafael.guevara\\documents\\machine learning tareas\\.venv\\lib\\site-packages (from matplotlib) (24.2)\n",
      "Requirement already satisfied: pillow>=8 in c:\\users\\rafael.guevara\\documents\\machine learning tareas\\.venv\\lib\\site-packages (from matplotlib) (11.0.0)\n",
      "Requirement already satisfied: pyparsing>=2.3.1 in c:\\users\\rafael.guevara\\documents\\machine learning tareas\\.venv\\lib\\site-packages (from matplotlib) (3.2.0)\n",
      "Requirement already satisfied: python-dateutil>=2.7 in c:\\users\\rafael.guevara\\documents\\machine learning tareas\\.venv\\lib\\site-packages (from matplotlib) (2.9.0.post0)\n",
      "Requirement already satisfied: six>=1.5 in c:\\users\\rafael.guevara\\documents\\machine learning tareas\\.venv\\lib\\site-packages (from python-dateutil>=2.7->matplotlib) (1.17.0)\n",
      "Requirement already satisfied: seaborn in c:\\users\\rafael.guevara\\documents\\machine learning tareas\\.venv\\lib\\site-packages (0.13.2)\n",
      "Requirement already satisfied: numpy!=1.24.0,>=1.20 in c:\\users\\rafael.guevara\\documents\\machine learning tareas\\.venv\\lib\\site-packages (from seaborn) (2.2.1)\n",
      "Requirement already satisfied: pandas>=1.2 in c:\\users\\rafael.guevara\\documents\\machine learning tareas\\.venv\\lib\\site-packages (from seaborn) (2.2.3)\n",
      "Requirement already satisfied: matplotlib!=3.6.1,>=3.4 in c:\\users\\rafael.guevara\\documents\\machine learning tareas\\.venv\\lib\\site-packages (from seaborn) (3.10.0)\n",
      "Requirement already satisfied: contourpy>=1.0.1 in c:\\users\\rafael.guevara\\documents\\machine learning tareas\\.venv\\lib\\site-packages (from matplotlib!=3.6.1,>=3.4->seaborn) (1.3.1)\n",
      "Requirement already satisfied: cycler>=0.10 in c:\\users\\rafael.guevara\\documents\\machine learning tareas\\.venv\\lib\\site-packages (from matplotlib!=3.6.1,>=3.4->seaborn) (0.12.1)\n",
      "Requirement already satisfied: fonttools>=4.22.0 in c:\\users\\rafael.guevara\\documents\\machine learning tareas\\.venv\\lib\\site-packages (from matplotlib!=3.6.1,>=3.4->seaborn) (4.55.3)\n",
      "Requirement already satisfied: kiwisolver>=1.3.1 in c:\\users\\rafael.guevara\\documents\\machine learning tareas\\.venv\\lib\\site-packages (from matplotlib!=3.6.1,>=3.4->seaborn) (1.4.8)\n",
      "Requirement already satisfied: packaging>=20.0 in c:\\users\\rafael.guevara\\documents\\machine learning tareas\\.venv\\lib\\site-packages (from matplotlib!=3.6.1,>=3.4->seaborn) (24.2)\n",
      "Requirement already satisfied: pillow>=8 in c:\\users\\rafael.guevara\\documents\\machine learning tareas\\.venv\\lib\\site-packages (from matplotlib!=3.6.1,>=3.4->seaborn) (11.0.0)\n",
      "Requirement already satisfied: pyparsing>=2.3.1 in c:\\users\\rafael.guevara\\documents\\machine learning tareas\\.venv\\lib\\site-packages (from matplotlib!=3.6.1,>=3.4->seaborn) (3.2.0)\n",
      "Requirement already satisfied: python-dateutil>=2.7 in c:\\users\\rafael.guevara\\documents\\machine learning tareas\\.venv\\lib\\site-packages (from matplotlib!=3.6.1,>=3.4->seaborn) (2.9.0.post0)\n",
      "Requirement already satisfied: pytz>=2020.1 in c:\\users\\rafael.guevara\\documents\\machine learning tareas\\.venv\\lib\\site-packages (from pandas>=1.2->seaborn) (2024.2)\n",
      "Requirement already satisfied: tzdata>=2022.7 in c:\\users\\rafael.guevara\\documents\\machine learning tareas\\.venv\\lib\\site-packages (from pandas>=1.2->seaborn) (2024.2)\n",
      "Requirement already satisfied: six>=1.5 in c:\\users\\rafael.guevara\\documents\\machine learning tareas\\.venv\\lib\\site-packages (from python-dateutil>=2.7->matplotlib!=3.6.1,>=3.4->seaborn) (1.17.0)\n"
     ]
    }
   ],
   "source": [
    "# Instalamos las librerias necesarias\n",
    "!pip install scikit-learn\n",
    "!pip install pandas\n",
    "!pip install numpy\n",
    "!pip install matplotlib\n",
    "!pip install seaborn"
   ]
  },
  {
   "cell_type": "code",
   "execution_count": 1681,
   "metadata": {},
   "outputs": [
    {
     "name": "stdout",
     "output_type": "stream",
     "text": [
      "1.6.0\n"
     ]
    }
   ],
   "source": [
    "import sklearn\n",
    "print(sklearn.__version__)"
   ]
  },
  {
   "cell_type": "code",
   "execution_count": 1682,
   "metadata": {},
   "outputs": [],
   "source": [
    "import numpy as np\n",
    "import pandas as pd \n",
    "import matplotlib.pyplot as plt\n",
    "import seaborn as sns\n",
    "pd.set_option(\"display.float_format\", \"{:.2f}\".format)\n",
    "sns.set(rc={'figure.figsize': (12,8)})\n"
   ]
  },
  {
   "cell_type": "markdown",
   "metadata": {},
   "source": [
    "## Data Preprocessing\n",
    "\n",
    "* Cargamos los datos\n",
    "* Se reemplazan valores nulos o incorrectos con valor -1\n",
    "* Se realiza cambio de tipo de datos para las variables numéricas\n",
    "* Se realiza una imputación de los valores -1 por la media de los valores"
   ]
  },
  {
   "cell_type": "code",
   "execution_count": 1683,
   "metadata": {},
   "outputs": [
    {
     "name": "stdout",
     "output_type": "stream",
     "text": [
      "CPU times: total: 953 ms\n",
      "Wall time: 5.38 s\n"
     ]
    },
    {
     "name": "stderr",
     "output_type": "stream",
     "text": [
      "<timed exec>:3: DtypeWarning: Columns (2,3,4,5,6,7) have mixed types. Specify dtype option on import or set low_memory=False.\n"
     ]
    },
    {
     "data": {
      "text/html": [
       "<div>\n",
       "<style scoped>\n",
       "    .dataframe tbody tr th:only-of-type {\n",
       "        vertical-align: middle;\n",
       "    }\n",
       "\n",
       "    .dataframe tbody tr th {\n",
       "        vertical-align: top;\n",
       "    }\n",
       "\n",
       "    .dataframe thead th {\n",
       "        text-align: right;\n",
       "    }\n",
       "</style>\n",
       "<table border=\"1\" class=\"dataframe\">\n",
       "  <thead>\n",
       "    <tr style=\"text-align: right;\">\n",
       "      <th></th>\n",
       "      <th>Date</th>\n",
       "      <th>Time</th>\n",
       "      <th>Global_active_power</th>\n",
       "      <th>Global_reactive_power</th>\n",
       "      <th>Voltage</th>\n",
       "      <th>Global_intensity</th>\n",
       "      <th>Sub_metering_1</th>\n",
       "      <th>Sub_metering_2</th>\n",
       "      <th>Sub_metering_3</th>\n",
       "    </tr>\n",
       "  </thead>\n",
       "  <tbody>\n",
       "    <tr>\n",
       "      <th>0</th>\n",
       "      <td>16/12/2006</td>\n",
       "      <td>17:24:00</td>\n",
       "      <td>4.216</td>\n",
       "      <td>0.418</td>\n",
       "      <td>234.840</td>\n",
       "      <td>18.400</td>\n",
       "      <td>0.000</td>\n",
       "      <td>1.000</td>\n",
       "      <td>17.00</td>\n",
       "    </tr>\n",
       "    <tr>\n",
       "      <th>1</th>\n",
       "      <td>16/12/2006</td>\n",
       "      <td>17:25:00</td>\n",
       "      <td>5.360</td>\n",
       "      <td>0.436</td>\n",
       "      <td>233.630</td>\n",
       "      <td>23.000</td>\n",
       "      <td>0.000</td>\n",
       "      <td>1.000</td>\n",
       "      <td>16.00</td>\n",
       "    </tr>\n",
       "    <tr>\n",
       "      <th>2</th>\n",
       "      <td>16/12/2006</td>\n",
       "      <td>17:26:00</td>\n",
       "      <td>5.374</td>\n",
       "      <td>0.498</td>\n",
       "      <td>233.290</td>\n",
       "      <td>23.000</td>\n",
       "      <td>0.000</td>\n",
       "      <td>2.000</td>\n",
       "      <td>17.00</td>\n",
       "    </tr>\n",
       "    <tr>\n",
       "      <th>3</th>\n",
       "      <td>16/12/2006</td>\n",
       "      <td>17:27:00</td>\n",
       "      <td>5.388</td>\n",
       "      <td>0.502</td>\n",
       "      <td>233.740</td>\n",
       "      <td>23.000</td>\n",
       "      <td>0.000</td>\n",
       "      <td>1.000</td>\n",
       "      <td>17.00</td>\n",
       "    </tr>\n",
       "    <tr>\n",
       "      <th>4</th>\n",
       "      <td>16/12/2006</td>\n",
       "      <td>17:28:00</td>\n",
       "      <td>3.666</td>\n",
       "      <td>0.528</td>\n",
       "      <td>235.680</td>\n",
       "      <td>15.800</td>\n",
       "      <td>0.000</td>\n",
       "      <td>1.000</td>\n",
       "      <td>17.00</td>\n",
       "    </tr>\n",
       "  </tbody>\n",
       "</table>\n",
       "</div>"
      ],
      "text/plain": [
       "         Date      Time Global_active_power Global_reactive_power  Voltage  \\\n",
       "0  16/12/2006  17:24:00               4.216                 0.418  234.840   \n",
       "1  16/12/2006  17:25:00               5.360                 0.436  233.630   \n",
       "2  16/12/2006  17:26:00               5.374                 0.498  233.290   \n",
       "3  16/12/2006  17:27:00               5.388                 0.502  233.740   \n",
       "4  16/12/2006  17:28:00               3.666                 0.528  235.680   \n",
       "\n",
       "  Global_intensity Sub_metering_1 Sub_metering_2  Sub_metering_3  \n",
       "0           18.400          0.000          1.000           17.00  \n",
       "1           23.000          0.000          1.000           16.00  \n",
       "2           23.000          0.000          2.000           17.00  \n",
       "3           23.000          0.000          1.000           17.00  \n",
       "4           15.800          0.000          1.000           17.00  "
      ]
     },
     "execution_count": 1683,
     "metadata": {},
     "output_type": "execute_result"
    }
   ],
   "source": [
    "%%time\n",
    "url = 'https://drive.google.com/file/d/1G2JpK7urCs5lYcoeGMyXJxR_1FCIoTZC/view?usp=drive_link'\n",
    "path = 'https://drive.google.com/uc?export=download&id='+url.split('/')[-2]\n",
    "df = pd.read_csv(path, sep=\";\", encoding=\"ISO-8859-1\", header=0, compression='zip')\n",
    "df.head()"
   ]
  },
  {
   "cell_type": "code",
   "execution_count": 1684,
   "metadata": {},
   "outputs": [
    {
     "name": "stdout",
     "output_type": "stream",
     "text": [
      "<class 'pandas.core.frame.DataFrame'>\n",
      "RangeIndex: 2075259 entries, 0 to 2075258\n",
      "Data columns (total 9 columns):\n",
      " #   Column                 Dtype  \n",
      "---  ------                 -----  \n",
      " 0   Date                   object \n",
      " 1   Time                   object \n",
      " 2   Global_active_power    object \n",
      " 3   Global_reactive_power  object \n",
      " 4   Voltage                object \n",
      " 5   Global_intensity       object \n",
      " 6   Sub_metering_1         object \n",
      " 7   Sub_metering_2         object \n",
      " 8   Sub_metering_3         float64\n",
      "dtypes: float64(1), object(8)\n",
      "memory usage: 142.5+ MB\n"
     ]
    }
   ],
   "source": [
    "df.info()"
   ]
  },
  {
   "cell_type": "code",
   "execution_count": 1685,
   "metadata": {},
   "outputs": [
    {
     "data": {
      "text/html": [
       "<div>\n",
       "<style scoped>\n",
       "    .dataframe tbody tr th:only-of-type {\n",
       "        vertical-align: middle;\n",
       "    }\n",
       "\n",
       "    .dataframe tbody tr th {\n",
       "        vertical-align: top;\n",
       "    }\n",
       "\n",
       "    .dataframe thead th {\n",
       "        text-align: right;\n",
       "    }\n",
       "</style>\n",
       "<table border=\"1\" class=\"dataframe\">\n",
       "  <thead>\n",
       "    <tr style=\"text-align: right;\">\n",
       "      <th></th>\n",
       "      <th>Date</th>\n",
       "      <th>Time</th>\n",
       "      <th>Global_active_power</th>\n",
       "      <th>Global_reactive_power</th>\n",
       "      <th>Voltage</th>\n",
       "      <th>Global_intensity</th>\n",
       "      <th>Sub_metering_1</th>\n",
       "      <th>Sub_metering_2</th>\n",
       "      <th>Sub_metering_3</th>\n",
       "    </tr>\n",
       "  </thead>\n",
       "  <tbody>\n",
       "    <tr>\n",
       "      <th>0</th>\n",
       "      <td>16/12/2006</td>\n",
       "      <td>17:24:00</td>\n",
       "      <td>4.22</td>\n",
       "      <td>0.42</td>\n",
       "      <td>234.84</td>\n",
       "      <td>18.40</td>\n",
       "      <td>0.00</td>\n",
       "      <td>1.00</td>\n",
       "      <td>17.00</td>\n",
       "    </tr>\n",
       "    <tr>\n",
       "      <th>1</th>\n",
       "      <td>16/12/2006</td>\n",
       "      <td>17:25:00</td>\n",
       "      <td>5.36</td>\n",
       "      <td>0.44</td>\n",
       "      <td>233.63</td>\n",
       "      <td>23.00</td>\n",
       "      <td>0.00</td>\n",
       "      <td>1.00</td>\n",
       "      <td>16.00</td>\n",
       "    </tr>\n",
       "    <tr>\n",
       "      <th>2</th>\n",
       "      <td>16/12/2006</td>\n",
       "      <td>17:26:00</td>\n",
       "      <td>5.37</td>\n",
       "      <td>0.50</td>\n",
       "      <td>233.29</td>\n",
       "      <td>23.00</td>\n",
       "      <td>0.00</td>\n",
       "      <td>2.00</td>\n",
       "      <td>17.00</td>\n",
       "    </tr>\n",
       "    <tr>\n",
       "      <th>3</th>\n",
       "      <td>16/12/2006</td>\n",
       "      <td>17:27:00</td>\n",
       "      <td>5.39</td>\n",
       "      <td>0.50</td>\n",
       "      <td>233.74</td>\n",
       "      <td>23.00</td>\n",
       "      <td>0.00</td>\n",
       "      <td>1.00</td>\n",
       "      <td>17.00</td>\n",
       "    </tr>\n",
       "    <tr>\n",
       "      <th>4</th>\n",
       "      <td>16/12/2006</td>\n",
       "      <td>17:28:00</td>\n",
       "      <td>3.67</td>\n",
       "      <td>0.53</td>\n",
       "      <td>235.68</td>\n",
       "      <td>15.80</td>\n",
       "      <td>0.00</td>\n",
       "      <td>1.00</td>\n",
       "      <td>17.00</td>\n",
       "    </tr>\n",
       "  </tbody>\n",
       "</table>\n",
       "</div>"
      ],
      "text/plain": [
       "         Date      Time  Global_active_power  Global_reactive_power  Voltage  \\\n",
       "0  16/12/2006  17:24:00                 4.22                   0.42   234.84   \n",
       "1  16/12/2006  17:25:00                 5.36                   0.44   233.63   \n",
       "2  16/12/2006  17:26:00                 5.37                   0.50   233.29   \n",
       "3  16/12/2006  17:27:00                 5.39                   0.50   233.74   \n",
       "4  16/12/2006  17:28:00                 3.67                   0.53   235.68   \n",
       "\n",
       "   Global_intensity  Sub_metering_1  Sub_metering_2  Sub_metering_3  \n",
       "0             18.40            0.00            1.00           17.00  \n",
       "1             23.00            0.00            1.00           16.00  \n",
       "2             23.00            0.00            2.00           17.00  \n",
       "3             23.00            0.00            1.00           17.00  \n",
       "4             15.80            0.00            1.00           17.00  "
      ]
     },
     "execution_count": 1685,
     "metadata": {},
     "output_type": "execute_result"
    }
   ],
   "source": [
    "# Feature Modification\n",
    "from sklearn.impute import SimpleImputer\n",
    "\n",
    "df['Date'] = df['Date'].astype(str)\n",
    "df['Time'] = df['Time'].astype(str)\n",
    "df.replace(['?', 'nan', np.nan], -1, inplace=True) \n",
    "num_vars= ['Global_active_power', 'Global_reactive_power', 'Voltage', \n",
    "           'Global_intensity', 'Sub_metering_1', 'Sub_metering_2', 'Sub_metering_3']\n",
    "for i in num_vars:\n",
    "    df[i] = pd.to_numeric(df[i])\n",
    "imp = SimpleImputer(missing_values=-1, strategy='mean')\n",
    "df[num_vars] = imp.fit_transform(df[num_vars])\n",
    "\n",
    "df.head()"
   ]
  },
  {
   "cell_type": "code",
   "execution_count": 1686,
   "metadata": {},
   "outputs": [
    {
     "data": {
      "image/png": "[encoded data removed]",
      "text/plain": [
       "<Figure size 500x500 with 1 Axes>"
      ]
     },
     "metadata": {},
     "output_type": "display_data"
    },
    {
     "name": "stdout",
     "output_type": "stream",
     "text": [
      "CPU times: total: 500 ms\n",
      "Wall time: 1.33 s\n"
     ]
    }
   ],
   "source": [
    "%%time\n",
    "# Distribution of the target variables\n",
    "sns.displot(data=df, x='Global_active_power')\n",
    "plt.show()"
   ]
  },
  {
   "cell_type": "code",
   "execution_count": 1687,
   "metadata": {},
   "outputs": [],
   "source": [
    "# Excluir la columna de fechas del cálculo de la correlación\n",
    "df_corr = df.drop(columns=['Date', 'Time'])\n"
   ]
  },
  {
   "cell_type": "code",
   "execution_count": 1688,
   "metadata": {},
   "outputs": [
    {
     "data": {
      "image/png": "[encoded data removed]",
      "text/plain": [
       "<Figure size 1200x800 with 2 Axes>"
      ]
     },
     "metadata": {},
     "output_type": "display_data"
    },
    {
     "name": "stdout",
     "output_type": "stream",
     "text": [
      "CPU times: total: 328 ms\n",
      "Wall time: 887 ms\n"
     ]
    }
   ],
   "source": [
    "%%time\n",
    "corr = np.corrcoef(df_corr.corr())\n",
    "sns.heatmap(df_corr.corr(), annot=True)\n",
    "plt.show()"
   ]
  },
  {
   "cell_type": "markdown",
   "metadata": {},
   "source": [
    "### Train / test split process\n",
    "\n",
    "* Para poder entrenar el modelo se dividen los datos en entrenamiento (70%) y test (30%).\n",
    "* Se definen las variables independientes (**X**): *Global_reactive_power, Voltage, Global_intensity, Sub_metering_1, Sub_metering_2, Sub_metering_3*\n",
    "* Se define la variable dependiente (**Y**): *Global_active_power*."
   ]
  },
  {
   "cell_type": "code",
   "execution_count": 1689,
   "metadata": {},
   "outputs": [],
   "source": [
    "from sklearn.model_selection import train_test_split\n",
    "\n",
    "cols = ['Global_reactive_power','Voltage','Sub_metering_1','Sub_metering_2','Sub_metering_3']\n",
    "X = df[cols].values\n",
    "Y = df['Global_intensity'].values\n",
    "\n",
    "X_train, X_test, Y_train, Y_test = train_test_split(X, Y, test_size = 0.3, random_state = 13)"
   ]
  },
  {
   "cell_type": "markdown",
   "metadata": {},
   "source": [
    "### Métricas\n",
    "* Para medir la performance de nuestro modelo utilizaremos las siguientes métricas:\n",
    "    * Mean Absolute Error (**MAE**)\n",
    "    * Mean Squared Error (**RMSE**)\n",
    "    * Root Mean Squared Error: (**RMSE**)\n",
    "    * R2\n",
    "    * Explained variance"
   ]
  },
  {
   "cell_type": "code",
   "execution_count": 1690,
   "metadata": {},
   "outputs": [],
   "source": [
    "### Metrics\n",
    "from sklearn.metrics import mean_absolute_error,mean_squared_error,r2_score,explained_variance_score, mean_absolute_percentage_error, root_mean_squared_error\n",
    "\n",
    "def get_metrics(Y_test,pred):\n",
    "    mae = round(mean_absolute_error(Y_test,pred),3)\n",
    "    mse = round(mean_squared_error(Y_test, pred), 3)\n",
    "    rmse = round(root_mean_squared_error(Y_test, pred), 3)\n",
    "    mape = round(mean_absolute_percentage_error(Y_test, pred), 3)\n",
    "    r2 = round(r2_score(Y_test,pred), 4)\n",
    "    ev = round(explained_variance_score(Y_test,pred), 4)\n",
    "    return {'mae':mae,'mse':mse,'rmse':rmse, 'mape':mape,'r2':r2,'ev':ev}"
   ]
  },
  {
   "cell_type": "markdown",
   "metadata": {},
   "source": [
    "### Modelos\n",
    "\n",
    "Se desarrollan los modelos de regresión lineal, regularización de Ridge, regularización de Lasso, Elastic Net y Decision Tree.\n",
    "\n",
    "Adicionalmente se desarrollan los modelos con Cross Validation para Elastic Net, Ridge y Lasso."
   ]
  },
  {
   "cell_type": "code",
   "execution_count": 1691,
   "metadata": {},
   "outputs": [],
   "source": [
    "### variables para guardar información relevante de los modelos\n",
    "models = {}\n",
    "coefs = {}"
   ]
  },
  {
   "cell_type": "markdown",
   "metadata": {},
   "source": [
    "#### Linear Regression"
   ]
  },
  {
   "cell_type": "code",
   "execution_count": 1692,
   "metadata": {},
   "outputs": [
    {
     "name": "stdout",
     "output_type": "stream",
     "text": [
      "CPU times: total: 93.8 ms\n",
      "Wall time: 297 ms\n"
     ]
    }
   ],
   "source": [
    "%%time\n",
    "# https://scikit-learn.org/stable/modules/generated/sklearn.linear_model.LinearRegression.html\n",
    "from sklearn.linear_model import LinearRegression\n",
    "\n",
    "reg_model = LinearRegression()\n",
    "reg_model.fit(X_train,Y_train)\n",
    "pred = reg_model.predict(X_test)\n",
    "models['linear'] = get_metrics(Y_test,pred)\n",
    "coefs['linear'] = reg_model.coef_"
   ]
  },
  {
   "cell_type": "markdown",
   "metadata": {},
   "source": [
    "#### Ridge Regression"
   ]
  },
  {
   "cell_type": "code",
   "execution_count": 1693,
   "metadata": {},
   "outputs": [
    {
     "name": "stdout",
     "output_type": "stream",
     "text": [
      "CPU times: total: 15.6 ms\n",
      "Wall time: 187 ms\n"
     ]
    }
   ],
   "source": [
    "%%time\n",
    "# https://scikit-learn.org/stable/modules/generated/sklearn.linear_model.Ridge.html\n",
    "from sklearn.linear_model import Ridge\n",
    "\n",
    "alpha = 0.5\n",
    "ridge_model = Ridge(alpha=alpha, random_state=13)\n",
    "ridge_model.fit(X_train,Y_train)\n",
    "pred = ridge_model.predict(X_test)\n",
    "models['ridge'] = get_metrics(Y_test,pred)\n",
    "coefs['ridge'] = ridge_model.coef_"
   ]
  },
  {
   "cell_type": "markdown",
   "metadata": {},
   "source": [
    "#### Ridge Cross Validation"
   ]
  },
  {
   "cell_type": "code",
   "execution_count": 1694,
   "metadata": {},
   "outputs": [
    {
     "name": "stdout",
     "output_type": "stream",
     "text": [
      "CPU times: total: 422 ms\n",
      "Wall time: 673 ms\n"
     ]
    }
   ],
   "source": [
    "%%time\n",
    "# https://scikit-learn.org/stable/modules/generated/sklearn.linear_model.RidgeCV.html#sklearn.linear_model.RidgeCV\n",
    "from sklearn.linear_model import RidgeCV\n",
    "\n",
    "alphas = [0.1, 0.5, 0.8]\n",
    "ridgeCV_model = RidgeCV(alphas=alphas)\n",
    "ridgeCV_model.fit(X_train,Y_train)\n",
    "pred = ridgeCV_model.predict(X_test)\n",
    "models['ridgeCV'] = get_metrics(Y_test,pred)\n",
    "coefs['ridgeCV'] = ridgeCV_model.coef_"
   ]
  },
  {
   "cell_type": "markdown",
   "metadata": {},
   "source": [
    "#### Lasso Regression"
   ]
  },
  {
   "cell_type": "code",
   "execution_count": 1695,
   "metadata": {},
   "outputs": [
    {
     "name": "stdout",
     "output_type": "stream",
     "text": [
      "CPU times: total: 141 ms\n",
      "Wall time: 266 ms\n"
     ]
    }
   ],
   "source": [
    "%%time\n",
    "# https://scikit-learn.org/stable/modules/generated/sklearn.linear_model.Lasso.html\n",
    "from sklearn.linear_model import Lasso\n",
    "\n",
    "alpha = 0.5\n",
    "lasso_model = Lasso(alpha=alpha, random_state=13)\n",
    "lasso_model.fit(X_train, Y_train)\n",
    "pred = lasso_model.predict(X_test)\n",
    "models['lasso'] = get_metrics(Y_test,pred)\n",
    "coefs['lasso'] = lasso_model.coef_"
   ]
  },
  {
   "cell_type": "markdown",
   "metadata": {},
   "source": [
    "#### Lasso Cross Validation "
   ]
  },
  {
   "cell_type": "code",
   "execution_count": 1696,
   "metadata": {},
   "outputs": [
    {
     "name": "stdout",
     "output_type": "stream",
     "text": [
      "CPU times: total: 641 ms\n",
      "Wall time: 1.39 s\n"
     ]
    }
   ],
   "source": [
    "%%time\n",
    "# https://scikit-learn.org/stable/modules/generated/sklearn.linear_model.LassoCV.html#sklearn.linear_model.LassoCV\n",
    "from sklearn.linear_model import LassoCV\n",
    "\n",
    "alphas = [0.1, 0.5, 0.8]\n",
    "lassoCV_model = LassoCV(alphas=alphas, random_state=13)\n",
    "lassoCV_model.fit(X_train, Y_train)\n",
    "pred = lassoCV_model.predict(X_test)\n",
    "models['lassoCV'] = get_metrics(Y_test,pred)\n",
    "coefs['lassoCV'] = lassoCV_model.coef_"
   ]
  },
  {
   "cell_type": "markdown",
   "metadata": {},
   "source": [
    "## Ridge vs Lasso\n",
    "\n",
    "* Lasso consigue seleccionar predictores, es decir convierte a cero la importancia de un feature, en cambio Ridge considera todo, dando menos peso a los menos importantes.\n",
    "* Lasso tiene ventaja en escenarios donde no todos los predictores son importantes para el modelo y se desea que los **menos influyentes queden excluidos**.\n",
    "* Por otro lado, **cuando existen predictores altamente correlacionados linealmente, Ridge reduce la influencia de todos ellos a la vez y de forma proporcional**, **mientras que Lasso tiende a seleccionar uno de ellos, dándole todo el peso y excluyendo al resto.** En presencia de correlaciones, esta selección varía mucho con pequeñas perturbaciones (cambios en los datos de entrenamiento), por lo que, las soluciones de Lasso son muy inestables si los predictores están altamente correlacionados.\n",
    "* Para conseguir un equilibrio óptimo entre estas dos propiedades, se puede emplear lo que se conoce como penalización Elastic Net, que combina ambas estrategias."
   ]
  },
  {
   "cell_type": "markdown",
   "metadata": {},
   "source": [
    "#### Elastic Net"
   ]
  },
  {
   "cell_type": "code",
   "execution_count": 1697,
   "metadata": {},
   "outputs": [
    {
     "name": "stdout",
     "output_type": "stream",
     "text": [
      "CPU times: total: 1.64 s\n",
      "Wall time: 573 ms\n"
     ]
    }
   ],
   "source": [
    "%%time\n",
    "# https://scikit-learn.org/stable/modules/generated/sklearn.linear_model.ElasticNet.html?highlight=elastic%20net#sklearn.linear_model.ElasticNet\n",
    "from sklearn.linear_model import ElasticNet\n",
    "\n",
    "elastic_model = ElasticNet(random_state=13)\n",
    "elastic_model.fit(X_train, Y_train)\n",
    "pred = elastic_model.predict(X_test)\n",
    "models['elastic'] = get_metrics(Y_test,pred)\n",
    "coefs['elastic'] = elastic_model.coef_"
   ]
  },
  {
   "cell_type": "markdown",
   "metadata": {},
   "source": [
    "#### Elastic Net CV"
   ]
  },
  {
   "cell_type": "code",
   "execution_count": 1698,
   "metadata": {},
   "outputs": [
    {
     "name": "stdout",
     "output_type": "stream",
     "text": [
      "CPU times: total: 3.22 s\n",
      "Wall time: 3.62 s\n"
     ]
    }
   ],
   "source": [
    "%%time\n",
    "# https://scikit-learn.org/stable/modules/generated/sklearn.linear_model.ElasticNetCV.html#sklearn.linear_model.ElasticNetCV\n",
    "from sklearn.linear_model import ElasticNetCV\n",
    "\n",
    "elasticCV_model = ElasticNetCV(random_state=13)\n",
    "elasticCV_model.fit(X_train, Y_train)\n",
    "pred = elasticCV_model.predict(X_test)\n",
    "models['elasticCV'] = get_metrics(Y_test,pred)\n",
    "coefs['elasticCV'] = elasticCV_model.coef_"
   ]
  },
  {
   "cell_type": "markdown",
   "metadata": {},
   "source": [
    "#### Decision Tree"
   ]
  },
  {
   "cell_type": "code",
   "execution_count": 1699,
   "metadata": {},
   "outputs": [
    {
     "name": "stdout",
     "output_type": "stream",
     "text": [
      "CPU times: total: 2.56 s\n",
      "Wall time: 6.61 s\n"
     ]
    }
   ],
   "source": [
    "%%time\n",
    "# https://scikit-learn.org/stable/modules/generated/sklearn.tree.DecisionTreeRegressor.html#sklearn.tree.DecisionTreeRegressor\n",
    "from sklearn.tree import DecisionTreeRegressor\n",
    "\n",
    "tree_model = DecisionTreeRegressor(random_state=0)\n",
    "tree_model = tree_model.fit(X_train, Y_train)\n",
    "pred = tree_model.predict(X_test)\n",
    "models['decision_tree'] = get_metrics(Y_test,pred)"
   ]
  },
  {
   "cell_type": "markdown",
   "metadata": {},
   "source": [
    "### Verificación de resultados de los modelos"
   ]
  },
  {
   "cell_type": "code",
   "execution_count": 1700,
   "metadata": {},
   "outputs": [],
   "source": [
    "df_coef = pd.DataFrame.from_dict(coefs,orient='index',columns=cols).reset_index()\n",
    "df_metrics = pd.DataFrame.from_dict(models)"
   ]
  },
  {
   "cell_type": "code",
   "execution_count": 1701,
   "metadata": {},
   "outputs": [
    {
     "data": {
      "text/html": [
       "<div>\n",
       "<style scoped>\n",
       "    .dataframe tbody tr th:only-of-type {\n",
       "        vertical-align: middle;\n",
       "    }\n",
       "\n",
       "    .dataframe tbody tr th {\n",
       "        vertical-align: top;\n",
       "    }\n",
       "\n",
       "    .dataframe thead th {\n",
       "        text-align: right;\n",
       "    }\n",
       "</style>\n",
       "<table border=\"1\" class=\"dataframe\">\n",
       "  <thead>\n",
       "    <tr style=\"text-align: right;\">\n",
       "      <th></th>\n",
       "      <th>linear</th>\n",
       "      <th>ridge</th>\n",
       "      <th>ridgeCV</th>\n",
       "      <th>lasso</th>\n",
       "      <th>lassoCV</th>\n",
       "      <th>elastic</th>\n",
       "      <th>elasticCV</th>\n",
       "      <th>decision_tree</th>\n",
       "    </tr>\n",
       "  </thead>\n",
       "  <tbody>\n",
       "    <tr>\n",
       "      <th>mae</th>\n",
       "      <td>1.52</td>\n",
       "      <td>1.52</td>\n",
       "      <td>1.52</td>\n",
       "      <td>1.56</td>\n",
       "      <td>1.56</td>\n",
       "      <td>1.57</td>\n",
       "      <td>1.55</td>\n",
       "      <td>1.61</td>\n",
       "    </tr>\n",
       "    <tr>\n",
       "      <th>mse</th>\n",
       "      <td>5.05</td>\n",
       "      <td>5.05</td>\n",
       "      <td>5.05</td>\n",
       "      <td>5.32</td>\n",
       "      <td>5.29</td>\n",
       "      <td>5.33</td>\n",
       "      <td>5.21</td>\n",
       "      <td>7.30</td>\n",
       "    </tr>\n",
       "    <tr>\n",
       "      <th>rmse</th>\n",
       "      <td>2.25</td>\n",
       "      <td>2.25</td>\n",
       "      <td>2.25</td>\n",
       "      <td>2.31</td>\n",
       "      <td>2.30</td>\n",
       "      <td>2.31</td>\n",
       "      <td>2.28</td>\n",
       "      <td>2.70</td>\n",
       "    </tr>\n",
       "    <tr>\n",
       "      <th>mape</th>\n",
       "      <td>0.56</td>\n",
       "      <td>0.56</td>\n",
       "      <td>0.56</td>\n",
       "      <td>0.63</td>\n",
       "      <td>0.62</td>\n",
       "      <td>0.64</td>\n",
       "      <td>0.61</td>\n",
       "      <td>0.54</td>\n",
       "    </tr>\n",
       "    <tr>\n",
       "      <th>r2</th>\n",
       "      <td>0.74</td>\n",
       "      <td>0.74</td>\n",
       "      <td>0.74</td>\n",
       "      <td>0.73</td>\n",
       "      <td>0.73</td>\n",
       "      <td>0.73</td>\n",
       "      <td>0.73</td>\n",
       "      <td>0.63</td>\n",
       "    </tr>\n",
       "    <tr>\n",
       "      <th>ev</th>\n",
       "      <td>0.74</td>\n",
       "      <td>0.74</td>\n",
       "      <td>0.74</td>\n",
       "      <td>0.73</td>\n",
       "      <td>0.73</td>\n",
       "      <td>0.73</td>\n",
       "      <td>0.73</td>\n",
       "      <td>0.63</td>\n",
       "    </tr>\n",
       "  </tbody>\n",
       "</table>\n",
       "</div>"
      ],
      "text/plain": [
       "      linear  ridge  ridgeCV  lasso  lassoCV  elastic  elasticCV  \\\n",
       "mae     1.52   1.52     1.52   1.56     1.56     1.57       1.55   \n",
       "mse     5.05   5.05     5.05   5.32     5.29     5.33       5.21   \n",
       "rmse    2.25   2.25     2.25   2.31     2.30     2.31       2.28   \n",
       "mape    0.56   0.56     0.56   0.63     0.62     0.64       0.61   \n",
       "r2      0.74   0.74     0.74   0.73     0.73     0.73       0.73   \n",
       "ev      0.74   0.74     0.74   0.73     0.73     0.73       0.73   \n",
       "\n",
       "      decision_tree  \n",
       "mae            1.61  \n",
       "mse            7.30  \n",
       "rmse           2.70  \n",
       "mape           0.54  \n",
       "r2             0.63  \n",
       "ev             0.63  "
      ]
     },
     "execution_count": 1701,
     "metadata": {},
     "output_type": "execute_result"
    }
   ],
   "source": [
    "df_metrics"
   ]
  },
  {
   "cell_type": "code",
   "execution_count": 1702,
   "metadata": {},
   "outputs": [],
   "source": [
    "df_metrics_1 = df_metrics.copy()"
   ]
  },
  {
   "cell_type": "code",
   "execution_count": 1703,
   "metadata": {},
   "outputs": [
    {
     "data": {
      "text/html": [
       "<div>\n",
       "<style scoped>\n",
       "    .dataframe tbody tr th:only-of-type {\n",
       "        vertical-align: middle;\n",
       "    }\n",
       "\n",
       "    .dataframe tbody tr th {\n",
       "        vertical-align: top;\n",
       "    }\n",
       "\n",
       "    .dataframe thead th {\n",
       "        text-align: right;\n",
       "    }\n",
       "</style>\n",
       "<table border=\"1\" class=\"dataframe\">\n",
       "  <thead>\n",
       "    <tr style=\"text-align: right;\">\n",
       "      <th></th>\n",
       "      <th>index</th>\n",
       "      <th>Global_reactive_power</th>\n",
       "      <th>Voltage</th>\n",
       "      <th>Sub_metering_1</th>\n",
       "      <th>Sub_metering_2</th>\n",
       "      <th>Sub_metering_3</th>\n",
       "    </tr>\n",
       "  </thead>\n",
       "  <tbody>\n",
       "    <tr>\n",
       "      <th>0</th>\n",
       "      <td>linear</td>\n",
       "      <td>4.37</td>\n",
       "      <td>-0.18</td>\n",
       "      <td>0.27</td>\n",
       "      <td>0.26</td>\n",
       "      <td>0.27</td>\n",
       "    </tr>\n",
       "    <tr>\n",
       "      <th>1</th>\n",
       "      <td>ridge</td>\n",
       "      <td>4.37</td>\n",
       "      <td>-0.18</td>\n",
       "      <td>0.27</td>\n",
       "      <td>0.26</td>\n",
       "      <td>0.27</td>\n",
       "    </tr>\n",
       "    <tr>\n",
       "      <th>2</th>\n",
       "      <td>ridgeCV</td>\n",
       "      <td>4.37</td>\n",
       "      <td>-0.18</td>\n",
       "      <td>0.27</td>\n",
       "      <td>0.26</td>\n",
       "      <td>0.27</td>\n",
       "    </tr>\n",
       "    <tr>\n",
       "      <th>3</th>\n",
       "      <td>lasso</td>\n",
       "      <td>0.00</td>\n",
       "      <td>-0.15</td>\n",
       "      <td>0.27</td>\n",
       "      <td>0.26</td>\n",
       "      <td>0.27</td>\n",
       "    </tr>\n",
       "    <tr>\n",
       "      <th>4</th>\n",
       "      <td>lassoCV</td>\n",
       "      <td>0.00</td>\n",
       "      <td>-0.18</td>\n",
       "      <td>0.28</td>\n",
       "      <td>0.27</td>\n",
       "      <td>0.27</td>\n",
       "    </tr>\n",
       "    <tr>\n",
       "      <th>5</th>\n",
       "      <td>elastic</td>\n",
       "      <td>0.00</td>\n",
       "      <td>-0.14</td>\n",
       "      <td>0.27</td>\n",
       "      <td>0.26</td>\n",
       "      <td>0.27</td>\n",
       "    </tr>\n",
       "    <tr>\n",
       "      <th>6</th>\n",
       "      <td>elasticCV</td>\n",
       "      <td>0.84</td>\n",
       "      <td>-0.18</td>\n",
       "      <td>0.28</td>\n",
       "      <td>0.27</td>\n",
       "      <td>0.27</td>\n",
       "    </tr>\n",
       "  </tbody>\n",
       "</table>\n",
       "</div>"
      ],
      "text/plain": [
       "       index  Global_reactive_power  Voltage  Sub_metering_1  Sub_metering_2  \\\n",
       "0     linear                   4.37    -0.18            0.27            0.26   \n",
       "1      ridge                   4.37    -0.18            0.27            0.26   \n",
       "2    ridgeCV                   4.37    -0.18            0.27            0.26   \n",
       "3      lasso                   0.00    -0.15            0.27            0.26   \n",
       "4    lassoCV                   0.00    -0.18            0.28            0.27   \n",
       "5    elastic                   0.00    -0.14            0.27            0.26   \n",
       "6  elasticCV                   0.84    -0.18            0.28            0.27   \n",
       "\n",
       "   Sub_metering_3  \n",
       "0            0.27  \n",
       "1            0.27  \n",
       "2            0.27  \n",
       "3            0.27  \n",
       "4            0.27  \n",
       "5            0.27  \n",
       "6            0.27  "
      ]
     },
     "execution_count": 1703,
     "metadata": {},
     "output_type": "execute_result"
    }
   ],
   "source": [
    "df_coef"
   ]
  },
  {
   "cell_type": "code",
   "execution_count": 1704,
   "metadata": {},
   "outputs": [
    {
     "name": "stdout",
     "output_type": "stream",
     "text": [
      "Feature: 0, Score: 0.07641\n",
      "Feature: 1, Score: 0.11057\n",
      "Feature: 2, Score: 0.20018\n",
      "Feature: 3, Score: 0.15676\n",
      "Feature: 4, Score: 0.45607\n"
     ]
    }
   ],
   "source": [
    "importance = tree_model.feature_importances_\n",
    "# summarize feature importance\n",
    "for i,v in enumerate(importance):\n",
    "\tprint('Feature: %0d, Score: %.5f' % (i,v))"
   ]
  },
  {
   "cell_type": "markdown",
   "metadata": {},
   "source": []
  },
  {
   "cell_type": "markdown",
   "metadata": {},
   "source": [
    "### RESOLUCIÓN DE TAREA"
   ]
  },
  {
   "cell_type": "markdown",
   "metadata": {},
   "source": [
    "- (15%) Pregunta 1:\n",
    "    - ¿Qué entiende del método de ajuste por mínimos cuadrados ordinarios (OLS)? Investigue y desarrolle.\n",
    "\n",
    "- RESPUESTA:\n",
    "\n",
    "El método de ajuste por minimos cuadrados ordinarios es una técnica estadística utilizada para encontrar la relación lineal que mejor ajusta un conjunto de datos. En términos simples, el objetivo del OLS es minimizar la suma de los cuadrados de las diferencias entre los valores observados (reales) y los valores predichos por el modelo. Estas diferencias se conocen como residuos. En resumen, es un método para estimar los parámetros desconocidos en un modelo de regresión lineal. El objetivo es encontrar la línea (o hiperplano en dimensiones superiores) que mejor se ajuste a los datos minimizando la suma de las diferencias al cuadrado entre los valores observados y los valores predichos por el modelo.\n",
    "\n",
    "\n",
    "En el caso de un modelo de regresión lineal simple, se asume que la relación entre las variables puede expresarse como:\n",
    "\n",
    "y=β0+β1x1+ϵ\n",
    "\n",
    "Para un modelo de regresión lineal múltiple, la relación es:\n",
    "\n",
    "y=β0+β1x1+β2x2+⋯+βnxn+ϵ\n",
    "\n",
    "Donde:\n",
    "y: Variable dependiente o respuesta.\n",
    "x1: Variables independientes (predictoras).\n",
    "β0: Intercepto del modelo (valor de 𝑦 y cuando todas las 𝑥 𝑖 x i  son 0).\n",
    "β1: Coeficientes de las variables independientes que representan el impacto de cada 𝑥 𝑖 x i sobre 𝑦 y.\n",
    "ϵ: Término de error o residuo.\n",
    "\n",
    "El método OLS busca minimizar la suma de los cuadrados de los residuos:\n",
    "\n",
    "SSE=i=1∑n(yi−y^z)2\n",
    "\n",
    "Donde:\n",
    "yi: Valores observados de la variable dependiente.\n",
    "y^z: Valores predichos por el modelo.\n",
    "\n",
    "* Ejemplo y Desarrollo:\n",
    "Dado que estamos usando sklearn a continuación se muestra un ejemplo donde  la clase LinearRegression de scikit-learn aplica automáticamente OLS para encontrar la pendiente e intercepto que minimizan la suma de los errores cuadráticos (o residuos) entre las predicciones y los valores observados.\n",
    "\n",
    "Este es un ajuste clásico de regresión lineal, donde el modelo encuentra los coeficientes (pendiente e intercepto) que minimizan la función de error cuadrático medio (MSE), que es justamente el objetivo del método de OLS.\n"
   ]
  },
  {
   "cell_type": "code",
   "execution_count": 1705,
   "metadata": {},
   "outputs": [
    {
     "name": "stdout",
     "output_type": "stream",
     "text": [
      "Coeficiente de regresión (pendiente): 2.97\n",
      "Intercepto: 2.11\n",
      "Error cuadrático medio (MSE): 0.248\n",
      "Coeficiente de determinación (R²): 0.7470\n"
     ]
    },
    {
     "data": {
      "image/png": "[encoded data removed]",
      "text/plain": [
       "<Figure size 1200x800 with 1 Axes>"
      ]
     },
     "metadata": {},
     "output_type": "display_data"
    }
   ],
   "source": [
    "import numpy as np\n",
    "import matplotlib.pyplot as plt\n",
    "from sklearn.linear_model import LinearRegression\n",
    "from sklearn.metrics import mean_squared_error, r2_score\n",
    "\n",
    "# Conjunto de datos de ejemplo\n",
    "np.random.seed(0)\n",
    "X = np.random.rand(100, 1)  # Variable independiente\n",
    "y = 3 * X.squeeze() + 2 + np.random.randn(100) * 0.5  # Variable dependiente\n",
    "\n",
    "# Crear y entrenar el modelo de regresión lineal\n",
    "model = LinearRegression()\n",
    "model.fit(X, y)\n",
    "\n",
    "# Predecir los valores\n",
    "y_pred = model.predict(X)\n",
    "\n",
    "# Coeficientes del modelo\n",
    "print(f\"Coeficiente de regresión (pendiente): {model.coef_[0]:.2f}\")\n",
    "print(f\"Intercepto: {model.intercept_:.2f}\")\n",
    "print(f\"Error cuadrático medio (MSE): {mean_squared_error(y, y_pred):.3f}\")\n",
    "print(f\"Coeficiente de determinación (R²): {r2_score(y, y_pred):.4f}\")\n",
    "\n",
    "# Graficar los datos y la línea de regresión\n",
    "plt.scatter(X, y, label='Datos', color='blue', alpha=0.6)\n",
    "plt.plot(X, y_pred, color='red', label='Línea de regresión OLS')\n",
    "plt.xlabel('X')\n",
    "plt.ylabel('y')\n",
    "plt.legend()\n",
    "plt.title('Regresión Lineal con Scikit-learn')\n",
    "plt.show()\n"
   ]
  },
  {
   "cell_type": "markdown",
   "metadata": {},
   "source": [
    "* Resultado:\n",
    "\n",
    "El resultado de model.coef_ y model.intercept_ corresponde a la pendiente y el intercepto de la recta ajustada, y el valor de R² te indica qué tan bien se ajusta el modelo a los datos.\n",
    "\n",
    "Para entender estos resultados desde la perspectiva del ajuste por Mínimos Cuadrados Ordinarios (OLS), es importante recordar que el objetivo de este metodo es encontrar los valores de los coeficientes (pendiente e intercepto) de la recta de regresión que minimicen la suma de los errores cuadráticos entre las predicciones del modelo y los valores observados.\n",
    "\n",
    "* El valor de la pendiente 𝛽1=2.97 indica que, por cada unidad de aumento en 𝑋, el modelo predice un aumento de aproximadamente 2.97 unidades en 𝑦. Este es el resultado de ajustar la línea de tal manera que el error cuadrático (yi−y^z)2 se minimice globalmente.\n",
    "\n",
    "* El intercepto 𝛽0 = 2.11 es el valor en el que la recta de regresión corta el eje 𝑦. Este valor tambin se obtiene a través de OLS, y es la estimación de 𝑦 cuando X=0. OLS ajusta el modelo para que esta constante sea tal que, cuando el valor de 𝑋 es 0, la estimación de 𝑦  sea la mas cercana posible a los valores observados.\n",
    "\n",
    "* En el contexto de OLS, el método busca minimizar la suma de los cuadrados de estos residuos. Un MSE bajo 0.248 como del ejemplo  indica que las prediciones del modelo están bastante cerca de los valores observados, aunque no son perfectas. El objetivo de OLS es encontrar los coeficientes de manera que el MSE sea lo mas bajo posible.\n",
    "\n",
    "* El R² indica la proporción de la variabilidad de 𝑦 explicada por el modelo, lo cual también es un reflejo de cuán efectivo ha sido el ajuste OLS. Un valor de R² de 0.74 significa que el 74.7% de la variabilidad en los valores de 𝑦 y se puede explicar a través del modelo lineal. El resto (25.3%) se debe a factores que no son capturados por la regresion, es decir, el error residual."
   ]
  },
  {
   "cell_type": "markdown",
   "metadata": {},
   "source": [
    "- (15%) Pregunta 2:\n",
    "¿En qué casos puede ser útil medir el **MAPE** como métrica de error? En el código se le entrega el método para calcular la métrica.\n",
    "\n",
    "- RESPUESTA:\n",
    "\n",
    "Medir el MAPE como métrica de error puede ser útil en los siguientes casos:\n",
    "\n",
    "* 1-Interpretabilidad porcentual:\n",
    "\n",
    "El MAPE es útil cuando queremos expresar el error en porcentajes, lo que facilita la comprensión, especialmente para audiencias no técnicas. Por ejemplo, en este ejercicio, si se evalúa la variable Global Intensity (en amperios), un error promedio de x %  resulta mas facil de interpretar que un valor absoluto en amperios. Esto permite que los resultados del modelo sean más accesibles para quienes no están familiarizados con las unidades técnicas.\n",
    "\n",
    "* 2-Comparación entre diferentes conjuntos de datos o modelos:\n",
    "\n",
    "Al ser una metrica adimensional, es especialmente útil para comparar el rendimiento de diferentes modelos o conjuntos de datos. En este caso, si se aplican modelos con la misma entrada pero diferentes variables objetivo (por ejemplo, Global Intensity y Power Consunption), el MAPE permite una comparación justa, siempre y cuando los valores reales sean positivos y suficientemente grandes.\n",
    "\n",
    "* 3-Evaluación en problemas donde los errores relativos son críticos:\n",
    "\n",
    "En situaciones donde los errores relativos son más importantes que los absolutos, el MAPE es una métrica clave. Por ejemplo, al predecir el consumo energético (Power Consumption), un error porcentual tiene mayor relevancia para la planificación que un error absoluto, ya que las decisiones estratégicas suelen depender de la precisión relativa en lugar de valores absolutos.\n",
    "\n",
    "* 4-Toma de decisiones basada en precisión relativa:\n",
    "\n",
    "En casos donde las decisiones dependen de la relación entre la predicción y los valores reales. Por ejemplo, en este ejercicio, al analizar variables como Global Active Power, un error porcentual brinda información directa sobre el impacto relativo en el consumo energético, lo que es crucial para análisis financieros o de costos."
   ]
  },
  {
   "cell_type": "markdown",
   "metadata": {},
   "source": [
    "- (70%) Pregunta 3:\n",
    "\n",
    "    - Utilice los mismos datos y códigos del ejemplo a continuación, pero utilizando lo siguiente:\n",
    "        * **X**: *Global_reactive_power, Voltage, Sub_metering_1, Sub_metering_2, Sub_metering_3*\n",
    "        * **Y**: *Global Intensity*\n",
    "\n",
    "    - **Preguntas**:\n",
    "\n",
    "        * ¿Existen valores anormales en los datos (outliers)? ¿será necesario hacer algún tipo de tratamiento a estos datos?.\n",
    "        * ¿Será necesario escalar los datos?, en caso de utilizar algún método de escalamiento (MinMax, Standard, Robust, otro), ¿mejora o empeora los resultados de los modelos?.\n",
    "        * ¿Para qué sirve la métrica *explained variance*? El cálculo se encuentra en el código.\n",
    "        * ¿Qué hiperparámetros de los modelos modificó para llegar a la mejor solución?\n",
    "        * De los modelos que desarrolló ¿cuál es el que tiene mejor performance respecto a las métricas? interprete los resultados basándose en las métricas.\n",
    "        * ¿Qué diferencias observa al mirar los coeficientes de cada modelo? Interprete cuales son las variables que mejor modelan el problema."
   ]
  },
  {
   "cell_type": "markdown",
   "metadata": {},
   "source": [
    "* ¿Existen valores anormales en los datos (outliers)? ¿será necesario hacer algún tipo de tratamiento a estos datos?.\n",
    "\n",
    "# RESPUESTA:\n",
    "\n",
    "* Identificación de Outliers: Lo primero que tenemos que hacer es evaluar si el conjunto de datos, tanto las variables predictoras como la variable de salida (dependiente), contienen outliers. Para ello, utilizamos gráficos como los boxplots para detectar valores que se encuentran fuera del rango intercuartílico (es decir, fuera de los límites definidos por Q1 - 1.5IQR y Q3 + 1.5IQR). Además, los histogramas pueden proporcionarnos una visualización adicional para observar la distribución de las variables y la presencia de valores extremos.\n",
    "\n",
    "* Evaluación del dataset: Como primer paso, es importante también verificar que no haya valores nulos en las variables, lo cual se trata generalmente al inicio del proceso (como se realizó en el notebook).\n",
    "\n",
    "* Tratamiento de Outliers: La necesidad de tratar los outliers depende del impacto que tengan sobre el modelo. Si los valores extremos afectan la precisión o el ajuste del modelo, por ejemplo, , la regresión lineal es sensible a los outliers, por lo que debemos tratar los valores anómalos antes de entrenar el modelo, sin embargo, Ridge regression es más robusta que la regresión lineal estándar, ya que utiliza regularización, lo que reduce la magnitud de los coeficientes. Aunque no es tan sensible a los outliers como la regresión lineal simple.\n",
    "\n",
    "* Aunque Ridge y Elastic Net son menos sensibles a los outliers gracias a la regularización, lo mas recomendable seria tratarlos antes de entrenar los modelos (especialmente para Lasso y regresion lineal). Algunas de las técnicas que podemos aplicar son:\n",
    "\n",
    "* 1.Eliminación de Outliers: Utilizando los límites definidos por el IQR o puntaje Z, podemos eliminar los valores que estén fuera del rango aceptable.\n",
    "* 2.Imputación de Outliers: En lugar de eliminar los valores, podemos sustituir los outliers por la mediana o el percentil más cercano dentro del rango aceptable. Esto es útil para preservar la mayor cantidad de datos posible sin perder información relevante.\n",
    "* 3-Tratamiento Individualizado: En algunos casos, puede ser útil investigar cada caso extremo manualmente para determinar si debe eliminarse o ajustarse según el contexto. Esto puede implicar la revisión de casos específicos en el dataset, especialmente si no se tiene información técnica detallada.\n",
    "* 4-Cálculo del Puntaje Z: Se calcula el puntaje Z para cada dato. Si el puntaje Z es mayor a 3 o menor a -3, se considera un outlier. Este método estadístico es útil para identificar valores extremos que podrían estar afectando el modelo.\n",
    "* 5-Transformación Logarítmica o Raíz Cuadrada: Si las variables tienen una distribución sesgada, aplicar una transformación logarítmica o una raíz cuadrada puede reducir el impacto de los outliers al \"comprimir\" los valores extremos.\n",
    "* 6-Clipping o Winsorizing: Esta técnica implica recortar los valores extremos, asignándoles un valor máximo o mínimo razonable para evitar que influencien demasiado el modelo, manteniendo la distribución general sin perder demasiada variabilidad.\n",
    "\n",
    "* Consideraciones Técnicas: Aunque los outliers deben tratarse utilizando métodos estadísticos, como los mencionados anteriormente, es importante tener en cuenta el conocimiento técnico del dominio. En este caso, aunque los outliers pueden ser detectados con métodos estadísticos, no siempre son errores. Pueden ser eventos legítimos (por ejemplo, un pico de consumo eléctrico durante un evento inusual). Por lo tanto, siempre es recomendable consultar con expertos o tener un conocimiento del contexto para validar si esos outliers son realmente anómalos o si representan eventos significativos en el dataset.\n",
    "\n"
   ]
  },
  {
   "cell_type": "code",
   "execution_count": null,
   "metadata": {},
   "outputs": [],
   "source": []
  },
  {
   "cell_type": "markdown",
   "metadata": {},
   "source": [
    "# Análisis de Datos y Tratamiento de outliers"
   ]
  },
  {
   "cell_type": "code",
   "execution_count": 1706,
   "metadata": {},
   "outputs": [
    {
     "data": {
      "text/html": [
       "<div>\n",
       "<style scoped>\n",
       "    .dataframe tbody tr th:only-of-type {\n",
       "        vertical-align: middle;\n",
       "    }\n",
       "\n",
       "    .dataframe tbody tr th {\n",
       "        vertical-align: top;\n",
       "    }\n",
       "\n",
       "    .dataframe thead th {\n",
       "        text-align: right;\n",
       "    }\n",
       "</style>\n",
       "<table border=\"1\" class=\"dataframe\">\n",
       "  <thead>\n",
       "    <tr style=\"text-align: right;\">\n",
       "      <th></th>\n",
       "      <th>Global_active_power</th>\n",
       "      <th>Global_reactive_power</th>\n",
       "      <th>Voltage</th>\n",
       "      <th>Global_intensity</th>\n",
       "      <th>Sub_metering_1</th>\n",
       "      <th>Sub_metering_2</th>\n",
       "      <th>Sub_metering_3</th>\n",
       "    </tr>\n",
       "  </thead>\n",
       "  <tbody>\n",
       "    <tr>\n",
       "      <th>count</th>\n",
       "      <td>2075259.00</td>\n",
       "      <td>2075259.00</td>\n",
       "      <td>2075259.00</td>\n",
       "      <td>2075259.00</td>\n",
       "      <td>2075259.00</td>\n",
       "      <td>2075259.00</td>\n",
       "      <td>2075259.00</td>\n",
       "    </tr>\n",
       "    <tr>\n",
       "      <th>mean</th>\n",
       "      <td>1.09</td>\n",
       "      <td>0.12</td>\n",
       "      <td>240.84</td>\n",
       "      <td>4.63</td>\n",
       "      <td>1.12</td>\n",
       "      <td>1.30</td>\n",
       "      <td>6.46</td>\n",
       "    </tr>\n",
       "    <tr>\n",
       "      <th>std</th>\n",
       "      <td>1.05</td>\n",
       "      <td>0.11</td>\n",
       "      <td>3.22</td>\n",
       "      <td>4.42</td>\n",
       "      <td>6.11</td>\n",
       "      <td>5.79</td>\n",
       "      <td>8.38</td>\n",
       "    </tr>\n",
       "    <tr>\n",
       "      <th>min</th>\n",
       "      <td>0.08</td>\n",
       "      <td>0.00</td>\n",
       "      <td>223.20</td>\n",
       "      <td>0.20</td>\n",
       "      <td>0.00</td>\n",
       "      <td>0.00</td>\n",
       "      <td>0.00</td>\n",
       "    </tr>\n",
       "    <tr>\n",
       "      <th>25%</th>\n",
       "      <td>0.31</td>\n",
       "      <td>0.05</td>\n",
       "      <td>239.02</td>\n",
       "      <td>1.40</td>\n",
       "      <td>0.00</td>\n",
       "      <td>0.00</td>\n",
       "      <td>0.00</td>\n",
       "    </tr>\n",
       "    <tr>\n",
       "      <th>50%</th>\n",
       "      <td>0.63</td>\n",
       "      <td>0.10</td>\n",
       "      <td>240.96</td>\n",
       "      <td>2.80</td>\n",
       "      <td>0.00</td>\n",
       "      <td>0.00</td>\n",
       "      <td>1.00</td>\n",
       "    </tr>\n",
       "    <tr>\n",
       "      <th>75%</th>\n",
       "      <td>1.52</td>\n",
       "      <td>0.19</td>\n",
       "      <td>242.86</td>\n",
       "      <td>6.40</td>\n",
       "      <td>0.00</td>\n",
       "      <td>1.00</td>\n",
       "      <td>17.00</td>\n",
       "    </tr>\n",
       "    <tr>\n",
       "      <th>max</th>\n",
       "      <td>11.12</td>\n",
       "      <td>1.39</td>\n",
       "      <td>254.15</td>\n",
       "      <td>48.40</td>\n",
       "      <td>88.00</td>\n",
       "      <td>80.00</td>\n",
       "      <td>31.00</td>\n",
       "    </tr>\n",
       "  </tbody>\n",
       "</table>\n",
       "</div>"
      ],
      "text/plain": [
       "       Global_active_power  Global_reactive_power    Voltage  \\\n",
       "count           2075259.00             2075259.00 2075259.00   \n",
       "mean                  1.09                   0.12     240.84   \n",
       "std                   1.05                   0.11       3.22   \n",
       "min                   0.08                   0.00     223.20   \n",
       "25%                   0.31                   0.05     239.02   \n",
       "50%                   0.63                   0.10     240.96   \n",
       "75%                   1.52                   0.19     242.86   \n",
       "max                  11.12                   1.39     254.15   \n",
       "\n",
       "       Global_intensity  Sub_metering_1  Sub_metering_2  Sub_metering_3  \n",
       "count        2075259.00      2075259.00      2075259.00      2075259.00  \n",
       "mean               4.63            1.12            1.30            6.46  \n",
       "std                4.42            6.11            5.79            8.38  \n",
       "min                0.20            0.00            0.00            0.00  \n",
       "25%                1.40            0.00            0.00            0.00  \n",
       "50%                2.80            0.00            0.00            1.00  \n",
       "75%                6.40            0.00            1.00           17.00  \n",
       "max               48.40           88.00           80.00           31.00  "
      ]
     },
     "execution_count": 1706,
     "metadata": {},
     "output_type": "execute_result"
    }
   ],
   "source": [
    "df.describe()"
   ]
  },
  {
   "cell_type": "code",
   "execution_count": 1707,
   "metadata": {},
   "outputs": [
    {
     "data": {
      "image/png": "[encoded data removed]",
      "text/plain": [
       "<Figure size 2000x1000 with 6 Axes>"
      ]
     },
     "metadata": {},
     "output_type": "display_data"
    }
   ],
   "source": [
    "# comprueba si existe outliers en las variables, Global_reactive_power, Voltage, Sub_metering_1, Sub_metering_2, Sub_metering_3 y Global Intensity\n",
    "fig, axs = plt.subplots(2, 3, figsize=(20, 10))\n",
    "sns.boxplot(data=df, x='Global_reactive_power', ax=axs[0, 0])\n",
    "sns.boxplot(data=df, x='Voltage', ax=axs[0, 1])\n",
    "sns.boxplot(data=df, x='Sub_metering_1', ax=axs[0, 2])\n",
    "sns.boxplot(data=df, x='Sub_metering_2', ax=axs[1, 0])\n",
    "sns.boxplot(data=df, x='Sub_metering_3', ax=axs[1, 1])\n",
    "sns.boxplot(data=df, x='Global_intensity', ax=axs[1, 2])\n",
    "plt.show()"
   ]
  },
  {
   "cell_type": "code",
   "execution_count": 1708,
   "metadata": {},
   "outputs": [
    {
     "data": {
      "image/png": "[encoded data removed]",
      "text/plain": [
       "<Figure size 2000x1000 with 6 Axes>"
      ]
     },
     "metadata": {},
     "output_type": "display_data"
    }
   ],
   "source": [
    "fig, axs = plt.subplots(2, 3, figsize=(20, 10))\n",
    "sns.histplot(data=df, x='Global_reactive_power', bins=50, ax=axs[0, 0])\n",
    "sns.histplot(data=df, x='Voltage',bins=50, ax=axs[0, 1])\n",
    "sns.histplot(data=df, x='Sub_metering_1', bins=10, ax=axs[0, 2])\n",
    "sns.histplot(data=df, x='Sub_metering_2', bins=10, ax=axs[1, 0])\n",
    "sns.histplot(data=df, x='Sub_metering_3', bins=10, ax=axs[1, 1])\n",
    "sns.histplot(data=df, x='Global_intensity', bins=10, ax=axs[1, 2])\n",
    "\n",
    "plt.show()"
   ]
  },
  {
   "cell_type": "code",
   "execution_count": 1709,
   "metadata": {},
   "outputs": [],
   "source": [
    "# Calcular IQC Max y Minimo para las variables Global_reactive_power, Voltage, Sub_metering_1, Sub_metering_2, Sub_metering_3 y Global Intensity\n",
    "def iqr_outliers(df, column):\n",
    "    Q1 = df[column].quantile(0.25)\n",
    "    Q3 = df[column].quantile(0.75)\n",
    "    IQR = Q3 - Q1\n",
    "    min_value = max(0, Q1 - 1.5 * IQR)  # Asegura que el mínimo no sea menor que 0\n",
    "    max_value = Q3 + 1.5 * IQR\n",
    "    return min_value, max_value\n"
   ]
  },
  {
   "cell_type": "code",
   "execution_count": 1710,
   "metadata": {},
   "outputs": [
    {
     "name": "stdout",
     "output_type": "stream",
     "text": [
      " Min: 0, Max: 0.0\n",
      " Min: 0, Max: 2.5\n",
      " Min: 0, Max: 42.5\n"
     ]
    }
   ],
   "source": [
    "min_value, max_value = iqr_outliers(df, 'Sub_metering_1')\n",
    "print(f' Min: {min_value}, Max: {max_value}')\n",
    "\n",
    "min_value, max_value = iqr_outliers(df, 'Sub_metering_2')\n",
    "print(f' Min: {min_value}, Max: {max_value}')\n",
    "\n",
    "min_value, max_value = iqr_outliers(df, 'Sub_metering_3')\n",
    "print(f' Min: {min_value}, Max: {max_value}')"
   ]
  },
  {
   "cell_type": "markdown",
   "metadata": {},
   "source": [
    " * Como podemos observar en la columna \"Sub_metering_1\" en este caso no tendriamos tratamiento efectivo de outliers si el rango intercuartil (IQR) resulta en límites de min_value y max_value iguales a 0.0. Esto ocurre porque los datos están altamente sesgados hacia ceros, y el cálculo de IQR (basado en los percentiles 25% y 75%) no captura valores significativos que se puedan considerar como \"atípicos\".\n",
    "\n",
    "\n",
    "* Sub_metering_1:\n",
    "\n",
    "Percentiles (25%, 50%, 75%): Todos están en 0.0, indicando que la mayoría de los valores son ceros.\n",
    "Esto resulta en un IQR = 0, lo que hace que el tratamiento de outliers basado en IQR no funcione.\n",
    "\n",
    "\n",
    "* Dado lo anterior consideramos solo limpiar el dataframe de los valores outliers los que no estan sesgados por 0 como ,Sub_metering_2, Sub_metering_3 Global_reactive_power,Voltage y Global_intensity"
   ]
  },
  {
   "cell_type": "code",
   "execution_count": 1711,
   "metadata": {},
   "outputs": [],
   "source": [
    "df2 = df.copy()"
   ]
  },
  {
   "cell_type": "code",
   "execution_count": 1712,
   "metadata": {},
   "outputs": [
    {
     "name": "stdout",
     "output_type": "stream",
     "text": [
      " Min: 0, Max: 2.5\n"
     ]
    }
   ],
   "source": [
    "min_value, max_value = iqr_outliers(df2, 'Sub_metering_2')\n",
    "print(f' Min: {min_value}, Max: {max_value}')"
   ]
  },
  {
   "cell_type": "code",
   "execution_count": 1713,
   "metadata": {},
   "outputs": [],
   "source": [
    "# Actualiza el df2 para filtrarlo eliminado los valores atípicos min_value y max_value\n",
    "df2 = df2[(df2['Sub_metering_2'] >= min_value) & (df2['Sub_metering_2'] <= max_value)]"
   ]
  },
  {
   "cell_type": "code",
   "execution_count": 1714,
   "metadata": {},
   "outputs": [
    {
     "name": "stdout",
     "output_type": "stream",
     "text": [
      " Min: 0, Max: 42.5\n"
     ]
    }
   ],
   "source": [
    "min_value, max_value = iqr_outliers(df2, 'Sub_metering_3')\n",
    "print(f' Min: {min_value}, Max: {max_value}')"
   ]
  },
  {
   "cell_type": "code",
   "execution_count": 1715,
   "metadata": {},
   "outputs": [],
   "source": [
    "# Actualiza el df2 para filtrarlo eliminado los valores atípicos min_value y max_value\n",
    "df2 = df2[(df2['Sub_metering_3'] >= min_value) & (df2['Sub_metering_3'] <= max_value)]"
   ]
  },
  {
   "cell_type": "code",
   "execution_count": 1716,
   "metadata": {},
   "outputs": [
    {
     "name": "stdout",
     "output_type": "stream",
     "text": [
      " Min: 0, Max: 0.398\n"
     ]
    }
   ],
   "source": [
    "min_value, max_value = iqr_outliers(df2, 'Global_reactive_power')\n",
    "print(f' Min: {min_value}, Max: {max_value}')"
   ]
  },
  {
   "cell_type": "code",
   "execution_count": 1717,
   "metadata": {},
   "outputs": [],
   "source": [
    "# Actualiza el df2 para filtrarlo eliminado los valores atípicos min_value y max_value\n",
    "df2 = df2[(df2['Global_reactive_power'] >= min_value) & (df2['Global_reactive_power'] <= max_value)]"
   ]
  },
  {
   "cell_type": "code",
   "execution_count": 1718,
   "metadata": {},
   "outputs": [
    {
     "name": "stdout",
     "output_type": "stream",
     "text": [
      " Min: 233.565, Max: 248.565\n"
     ]
    }
   ],
   "source": [
    "min_value, max_value = iqr_outliers(df2, 'Voltage')\n",
    "print(f' Min: {min_value}, Max: {max_value}')"
   ]
  },
  {
   "cell_type": "code",
   "execution_count": 1719,
   "metadata": {},
   "outputs": [],
   "source": [
    "# Actualiza el df2 para filtrarlo eliminado los valores atípicos min_value y max_value\n",
    "df2 = df2[(df2['Voltage'] >= min_value) & (df2['Voltage'] <= max_value)]"
   ]
  },
  {
   "cell_type": "code",
   "execution_count": 1720,
   "metadata": {},
   "outputs": [
    {
     "name": "stdout",
     "output_type": "stream",
     "text": [
      " Min: 0, Max: 12.899999999999999\n"
     ]
    }
   ],
   "source": [
    "min_value, max_value = iqr_outliers(df2, 'Global_intensity')\n",
    "print(f' Min: {min_value}, Max: {max_value}')"
   ]
  },
  {
   "cell_type": "code",
   "execution_count": 1721,
   "metadata": {},
   "outputs": [],
   "source": [
    "#Actualiza el df2 para filtrarlo eliminado los valores atípicos min_value y max_value\n",
    "df2 = df2[(df2['Global_intensity'] >= min_value) & (df2['Global_intensity'] <= max_value)]"
   ]
  },
  {
   "cell_type": "code",
   "execution_count": 1722,
   "metadata": {},
   "outputs": [
    {
     "data": {
      "image/png": "[encoded data removed]",
      "text/plain": [
       "<Figure size 2000x1000 with 6 Axes>"
      ]
     },
     "metadata": {},
     "output_type": "display_data"
    }
   ],
   "source": [
    "fig, axs = plt.subplots(2, 3, figsize=(20, 10))\n",
    "sns.boxplot(data=df2, x='Global_reactive_power', ax=axs[0, 0])\n",
    "sns.boxplot(data=df2, x='Voltage', ax=axs[0, 1])\n",
    "sns.boxplot(data=df2, x='Sub_metering_1', ax=axs[0, 2])\n",
    "sns.boxplot(data=df2, x='Sub_metering_2', ax=axs[1, 0])\n",
    "sns.boxplot(data=df2, x='Sub_metering_3', ax=axs[1, 1])\n",
    "sns.boxplot(data=df2, x='Global_intensity', ax=axs[1, 2])\n",
    "plt.show()"
   ]
  },
  {
   "cell_type": "code",
   "execution_count": 1723,
   "metadata": {},
   "outputs": [
    {
     "data": {
      "text/html": [
       "<div>\n",
       "<style scoped>\n",
       "    .dataframe tbody tr th:only-of-type {\n",
       "        vertical-align: middle;\n",
       "    }\n",
       "\n",
       "    .dataframe tbody tr th {\n",
       "        vertical-align: top;\n",
       "    }\n",
       "\n",
       "    .dataframe thead th {\n",
       "        text-align: right;\n",
       "    }\n",
       "</style>\n",
       "<table border=\"1\" class=\"dataframe\">\n",
       "  <thead>\n",
       "    <tr style=\"text-align: right;\">\n",
       "      <th></th>\n",
       "      <th>Global_active_power</th>\n",
       "      <th>Global_reactive_power</th>\n",
       "      <th>Voltage</th>\n",
       "      <th>Global_intensity</th>\n",
       "      <th>Sub_metering_1</th>\n",
       "      <th>Sub_metering_2</th>\n",
       "      <th>Sub_metering_3</th>\n",
       "    </tr>\n",
       "  </thead>\n",
       "  <tbody>\n",
       "    <tr>\n",
       "      <th>count</th>\n",
       "      <td>1839826.00</td>\n",
       "      <td>1839826.00</td>\n",
       "      <td>1839826.00</td>\n",
       "      <td>1839826.00</td>\n",
       "      <td>1839826.00</td>\n",
       "      <td>1839826.00</td>\n",
       "      <td>1839826.00</td>\n",
       "    </tr>\n",
       "    <tr>\n",
       "      <th>mean</th>\n",
       "      <td>0.87</td>\n",
       "      <td>0.11</td>\n",
       "      <td>241.19</td>\n",
       "      <td>3.69</td>\n",
       "      <td>0.28</td>\n",
       "      <td>0.36</td>\n",
       "      <td>5.84</td>\n",
       "    </tr>\n",
       "    <tr>\n",
       "      <th>std</th>\n",
       "      <td>0.71</td>\n",
       "      <td>0.09</td>\n",
       "      <td>2.77</td>\n",
       "      <td>2.95</td>\n",
       "      <td>2.68</td>\n",
       "      <td>0.62</td>\n",
       "      <td>8.16</td>\n",
       "    </tr>\n",
       "    <tr>\n",
       "      <th>min</th>\n",
       "      <td>0.08</td>\n",
       "      <td>0.00</td>\n",
       "      <td>233.57</td>\n",
       "      <td>0.20</td>\n",
       "      <td>0.00</td>\n",
       "      <td>0.00</td>\n",
       "      <td>0.00</td>\n",
       "    </tr>\n",
       "    <tr>\n",
       "      <th>25%</th>\n",
       "      <td>0.30</td>\n",
       "      <td>0.05</td>\n",
       "      <td>239.48</td>\n",
       "      <td>1.40</td>\n",
       "      <td>0.00</td>\n",
       "      <td>0.00</td>\n",
       "      <td>0.00</td>\n",
       "    </tr>\n",
       "    <tr>\n",
       "      <th>50%</th>\n",
       "      <td>0.48</td>\n",
       "      <td>0.10</td>\n",
       "      <td>241.20</td>\n",
       "      <td>2.20</td>\n",
       "      <td>0.00</td>\n",
       "      <td>0.00</td>\n",
       "      <td>1.00</td>\n",
       "    </tr>\n",
       "    <tr>\n",
       "      <th>75%</th>\n",
       "      <td>1.41</td>\n",
       "      <td>0.18</td>\n",
       "      <td>242.99</td>\n",
       "      <td>5.80</td>\n",
       "      <td>0.00</td>\n",
       "      <td>1.00</td>\n",
       "      <td>17.00</td>\n",
       "    </tr>\n",
       "    <tr>\n",
       "      <th>max</th>\n",
       "      <td>3.19</td>\n",
       "      <td>0.40</td>\n",
       "      <td>248.56</td>\n",
       "      <td>12.80</td>\n",
       "      <td>48.00</td>\n",
       "      <td>2.00</td>\n",
       "      <td>31.00</td>\n",
       "    </tr>\n",
       "  </tbody>\n",
       "</table>\n",
       "</div>"
      ],
      "text/plain": [
       "       Global_active_power  Global_reactive_power    Voltage  \\\n",
       "count           1839826.00             1839826.00 1839826.00   \n",
       "mean                  0.87                   0.11     241.19   \n",
       "std                   0.71                   0.09       2.77   \n",
       "min                   0.08                   0.00     233.57   \n",
       "25%                   0.30                   0.05     239.48   \n",
       "50%                   0.48                   0.10     241.20   \n",
       "75%                   1.41                   0.18     242.99   \n",
       "max                   3.19                   0.40     248.56   \n",
       "\n",
       "       Global_intensity  Sub_metering_1  Sub_metering_2  Sub_metering_3  \n",
       "count        1839826.00      1839826.00      1839826.00      1839826.00  \n",
       "mean               3.69            0.28            0.36            5.84  \n",
       "std                2.95            2.68            0.62            8.16  \n",
       "min                0.20            0.00            0.00            0.00  \n",
       "25%                1.40            0.00            0.00            0.00  \n",
       "50%                2.20            0.00            0.00            1.00  \n",
       "75%                5.80            0.00            1.00           17.00  \n",
       "max               12.80           48.00            2.00           31.00  "
      ]
     },
     "execution_count": 1723,
     "metadata": {},
     "output_type": "execute_result"
    }
   ],
   "source": [
    "df2.describe()"
   ]
  },
  {
   "cell_type": "code",
   "execution_count": 1724,
   "metadata": {},
   "outputs": [],
   "source": [
    "df2_corr = df2.drop(columns=['Date', 'Time'])"
   ]
  },
  {
   "cell_type": "code",
   "execution_count": 1725,
   "metadata": {},
   "outputs": [
    {
     "data": {
      "image/png": "[encoded data removed]",
      "text/plain": [
       "<Figure size 1200x800 with 2 Axes>"
      ]
     },
     "metadata": {},
     "output_type": "display_data"
    }
   ],
   "source": [
    "# crea una matriz de correlacion usando el df2\n",
    "corr = np.corrcoef(df2_corr.corr())\n",
    "sns.heatmap(df2_corr.corr(), annot=True)\n",
    "plt.show()"
   ]
  },
  {
   "cell_type": "markdown",
   "metadata": {},
   "source": [
    "# EVALUAMOS NUEVAMENTE LOS MODELOS USANDO DF2 SIN LOS VALORES ATIPICOS"
   ]
  },
  {
   "cell_type": "markdown",
   "metadata": {},
   "source": [
    "# Train Test/Split"
   ]
  },
  {
   "cell_type": "code",
   "execution_count": 1726,
   "metadata": {},
   "outputs": [],
   "source": [
    "from sklearn.model_selection import train_test_split\n",
    "\n",
    "cols = ['Global_reactive_power','Voltage','Sub_metering_1','Sub_metering_2','Sub_metering_3']\n",
    "X = df2[cols].values\n",
    "Y = df2['Global_intensity'].values\n",
    "\n",
    "X_train, X_test, Y_train, Y_test = train_test_split(X, Y, test_size = 0.3, random_state = 13)"
   ]
  },
  {
   "cell_type": "code",
   "execution_count": 1727,
   "metadata": {},
   "outputs": [],
   "source": [
    "### variables para guardar información relevante de los modelos\n",
    "models = {}\n",
    "coefs = {}"
   ]
  },
  {
   "cell_type": "markdown",
   "metadata": {},
   "source": [
    "#### Linear Regression"
   ]
  },
  {
   "cell_type": "code",
   "execution_count": 1728,
   "metadata": {},
   "outputs": [
    {
     "name": "stdout",
     "output_type": "stream",
     "text": [
      "CPU times: total: 125 ms\n",
      "Wall time: 250 ms\n"
     ]
    }
   ],
   "source": [
    "%%time\n",
    "# https://scikit-learn.org/stable/modules/generated/sklearn.linear_model.LinearRegression.html\n",
    "from sklearn.linear_model import LinearRegression\n",
    "\n",
    "reg_model = LinearRegression()\n",
    "reg_model.fit(X_train,Y_train)\n",
    "pred = reg_model.predict(X_test)\n",
    "models['linear'] = get_metrics(Y_test,pred)\n",
    "coefs['linear'] = reg_model.coef_"
   ]
  },
  {
   "cell_type": "markdown",
   "metadata": {},
   "source": [
    "#### Ridge Regression"
   ]
  },
  {
   "cell_type": "code",
   "execution_count": 1729,
   "metadata": {},
   "outputs": [
    {
     "name": "stdout",
     "output_type": "stream",
     "text": [
      "CPU times: total: 125 ms\n",
      "Wall time: 164 ms\n"
     ]
    }
   ],
   "source": [
    "%%time\n",
    "# https://scikit-learn.org/stable/modules/generated/sklearn.linear_model.Ridge.html\n",
    "from sklearn.linear_model import Ridge\n",
    "\n",
    "alpha = 0.5\n",
    "ridge_model = Ridge(alpha=alpha, random_state=13)\n",
    "ridge_model.fit(X_train,Y_train)\n",
    "pred = ridge_model.predict(X_test)\n",
    "models['ridge'] = get_metrics(Y_test,pred)\n",
    "coefs['ridge'] = ridge_model.coef_"
   ]
  },
  {
   "cell_type": "markdown",
   "metadata": {},
   "source": [
    "#### Ridge Cross Validation"
   ]
  },
  {
   "cell_type": "code",
   "execution_count": 1730,
   "metadata": {},
   "outputs": [
    {
     "name": "stdout",
     "output_type": "stream",
     "text": [
      "CPU times: total: 406 ms\n",
      "Wall time: 637 ms\n"
     ]
    }
   ],
   "source": [
    "%%time\n",
    "# https://scikit-learn.org/stable/modules/generated/sklearn.linear_model.RidgeCV.html#sklearn.linear_model.RidgeCV\n",
    "from sklearn.linear_model import RidgeCV\n",
    "\n",
    "alphas = [0.1, 0.5, 0.8]\n",
    "ridgeCV_model = RidgeCV(alphas=alphas)\n",
    "ridgeCV_model.fit(X_train,Y_train)\n",
    "pred = ridgeCV_model.predict(X_test)\n",
    "models['ridgeCV'] = get_metrics(Y_test,pred)\n",
    "coefs['ridgeCV'] = ridgeCV_model.coef_"
   ]
  },
  {
   "cell_type": "markdown",
   "metadata": {},
   "source": [
    "#### Lasso Regression"
   ]
  },
  {
   "cell_type": "code",
   "execution_count": 1731,
   "metadata": {},
   "outputs": [
    {
     "name": "stdout",
     "output_type": "stream",
     "text": [
      "CPU times: total: 312 ms\n",
      "Wall time: 279 ms\n"
     ]
    }
   ],
   "source": [
    "%%time\n",
    "# https://scikit-learn.org/stable/modules/generated/sklearn.linear_model.Lasso.html\n",
    "from sklearn.linear_model import Lasso\n",
    "\n",
    "alpha = 0.5\n",
    "lasso_model = Lasso(alpha=alpha, random_state=13)\n",
    "lasso_model.fit(X_train, Y_train)\n",
    "pred = lasso_model.predict(X_test)\n",
    "models['lasso'] = get_metrics(Y_test,pred)\n",
    "coefs['lasso'] = lasso_model.coef_"
   ]
  },
  {
   "cell_type": "markdown",
   "metadata": {},
   "source": [
    "#### Lasso Cross Validation "
   ]
  },
  {
   "cell_type": "code",
   "execution_count": 1732,
   "metadata": {},
   "outputs": [
    {
     "name": "stdout",
     "output_type": "stream",
     "text": [
      "CPU times: total: 359 ms\n",
      "Wall time: 999 ms\n"
     ]
    }
   ],
   "source": [
    "%%time\n",
    "# https://scikit-learn.org/stable/modules/generated/sklearn.linear_model.LassoCV.html#sklearn.linear_model.LassoCV\n",
    "from sklearn.linear_model import LassoCV\n",
    "\n",
    "alphas = [0.1, 0.5, 0.8]\n",
    "lassoCV_model = LassoCV(alphas=alphas, random_state=13)\n",
    "lassoCV_model.fit(X_train, Y_train)\n",
    "pred = lassoCV_model.predict(X_test)\n",
    "models['lassoCV'] = get_metrics(Y_test,pred)\n",
    "coefs['lassoCV'] = lassoCV_model.coef_"
   ]
  },
  {
   "cell_type": "markdown",
   "metadata": {},
   "source": [
    "#### Elastic Net"
   ]
  },
  {
   "cell_type": "code",
   "execution_count": 1733,
   "metadata": {},
   "outputs": [
    {
     "name": "stdout",
     "output_type": "stream",
     "text": [
      "CPU times: total: 312 ms\n",
      "Wall time: 357 ms\n"
     ]
    }
   ],
   "source": [
    "%%time\n",
    "# https://scikit-learn.org/stable/modules/generated/sklearn.linear_model.ElasticNet.html?highlight=elastic%20net#sklearn.linear_model.ElasticNet\n",
    "from sklearn.linear_model import ElasticNet\n",
    "\n",
    "elastic_model = ElasticNet(random_state=13)\n",
    "elastic_model.fit(X_train, Y_train)\n",
    "pred = elastic_model.predict(X_test)\n",
    "models['elastic'] = get_metrics(Y_test,pred)\n",
    "coefs['elastic'] = elastic_model.coef_"
   ]
  },
  {
   "cell_type": "markdown",
   "metadata": {},
   "source": [
    "#### Elastic Net CV"
   ]
  },
  {
   "cell_type": "code",
   "execution_count": 1734,
   "metadata": {},
   "outputs": [
    {
     "name": "stdout",
     "output_type": "stream",
     "text": [
      "CPU times: total: 1.08 s\n",
      "Wall time: 2.53 s\n"
     ]
    }
   ],
   "source": [
    "%%time\n",
    "# https://scikit-learn.org/stable/modules/generated/sklearn.linear_model.ElasticNetCV.html#sklearn.linear_model.ElasticNetCV\n",
    "from sklearn.linear_model import ElasticNetCV\n",
    "\n",
    "elasticCV_model = ElasticNetCV(random_state=13)\n",
    "elasticCV_model.fit(X_train, Y_train)\n",
    "pred = elasticCV_model.predict(X_test)\n",
    "models['elasticCV'] = get_metrics(Y_test,pred)\n",
    "coefs['elasticCV'] = elasticCV_model.coef_"
   ]
  },
  {
   "cell_type": "markdown",
   "metadata": {},
   "source": [
    "#### Decision Tree"
   ]
  },
  {
   "cell_type": "code",
   "execution_count": 1735,
   "metadata": {},
   "outputs": [
    {
     "name": "stdout",
     "output_type": "stream",
     "text": [
      "CPU times: total: 2.02 s\n",
      "Wall time: 5.2 s\n"
     ]
    }
   ],
   "source": [
    "%%time\n",
    "# https://scikit-learn.org/stable/modules/generated/sklearn.tree.DecisionTreeRegressor.html#sklearn.tree.DecisionTreeRegressor\n",
    "from sklearn.tree import DecisionTreeRegressor\n",
    "\n",
    "tree_model = DecisionTreeRegressor(random_state=0)\n",
    "tree_model = tree_model.fit(X_train, Y_train)\n",
    "pred = tree_model.predict(X_test)\n",
    "models['decision_tree'] = get_metrics(Y_test,pred)"
   ]
  },
  {
   "cell_type": "markdown",
   "metadata": {},
   "source": [
    "### Verificación de resultados de los modelos 2"
   ]
  },
  {
   "cell_type": "code",
   "execution_count": 1736,
   "metadata": {},
   "outputs": [],
   "source": [
    "df_coef = pd.DataFrame.from_dict(coefs,orient='index',columns=cols).reset_index()\n",
    "df_metrics = pd.DataFrame.from_dict(models)"
   ]
  },
  {
   "cell_type": "code",
   "execution_count": 1737,
   "metadata": {},
   "outputs": [
    {
     "data": {
      "text/html": [
       "<div>\n",
       "<style scoped>\n",
       "    .dataframe tbody tr th:only-of-type {\n",
       "        vertical-align: middle;\n",
       "    }\n",
       "\n",
       "    .dataframe tbody tr th {\n",
       "        vertical-align: top;\n",
       "    }\n",
       "\n",
       "    .dataframe thead th {\n",
       "        text-align: right;\n",
       "    }\n",
       "</style>\n",
       "<table border=\"1\" class=\"dataframe\">\n",
       "  <thead>\n",
       "    <tr style=\"text-align: right;\">\n",
       "      <th></th>\n",
       "      <th>linear</th>\n",
       "      <th>ridge</th>\n",
       "      <th>ridgeCV</th>\n",
       "      <th>lasso</th>\n",
       "      <th>lassoCV</th>\n",
       "      <th>elastic</th>\n",
       "      <th>elasticCV</th>\n",
       "      <th>decision_tree</th>\n",
       "    </tr>\n",
       "  </thead>\n",
       "  <tbody>\n",
       "    <tr>\n",
       "      <th>mae</th>\n",
       "      <td>1.23</td>\n",
       "      <td>1.23</td>\n",
       "      <td>1.23</td>\n",
       "      <td>1.29</td>\n",
       "      <td>1.26</td>\n",
       "      <td>1.29</td>\n",
       "      <td>1.25</td>\n",
       "      <td>1.31</td>\n",
       "    </tr>\n",
       "    <tr>\n",
       "      <th>mse</th>\n",
       "      <td>3.18</td>\n",
       "      <td>3.18</td>\n",
       "      <td>3.18</td>\n",
       "      <td>3.37</td>\n",
       "      <td>3.31</td>\n",
       "      <td>3.38</td>\n",
       "      <td>3.27</td>\n",
       "      <td>4.47</td>\n",
       "    </tr>\n",
       "    <tr>\n",
       "      <th>rmse</th>\n",
       "      <td>1.78</td>\n",
       "      <td>1.78</td>\n",
       "      <td>1.78</td>\n",
       "      <td>1.83</td>\n",
       "      <td>1.82</td>\n",
       "      <td>1.84</td>\n",
       "      <td>1.81</td>\n",
       "      <td>2.11</td>\n",
       "    </tr>\n",
       "    <tr>\n",
       "      <th>mape</th>\n",
       "      <td>0.55</td>\n",
       "      <td>0.55</td>\n",
       "      <td>0.55</td>\n",
       "      <td>0.63</td>\n",
       "      <td>0.61</td>\n",
       "      <td>0.63</td>\n",
       "      <td>0.59</td>\n",
       "      <td>0.53</td>\n",
       "    </tr>\n",
       "    <tr>\n",
       "      <th>r2</th>\n",
       "      <td>0.63</td>\n",
       "      <td>0.63</td>\n",
       "      <td>0.63</td>\n",
       "      <td>0.61</td>\n",
       "      <td>0.62</td>\n",
       "      <td>0.61</td>\n",
       "      <td>0.62</td>\n",
       "      <td>0.48</td>\n",
       "    </tr>\n",
       "    <tr>\n",
       "      <th>ev</th>\n",
       "      <td>0.63</td>\n",
       "      <td>0.63</td>\n",
       "      <td>0.63</td>\n",
       "      <td>0.61</td>\n",
       "      <td>0.62</td>\n",
       "      <td>0.61</td>\n",
       "      <td>0.62</td>\n",
       "      <td>0.48</td>\n",
       "    </tr>\n",
       "  </tbody>\n",
       "</table>\n",
       "</div>"
      ],
      "text/plain": [
       "      linear  ridge  ridgeCV  lasso  lassoCV  elastic  elasticCV  \\\n",
       "mae     1.23   1.23     1.23   1.29     1.26     1.29       1.25   \n",
       "mse     3.18   3.18     3.18   3.37     3.31     3.38       3.27   \n",
       "rmse    1.78   1.78     1.78   1.83     1.82     1.84       1.81   \n",
       "mape    0.55   0.55     0.55   0.63     0.61     0.63       0.59   \n",
       "r2      0.63   0.63     0.63   0.61     0.62     0.61       0.62   \n",
       "ev      0.63   0.63     0.63   0.61     0.62     0.61       0.62   \n",
       "\n",
       "      decision_tree  \n",
       "mae            1.31  \n",
       "mse            4.47  \n",
       "rmse           2.11  \n",
       "mape           0.53  \n",
       "r2             0.48  \n",
       "ev             0.48  "
      ]
     },
     "execution_count": 1737,
     "metadata": {},
     "output_type": "execute_result"
    }
   ],
   "source": [
    "df_metrics"
   ]
  },
  {
   "cell_type": "code",
   "execution_count": 1738,
   "metadata": {},
   "outputs": [],
   "source": [
    "df_metrics_2 = df_metrics.copy()"
   ]
  },
  {
   "cell_type": "code",
   "execution_count": 1739,
   "metadata": {},
   "outputs": [
    {
     "data": {
      "text/html": [
       "<div>\n",
       "<style scoped>\n",
       "    .dataframe tbody tr th:only-of-type {\n",
       "        vertical-align: middle;\n",
       "    }\n",
       "\n",
       "    .dataframe tbody tr th {\n",
       "        vertical-align: top;\n",
       "    }\n",
       "\n",
       "    .dataframe thead th {\n",
       "        text-align: right;\n",
       "    }\n",
       "</style>\n",
       "<table border=\"1\" class=\"dataframe\">\n",
       "  <thead>\n",
       "    <tr style=\"text-align: right;\">\n",
       "      <th></th>\n",
       "      <th>index</th>\n",
       "      <th>Global_reactive_power</th>\n",
       "      <th>Voltage</th>\n",
       "      <th>Sub_metering_1</th>\n",
       "      <th>Sub_metering_2</th>\n",
       "      <th>Sub_metering_3</th>\n",
       "    </tr>\n",
       "  </thead>\n",
       "  <tbody>\n",
       "    <tr>\n",
       "      <th>0</th>\n",
       "      <td>linear</td>\n",
       "      <td>3.90</td>\n",
       "      <td>-0.12</td>\n",
       "      <td>0.25</td>\n",
       "      <td>-0.07</td>\n",
       "      <td>0.26</td>\n",
       "    </tr>\n",
       "    <tr>\n",
       "      <th>1</th>\n",
       "      <td>ridge</td>\n",
       "      <td>3.90</td>\n",
       "      <td>-0.12</td>\n",
       "      <td>0.25</td>\n",
       "      <td>-0.07</td>\n",
       "      <td>0.26</td>\n",
       "    </tr>\n",
       "    <tr>\n",
       "      <th>2</th>\n",
       "      <td>ridgeCV</td>\n",
       "      <td>3.90</td>\n",
       "      <td>-0.12</td>\n",
       "      <td>0.25</td>\n",
       "      <td>-0.07</td>\n",
       "      <td>0.26</td>\n",
       "    </tr>\n",
       "    <tr>\n",
       "      <th>3</th>\n",
       "      <td>lasso</td>\n",
       "      <td>0.00</td>\n",
       "      <td>-0.07</td>\n",
       "      <td>0.19</td>\n",
       "      <td>0.00</td>\n",
       "      <td>0.26</td>\n",
       "    </tr>\n",
       "    <tr>\n",
       "      <th>4</th>\n",
       "      <td>lassoCV</td>\n",
       "      <td>0.00</td>\n",
       "      <td>-0.11</td>\n",
       "      <td>0.24</td>\n",
       "      <td>0.00</td>\n",
       "      <td>0.26</td>\n",
       "    </tr>\n",
       "    <tr>\n",
       "      <th>5</th>\n",
       "      <td>elastic</td>\n",
       "      <td>0.00</td>\n",
       "      <td>-0.06</td>\n",
       "      <td>0.17</td>\n",
       "      <td>0.00</td>\n",
       "      <td>0.25</td>\n",
       "    </tr>\n",
       "    <tr>\n",
       "      <th>6</th>\n",
       "      <td>elasticCV</td>\n",
       "      <td>0.48</td>\n",
       "      <td>-0.12</td>\n",
       "      <td>0.25</td>\n",
       "      <td>0.10</td>\n",
       "      <td>0.26</td>\n",
       "    </tr>\n",
       "  </tbody>\n",
       "</table>\n",
       "</div>"
      ],
      "text/plain": [
       "       index  Global_reactive_power  Voltage  Sub_metering_1  Sub_metering_2  \\\n",
       "0     linear                   3.90    -0.12            0.25           -0.07   \n",
       "1      ridge                   3.90    -0.12            0.25           -0.07   \n",
       "2    ridgeCV                   3.90    -0.12            0.25           -0.07   \n",
       "3      lasso                   0.00    -0.07            0.19            0.00   \n",
       "4    lassoCV                   0.00    -0.11            0.24            0.00   \n",
       "5    elastic                   0.00    -0.06            0.17            0.00   \n",
       "6  elasticCV                   0.48    -0.12            0.25            0.10   \n",
       "\n",
       "   Sub_metering_3  \n",
       "0            0.26  \n",
       "1            0.26  \n",
       "2            0.26  \n",
       "3            0.26  \n",
       "4            0.26  \n",
       "5            0.25  \n",
       "6            0.26  "
      ]
     },
     "execution_count": 1739,
     "metadata": {},
     "output_type": "execute_result"
    }
   ],
   "source": [
    "df_coef"
   ]
  },
  {
   "cell_type": "code",
   "execution_count": 1740,
   "metadata": {},
   "outputs": [
    {
     "name": "stdout",
     "output_type": "stream",
     "text": [
      "Feature: 0, Score: 0.08985\n",
      "Feature: 1, Score: 0.14749\n",
      "Feature: 2, Score: 0.07284\n",
      "Feature: 3, Score: 0.01381\n",
      "Feature: 4, Score: 0.67602\n"
     ]
    }
   ],
   "source": [
    "importance = tree_model.feature_importances_\n",
    "# summarize feature importance\n",
    "for i,v in enumerate(importance):\n",
    "\tprint('Feature: %0d, Score: %.5f' % (i,v))"
   ]
  },
  {
   "cell_type": "markdown",
   "metadata": {},
   "source": [
    "\n",
    "Los resultados muestran un contraste significativo entre los modelos entrenados con el dataframe1 sin tratamiento de outliers y el dataframe2 con tratamiento de outliers. Vamos a analizarlos en detalle.\n",
    "\n",
    "1. Sin Tratamiento de Outliers\n",
    "Métricas (MAE, MSE, RMSE, MAPE): Los errores son extremadamente bajos, lo que indica un ajuste casi perfecto.\n",
    "R2 y EV: Ambas métricas tienen valores cercanos o iguales a 1.0, lo que sugiere que el modelo explica casi toda la varianza de los datos.\n",
    "Interpretación:\n",
    "El desempeño casi perfecto puede indicar que los modelos podriam estar sobreajustados debido a la influencia de los outliers, especialmente si estos están presentes tanto en X como en 𝑦\n",
    "\n",
    "Esto es particularmente relevante en regresión lineal y sus variantes (Ridge, Lasso, Elastic Net), que son sensibles a valores extremos.\n",
    "\n",
    "Observaciones:\n",
    "El árbol de decisión también presenta un rendimiento excelente, pero los árboles son más robustos a outliers, por lo que su desempeño podría reflejar los patrones generales de los datos.\n",
    "\n",
    "2. Con Tratamiento de Outliers\n",
    "\n",
    "Métricas de Error (MAE, MSE, RMSE, MAPE): Los errores aumentan significativamente.\n",
    "R2 y EV: Aunque todavía altos, los valores disminuyen (alrededor de 0.72 para la mayoría de los modelos, y 0.59 para el árbol de decisión).\n",
    "Interpretación:\n",
    "El tratamiento de outliers parece haber reducido el ajuste excesivo de los modelos, especialmente en las regresiones lineales.\n",
    "El rendimiento más modesto sugiere que los modelos ahora están ajustándose a un conjunto de datos más limpio y representativo, eliminando el impacto desproporcionado de valores extremos.\n",
    "\n",
    "Observaciones:\n",
    "La disminución en el desempeño del árbol de decisión (R2 = 0.48, EV = 0.48) puede indicar que los valores extremos tenían un impacto significativo en su capacidad de predicción.\n",
    "\n",
    "\n",
    "* Aunque los modelos sin tratamiento de outliers muestran métricas bien ajustada casi perfectas, podria ser que estan sobreajustados. Los modelos entrenados con el dataframe tratado ofrecen una representación más realista y generalizable de los datos."
   ]
  },
  {
   "cell_type": "markdown",
   "metadata": {},
   "source": [
    "* ¿Será necesario escalar los datos?, en caso de utilizar algún método de escalamiento (MinMax, Standard, Robust, otro), ¿mejora o empeora los resultados de los modelos?."
   ]
  },
  {
   "cell_type": "markdown",
   "metadata": {},
   "source": [
    "* RESPUESTA: \n",
    "\n",
    "El escalado de los datos es una técnica que se utiliza principalmente en modelos que son sensibles a las magnitudes y unidades de las variables predictoras.nLos modelos lineales y sus variantes como Ridge, Lasso y Elastic Net suelen beneficiarse del escalado de los datos porque estos modelos son sensibles a la magnitud de las características. Las variables con escalas grandes pueden dominar el modelo, lo que afecta la capacidad de los coeficientes de regularizar o ajustarse correctamente. Por lo que podria ser un benificio para el modelo que estamos realizando.\n",
    "\n",
    "* Para responder a la pregunta vamos a utilizar alguno de los metodos de escalados propuestos, en este caso usaremos El MinMaxScaler escala las características para que estén dentro de un rango específico, generalmente entre 0 y 1. Esto es útil cuando tus características no siguen una distribución normal, pero deseas que estén dentro de un rango conocido."
   ]
  },
  {
   "cell_type": "markdown",
   "metadata": {},
   "source": []
  },
  {
   "cell_type": "code",
   "execution_count": 1741,
   "metadata": {},
   "outputs": [
    {
     "data": {
      "text/html": [
       "<div>\n",
       "<style scoped>\n",
       "    .dataframe tbody tr th:only-of-type {\n",
       "        vertical-align: middle;\n",
       "    }\n",
       "\n",
       "    .dataframe tbody tr th {\n",
       "        vertical-align: top;\n",
       "    }\n",
       "\n",
       "    .dataframe thead th {\n",
       "        text-align: right;\n",
       "    }\n",
       "</style>\n",
       "<table border=\"1\" class=\"dataframe\">\n",
       "  <thead>\n",
       "    <tr style=\"text-align: right;\">\n",
       "      <th></th>\n",
       "      <th>Date</th>\n",
       "      <th>Time</th>\n",
       "      <th>Global_active_power</th>\n",
       "      <th>Global_reactive_power</th>\n",
       "      <th>Voltage</th>\n",
       "      <th>Global_intensity</th>\n",
       "      <th>Sub_metering_1</th>\n",
       "      <th>Sub_metering_2</th>\n",
       "      <th>Sub_metering_3</th>\n",
       "    </tr>\n",
       "  </thead>\n",
       "  <tbody>\n",
       "    <tr>\n",
       "      <th>30</th>\n",
       "      <td>16/12/2006</td>\n",
       "      <td>17:54:00</td>\n",
       "      <td>2.72</td>\n",
       "      <td>0.00</td>\n",
       "      <td>235.06</td>\n",
       "      <td>11.60</td>\n",
       "      <td>0.00</td>\n",
       "      <td>0.00</td>\n",
       "      <td>17.00</td>\n",
       "    </tr>\n",
       "    <tr>\n",
       "      <th>35</th>\n",
       "      <td>16/12/2006</td>\n",
       "      <td>17:59:00</td>\n",
       "      <td>2.47</td>\n",
       "      <td>0.06</td>\n",
       "      <td>236.94</td>\n",
       "      <td>10.40</td>\n",
       "      <td>0.00</td>\n",
       "      <td>0.00</td>\n",
       "      <td>17.00</td>\n",
       "    </tr>\n",
       "    <tr>\n",
       "      <th>36</th>\n",
       "      <td>16/12/2006</td>\n",
       "      <td>18:00:00</td>\n",
       "      <td>2.79</td>\n",
       "      <td>0.18</td>\n",
       "      <td>237.52</td>\n",
       "      <td>11.80</td>\n",
       "      <td>0.00</td>\n",
       "      <td>0.00</td>\n",
       "      <td>18.00</td>\n",
       "    </tr>\n",
       "    <tr>\n",
       "      <th>37</th>\n",
       "      <td>16/12/2006</td>\n",
       "      <td>18:01:00</td>\n",
       "      <td>2.62</td>\n",
       "      <td>0.14</td>\n",
       "      <td>238.20</td>\n",
       "      <td>11.00</td>\n",
       "      <td>0.00</td>\n",
       "      <td>0.00</td>\n",
       "      <td>17.00</td>\n",
       "    </tr>\n",
       "    <tr>\n",
       "      <th>38</th>\n",
       "      <td>16/12/2006</td>\n",
       "      <td>18:02:00</td>\n",
       "      <td>2.77</td>\n",
       "      <td>0.12</td>\n",
       "      <td>238.28</td>\n",
       "      <td>11.60</td>\n",
       "      <td>0.00</td>\n",
       "      <td>0.00</td>\n",
       "      <td>17.00</td>\n",
       "    </tr>\n",
       "  </tbody>\n",
       "</table>\n",
       "</div>"
      ],
      "text/plain": [
       "          Date      Time  Global_active_power  Global_reactive_power  Voltage  \\\n",
       "30  16/12/2006  17:54:00                 2.72                   0.00   235.06   \n",
       "35  16/12/2006  17:59:00                 2.47                   0.06   236.94   \n",
       "36  16/12/2006  18:00:00                 2.79                   0.18   237.52   \n",
       "37  16/12/2006  18:01:00                 2.62                   0.14   238.20   \n",
       "38  16/12/2006  18:02:00                 2.77                   0.12   238.28   \n",
       "\n",
       "    Global_intensity  Sub_metering_1  Sub_metering_2  Sub_metering_3  \n",
       "30             11.60            0.00            0.00           17.00  \n",
       "35             10.40            0.00            0.00           17.00  \n",
       "36             11.80            0.00            0.00           18.00  \n",
       "37             11.00            0.00            0.00           17.00  \n",
       "38             11.60            0.00            0.00           17.00  "
      ]
     },
     "execution_count": 1741,
     "metadata": {},
     "output_type": "execute_result"
    }
   ],
   "source": [
    "df2.head()"
   ]
  },
  {
   "cell_type": "code",
   "execution_count": 1743,
   "metadata": {},
   "outputs": [
    {
     "data": {
      "text/html": [
       "<div>\n",
       "<style scoped>\n",
       "    .dataframe tbody tr th:only-of-type {\n",
       "        vertical-align: middle;\n",
       "    }\n",
       "\n",
       "    .dataframe tbody tr th {\n",
       "        vertical-align: top;\n",
       "    }\n",
       "\n",
       "    .dataframe thead th {\n",
       "        text-align: right;\n",
       "    }\n",
       "</style>\n",
       "<table border=\"1\" class=\"dataframe\">\n",
       "  <thead>\n",
       "    <tr style=\"text-align: right;\">\n",
       "      <th></th>\n",
       "      <th>Global_reactive_power</th>\n",
       "      <th>Voltage</th>\n",
       "      <th>Sub_metering_1</th>\n",
       "      <th>Sub_metering_2</th>\n",
       "      <th>Sub_metering_3</th>\n",
       "      <th>Global_intensity</th>\n",
       "    </tr>\n",
       "  </thead>\n",
       "  <tbody>\n",
       "    <tr>\n",
       "      <th>30</th>\n",
       "      <td>0.00</td>\n",
       "      <td>0.10</td>\n",
       "      <td>0.00</td>\n",
       "      <td>0.00</td>\n",
       "      <td>0.55</td>\n",
       "      <td>11.60</td>\n",
       "    </tr>\n",
       "    <tr>\n",
       "      <th>35</th>\n",
       "      <td>0.15</td>\n",
       "      <td>0.22</td>\n",
       "      <td>0.00</td>\n",
       "      <td>0.00</td>\n",
       "      <td>0.55</td>\n",
       "      <td>10.40</td>\n",
       "    </tr>\n",
       "    <tr>\n",
       "      <th>36</th>\n",
       "      <td>0.45</td>\n",
       "      <td>0.26</td>\n",
       "      <td>0.00</td>\n",
       "      <td>0.00</td>\n",
       "      <td>0.58</td>\n",
       "      <td>11.80</td>\n",
       "    </tr>\n",
       "    <tr>\n",
       "      <th>37</th>\n",
       "      <td>0.36</td>\n",
       "      <td>0.31</td>\n",
       "      <td>0.00</td>\n",
       "      <td>0.00</td>\n",
       "      <td>0.55</td>\n",
       "      <td>11.00</td>\n",
       "    </tr>\n",
       "    <tr>\n",
       "      <th>38</th>\n",
       "      <td>0.30</td>\n",
       "      <td>0.31</td>\n",
       "      <td>0.00</td>\n",
       "      <td>0.00</td>\n",
       "      <td>0.55</td>\n",
       "      <td>11.60</td>\n",
       "    </tr>\n",
       "  </tbody>\n",
       "</table>\n",
       "</div>"
      ],
      "text/plain": [
       "    Global_reactive_power  Voltage  Sub_metering_1  Sub_metering_2  \\\n",
       "30                   0.00     0.10            0.00            0.00   \n",
       "35                   0.15     0.22            0.00            0.00   \n",
       "36                   0.45     0.26            0.00            0.00   \n",
       "37                   0.36     0.31            0.00            0.00   \n",
       "38                   0.30     0.31            0.00            0.00   \n",
       "\n",
       "    Sub_metering_3  Global_intensity  \n",
       "30            0.55             11.60  \n",
       "35            0.55             10.40  \n",
       "36            0.58             11.80  \n",
       "37            0.55             11.00  \n",
       "38            0.55             11.60  "
      ]
     },
     "execution_count": 1743,
     "metadata": {},
     "output_type": "execute_result"
    }
   ],
   "source": [
    "from sklearn.preprocessing import MinMaxScaler\n",
    "\n",
    "# Crear el objeto MinMaxScaler\n",
    "scaler = MinMaxScaler()\n",
    "\n",
    "# Aplicar el escalado MinMax a las variables predictoras\n",
    "X_scaled = scaler.fit_transform(X)\n",
    "\n",
    "# Convertir el resultado escalado en un DataFrame con los mismos nombres de columnas\n",
    "X_scaled_df = pd.DataFrame(X_scaled, columns=['Global_reactive_power', 'Voltage', 'Sub_metering_1', 'Sub_metering_2', 'Sub_metering_3'])\n",
    "\n",
    "# Asegurarnos de que el índice se mantenga igual en X_scaled_df\n",
    "X_scaled_df.index = df2.index\n",
    "\n",
    "# Unir la variable objetivo 'Global_intensity' sin escalar\n",
    "df_scaled = pd.concat([X_scaled_df, df2[['Global_intensity']]], axis=1)\n",
    "\n",
    "# Ver el dataframe escalado\n",
    "df_scaled.head()\n"
   ]
  },
  {
   "cell_type": "code",
   "execution_count": 1744,
   "metadata": {},
   "outputs": [],
   "source": [
    "from sklearn.model_selection import train_test_split\n",
    "\n",
    "cols = ['Global_reactive_power','Voltage','Sub_metering_1','Sub_metering_2','Sub_metering_3']\n",
    "X = df_scaled[cols].values\n",
    "Y = df_scaled['Global_intensity'].values\n",
    "\n",
    "X_train, X_test, Y_train, Y_test = train_test_split(X, Y, test_size = 0.3, random_state = 13)"
   ]
  },
  {
   "cell_type": "code",
   "execution_count": 1745,
   "metadata": {},
   "outputs": [],
   "source": [
    "### variables para guardar información relevante de los modelos\n",
    "models = {}\n",
    "coefs = {}"
   ]
  },
  {
   "cell_type": "markdown",
   "metadata": {},
   "source": [
    "#### Linear Regression"
   ]
  },
  {
   "cell_type": "code",
   "execution_count": 1746,
   "metadata": {},
   "outputs": [
    {
     "name": "stdout",
     "output_type": "stream",
     "text": [
      "CPU times: total: 156 ms\n",
      "Wall time: 237 ms\n"
     ]
    }
   ],
   "source": [
    "%%time\n",
    "# https://scikit-learn.org/stable/modules/generated/sklearn.linear_model.LinearRegression.html\n",
    "from sklearn.linear_model import LinearRegression\n",
    "\n",
    "reg_model = LinearRegression()\n",
    "reg_model.fit(X_train,Y_train)\n",
    "pred = reg_model.predict(X_test)\n",
    "models['linear'] = get_metrics(Y_test,pred)\n",
    "coefs['linear'] = reg_model.coef_"
   ]
  },
  {
   "cell_type": "markdown",
   "metadata": {},
   "source": [
    "#### Ridge Regression"
   ]
  },
  {
   "cell_type": "code",
   "execution_count": 1779,
   "metadata": {},
   "outputs": [
    {
     "name": "stdout",
     "output_type": "stream",
     "text": [
      "CPU times: total: 62.5 ms\n",
      "Wall time: 165 ms\n"
     ]
    },
    {
     "data": {
      "text/plain": [
       "{'mae': 1.227,\n",
       " 'mse': 3.176,\n",
       " 'rmse': 1.782,\n",
       " 'mape': 0.548,\n",
       " 'r2': 0.6334,\n",
       " 'ev': 0.6334}"
      ]
     },
     "execution_count": 1779,
     "metadata": {},
     "output_type": "execute_result"
    }
   ],
   "source": [
    "%%time\n",
    "# https://scikit-learn.org/stable/modules/generated/sklearn.linear_model.Ridge.html\n",
    "from sklearn.linear_model import Ridge\n",
    "\n",
    "alpha = 0.5  ## alpha = 0.5\n",
    "ridge_model = Ridge(alpha=alpha, random_state=13)\n",
    "ridge_model.fit(X_train,Y_train)\n",
    "pred = ridge_model.predict(X_test)\n",
    "models['ridge'] = get_metrics(Y_test,pred)\n",
    "coefs['ridge'] = ridge_model.coef_\n",
    "\n",
    "models['ridge'] "
   ]
  },
  {
   "cell_type": "markdown",
   "metadata": {},
   "source": [
    "#### Ridge Cross Validation"
   ]
  },
  {
   "cell_type": "code",
   "execution_count": 1748,
   "metadata": {},
   "outputs": [
    {
     "name": "stdout",
     "output_type": "stream",
     "text": [
      "CPU times: total: 234 ms\n",
      "Wall time: 547 ms\n"
     ]
    }
   ],
   "source": [
    "%%time\n",
    "# https://scikit-learn.org/stable/modules/generated/sklearn.linear_model.RidgeCV.html#sklearn.linear_model.RidgeCV\n",
    "from sklearn.linear_model import RidgeCV\n",
    "\n",
    "alphas = [0.1, 0.5, 0.8]\n",
    "ridgeCV_model = RidgeCV(alphas=alphas)\n",
    "ridgeCV_model.fit(X_train,Y_train)\n",
    "pred = ridgeCV_model.predict(X_test)\n",
    "models['ridgeCV'] = get_metrics(Y_test,pred)\n",
    "coefs['ridgeCV'] = ridgeCV_model.coef_"
   ]
  },
  {
   "cell_type": "markdown",
   "metadata": {},
   "source": [
    "#### Lasso Regression"
   ]
  },
  {
   "cell_type": "code",
   "execution_count": 1783,
   "metadata": {},
   "outputs": [
    {
     "name": "stdout",
     "output_type": "stream",
     "text": [
      "CPU times: total: 281 ms\n",
      "Wall time: 251 ms\n"
     ]
    },
    {
     "data": {
      "text/plain": [
       "{'mae': 1.263,\n",
       " 'mse': 4.355,\n",
       " 'rmse': 2.087,\n",
       " 'mape': 0.424,\n",
       " 'r2': 0.4974,\n",
       " 'ev': 0.5211}"
      ]
     },
     "execution_count": 1783,
     "metadata": {},
     "output_type": "execute_result"
    }
   ],
   "source": [
    "%%time\n",
    "# https://scikit-learn.org/stable/modules/generated/sklearn.linear_model.Lasso.html\n",
    "from sklearn.linear_model import Lasso\n",
    "\n",
    "\n",
    "lasso_model = Lasso( random_state=13, alpha= 0.1, fit_intercept= False, max_iter=1000, tol= 0.001)\n",
    "lasso_model.fit(X_train, Y_train)\n",
    "pred = lasso_model.predict(X_test)\n",
    "models['lasso'] = get_metrics(Y_test,pred)\n",
    "coefs['lasso'] = lasso_model.coef_\n",
    "\n",
    "models['lasso']"
   ]
  },
  {
   "cell_type": "markdown",
   "metadata": {},
   "source": [
    "#### Lasso Cross Validation "
   ]
  },
  {
   "cell_type": "code",
   "execution_count": null,
   "metadata": {},
   "outputs": [
    {
     "name": "stdout",
     "output_type": "stream",
     "text": [
      "CPU times: total: 1.5 s\n",
      "Wall time: 2.39 s\n"
     ]
    },
    {
     "data": {
      "text/plain": [
       "{'mae': 1.227,\n",
       " 'mse': 3.176,\n",
       " 'rmse': 1.782,\n",
       " 'mape': 0.549,\n",
       " 'r2': 0.6334,\n",
       " 'ev': 0.6334}"
      ]
     },
     "execution_count": 1789,
     "metadata": {},
     "output_type": "execute_result"
    }
   ],
   "source": [
    "%%time\n",
    "# https://scikit-learn.org/stable/modules/generated/sklearn.linear_model.LassoCV.html#sklearn.linear_model.LassoCV\n",
    "from sklearn.linear_model import LassoCV\n",
    "\n",
    "alphas = [0.1, 0.5, 0.8] #el modelo seleccionará automaticamente un conjunto de valores predeterminados para alpha\n",
    "lassoCV_model = LassoCV(random_state=13,max_iter=1000, tol= 0.0001)\n",
    "lassoCV_model.fit(X_train, Y_train)\n",
    "pred = lassoCV_model.predict(X_test)\n",
    "models['lassoCV'] = get_metrics(Y_test,pred)\n",
    "coefs['lassoCV'] = lassoCV_model.coef_\n",
    "\n",
    "models['lassoCV']"
   ]
  },
  {
   "cell_type": "markdown",
   "metadata": {},
   "source": [
    "#### Elastic Net"
   ]
  },
  {
   "cell_type": "code",
   "execution_count": 1802,
   "metadata": {},
   "outputs": [
    {
     "name": "stdout",
     "output_type": "stream",
     "text": [
      "CPU times: total: 953 ms\n",
      "Wall time: 2.29 s\n"
     ]
    },
    {
     "data": {
      "text/plain": [
       "{'mae': 1.236,\n",
       " 'mse': 3.189,\n",
       " 'rmse': 1.786,\n",
       " 'mape': 0.559,\n",
       " 'r2': 0.632,\n",
       " 'ev': 0.632}"
      ]
     },
     "execution_count": 1802,
     "metadata": {},
     "output_type": "execute_result"
    }
   ],
   "source": [
    "%%time\n",
    "# https://scikit-learn.org/stable/modules/generated/sklearn.linear_model.ElasticNetCV.html#sklearn.linear_model.ElasticNetCV\n",
    "from sklearn.linear_model import ElasticNetCV\n",
    "\n",
    "elasticCV_model = ElasticNetCV(random_state=13)\n",
    "elasticCV_model.fit(X_train, Y_train)\n",
    "pred = elasticCV_model.predict(X_test)\n",
    "models['elasticCV'] = get_metrics(Y_test,pred)\n",
    "coefs['elasticCV'] = elasticCV_model.coef_\n",
    "\n",
    "models['elasticCV'] "
   ]
  },
  {
   "cell_type": "markdown",
   "metadata": {},
   "source": [
    "#### Elastic Net CV"
   ]
  },
  {
   "cell_type": "code",
   "execution_count": 1808,
   "metadata": {},
   "outputs": [
    {
     "name": "stdout",
     "output_type": "stream",
     "text": [
      "CPU times: total: 906 ms\n",
      "Wall time: 2.27 s\n"
     ]
    },
    {
     "data": {
      "text/plain": [
       "{'mae': 1.236,\n",
       " 'mse': 3.189,\n",
       " 'rmse': 1.786,\n",
       " 'mape': 0.559,\n",
       " 'r2': 0.632,\n",
       " 'ev': 0.632}"
      ]
     },
     "execution_count": 1808,
     "metadata": {},
     "output_type": "execute_result"
    }
   ],
   "source": [
    "%%time\n",
    "# https://scikit-learn.org/stable/modules/generated/sklearn.linear_model.ElasticNetCV.html#sklearn.linear_model.ElasticNetCV\n",
    "from sklearn.linear_model import ElasticNetCV\n",
    "\n",
    "elasticCV_model = ElasticNetCV(random_state=13)\n",
    "elasticCV_model.fit(X_train, Y_train)\n",
    "pred = elasticCV_model.predict(X_test)\n",
    "models['elasticCV'] = get_metrics(Y_test,pred)\n",
    "coefs['elasticCV'] = elasticCV_model.coef_\n",
    "\n",
    "models['elasticCV']"
   ]
  },
  {
   "cell_type": "markdown",
   "metadata": {},
   "source": [
    "#### Decision Tree"
   ]
  },
  {
   "cell_type": "code",
   "execution_count": 1812,
   "metadata": {},
   "outputs": [
    {
     "name": "stdout",
     "output_type": "stream",
     "text": [
      "CPU times: total: 797 ms\n",
      "Wall time: 2.36 s\n"
     ]
    },
    {
     "data": {
      "text/plain": [
       "{'mae': 1.145,\n",
       " 'mse': 2.923,\n",
       " 'rmse': 1.71,\n",
       " 'mape': 0.485,\n",
       " 'r2': 0.6626,\n",
       " 'ev': 0.6626}"
      ]
     },
     "execution_count": 1812,
     "metadata": {},
     "output_type": "execute_result"
    }
   ],
   "source": [
    "%%time\n",
    "# https://scikit-learn.org/stable/modules/generated/sklearn.tree.DecisionTreeRegressor.html#sklearn.tree.DecisionTreeRegressor\n",
    "from sklearn.tree import DecisionTreeRegressor\n",
    "\n",
    "tree_model = DecisionTreeRegressor(random_state=0, max_depth=10, min_samples_leaf=4, min_samples_split= 10) \n",
    "tree_model = tree_model.fit(X_train, Y_train)\n",
    "pred = tree_model.predict(X_test)\n",
    "models['decision_tree'] = get_metrics(Y_test,pred)\n",
    "coefs['decision_tree'] = tree_model.feature_importances_\n",
    "\n",
    "models['decision_tree']"
   ]
  },
  {
   "cell_type": "code",
   "execution_count": 1753,
   "metadata": {},
   "outputs": [],
   "source": [
    "### Verificación de resultados de los modelos 3"
   ]
  },
  {
   "cell_type": "code",
   "execution_count": 1768,
   "metadata": {},
   "outputs": [],
   "source": [
    "df_coef = pd.DataFrame.from_dict(coefs,orient='index',columns=cols).reset_index()\n",
    "df_metrics = pd.DataFrame.from_dict(models)"
   ]
  },
  {
   "cell_type": "code",
   "execution_count": 1769,
   "metadata": {},
   "outputs": [
    {
     "data": {
      "text/html": [
       "<div>\n",
       "<style scoped>\n",
       "    .dataframe tbody tr th:only-of-type {\n",
       "        vertical-align: middle;\n",
       "    }\n",
       "\n",
       "    .dataframe tbody tr th {\n",
       "        vertical-align: top;\n",
       "    }\n",
       "\n",
       "    .dataframe thead th {\n",
       "        text-align: right;\n",
       "    }\n",
       "</style>\n",
       "<table border=\"1\" class=\"dataframe\">\n",
       "  <thead>\n",
       "    <tr style=\"text-align: right;\">\n",
       "      <th></th>\n",
       "      <th>linear</th>\n",
       "      <th>ridge</th>\n",
       "      <th>ridgeCV</th>\n",
       "      <th>lasso</th>\n",
       "      <th>lassoCV</th>\n",
       "      <th>elasticCV</th>\n",
       "      <th>decision_tree</th>\n",
       "    </tr>\n",
       "  </thead>\n",
       "  <tbody>\n",
       "    <tr>\n",
       "      <th>mae</th>\n",
       "      <td>1.23</td>\n",
       "      <td>1.23</td>\n",
       "      <td>1.23</td>\n",
       "      <td>1.76</td>\n",
       "      <td>1.42</td>\n",
       "      <td>1.24</td>\n",
       "      <td>1.15</td>\n",
       "    </tr>\n",
       "    <tr>\n",
       "      <th>mse</th>\n",
       "      <td>3.18</td>\n",
       "      <td>3.18</td>\n",
       "      <td>3.18</td>\n",
       "      <td>5.20</td>\n",
       "      <td>4.04</td>\n",
       "      <td>3.19</td>\n",
       "      <td>2.92</td>\n",
       "    </tr>\n",
       "    <tr>\n",
       "      <th>rmse</th>\n",
       "      <td>1.78</td>\n",
       "      <td>1.78</td>\n",
       "      <td>1.78</td>\n",
       "      <td>2.28</td>\n",
       "      <td>2.01</td>\n",
       "      <td>1.79</td>\n",
       "      <td>1.71</td>\n",
       "    </tr>\n",
       "    <tr>\n",
       "      <th>mape</th>\n",
       "      <td>0.55</td>\n",
       "      <td>0.55</td>\n",
       "      <td>0.55</td>\n",
       "      <td>0.98</td>\n",
       "      <td>0.74</td>\n",
       "      <td>0.56</td>\n",
       "      <td>0.48</td>\n",
       "    </tr>\n",
       "    <tr>\n",
       "      <th>r2</th>\n",
       "      <td>0.63</td>\n",
       "      <td>0.63</td>\n",
       "      <td>0.63</td>\n",
       "      <td>0.40</td>\n",
       "      <td>0.53</td>\n",
       "      <td>0.63</td>\n",
       "      <td>0.66</td>\n",
       "    </tr>\n",
       "    <tr>\n",
       "      <th>ev</th>\n",
       "      <td>0.63</td>\n",
       "      <td>0.63</td>\n",
       "      <td>0.63</td>\n",
       "      <td>0.40</td>\n",
       "      <td>0.53</td>\n",
       "      <td>0.63</td>\n",
       "      <td>0.66</td>\n",
       "    </tr>\n",
       "  </tbody>\n",
       "</table>\n",
       "</div>"
      ],
      "text/plain": [
       "      linear  ridge  ridgeCV  lasso  lassoCV  elasticCV  decision_tree\n",
       "mae     1.23   1.23     1.23   1.76     1.42       1.24           1.15\n",
       "mse     3.18   3.18     3.18   5.20     4.04       3.19           2.92\n",
       "rmse    1.78   1.78     1.78   2.28     2.01       1.79           1.71\n",
       "mape    0.55   0.55     0.55   0.98     0.74       0.56           0.48\n",
       "r2      0.63   0.63     0.63   0.40     0.53       0.63           0.66\n",
       "ev      0.63   0.63     0.63   0.40     0.53       0.63           0.66"
      ]
     },
     "execution_count": 1769,
     "metadata": {},
     "output_type": "execute_result"
    }
   ],
   "source": [
    "df_metrics"
   ]
  },
  {
   "cell_type": "code",
   "execution_count": 1756,
   "metadata": {},
   "outputs": [],
   "source": [
    "df_metrics_3 = df_metrics.copy()"
   ]
  },
  {
   "cell_type": "code",
   "execution_count": 1757,
   "metadata": {},
   "outputs": [
    {
     "data": {
      "text/html": [
       "<div>\n",
       "<style scoped>\n",
       "    .dataframe tbody tr th:only-of-type {\n",
       "        vertical-align: middle;\n",
       "    }\n",
       "\n",
       "    .dataframe tbody tr th {\n",
       "        vertical-align: top;\n",
       "    }\n",
       "\n",
       "    .dataframe thead th {\n",
       "        text-align: right;\n",
       "    }\n",
       "</style>\n",
       "<table border=\"1\" class=\"dataframe\">\n",
       "  <thead>\n",
       "    <tr style=\"text-align: right;\">\n",
       "      <th></th>\n",
       "      <th>index</th>\n",
       "      <th>Global_reactive_power</th>\n",
       "      <th>Voltage</th>\n",
       "      <th>Sub_metering_1</th>\n",
       "      <th>Sub_metering_2</th>\n",
       "      <th>Sub_metering_3</th>\n",
       "    </tr>\n",
       "  </thead>\n",
       "  <tbody>\n",
       "    <tr>\n",
       "      <th>0</th>\n",
       "      <td>linear</td>\n",
       "      <td>1.55</td>\n",
       "      <td>-1.78</td>\n",
       "      <td>11.84</td>\n",
       "      <td>-0.14</td>\n",
       "      <td>8.02</td>\n",
       "    </tr>\n",
       "    <tr>\n",
       "      <th>1</th>\n",
       "      <td>ridge</td>\n",
       "      <td>1.55</td>\n",
       "      <td>-1.78</td>\n",
       "      <td>11.83</td>\n",
       "      <td>-0.14</td>\n",
       "      <td>8.02</td>\n",
       "    </tr>\n",
       "    <tr>\n",
       "      <th>2</th>\n",
       "      <td>ridgeCV</td>\n",
       "      <td>1.55</td>\n",
       "      <td>-1.78</td>\n",
       "      <td>11.84</td>\n",
       "      <td>-0.14</td>\n",
       "      <td>8.02</td>\n",
       "    </tr>\n",
       "    <tr>\n",
       "      <th>3</th>\n",
       "      <td>lasso</td>\n",
       "      <td>0.00</td>\n",
       "      <td>-0.00</td>\n",
       "      <td>0.00</td>\n",
       "      <td>0.00</td>\n",
       "      <td>3.96</td>\n",
       "    </tr>\n",
       "    <tr>\n",
       "      <th>4</th>\n",
       "      <td>lassoCV</td>\n",
       "      <td>0.00</td>\n",
       "      <td>-0.00</td>\n",
       "      <td>0.00</td>\n",
       "      <td>0.00</td>\n",
       "      <td>6.85</td>\n",
       "    </tr>\n",
       "    <tr>\n",
       "      <th>5</th>\n",
       "      <td>elasticCV</td>\n",
       "      <td>1.54</td>\n",
       "      <td>-1.80</td>\n",
       "      <td>9.83</td>\n",
       "      <td>-0.12</td>\n",
       "      <td>7.93</td>\n",
       "    </tr>\n",
       "    <tr>\n",
       "      <th>6</th>\n",
       "      <td>decision_tree</td>\n",
       "      <td>0.04</td>\n",
       "      <td>0.02</td>\n",
       "      <td>0.09</td>\n",
       "      <td>0.00</td>\n",
       "      <td>0.84</td>\n",
       "    </tr>\n",
       "  </tbody>\n",
       "</table>\n",
       "</div>"
      ],
      "text/plain": [
       "           index  Global_reactive_power  Voltage  Sub_metering_1  \\\n",
       "0         linear                   1.55    -1.78           11.84   \n",
       "1          ridge                   1.55    -1.78           11.83   \n",
       "2        ridgeCV                   1.55    -1.78           11.84   \n",
       "3          lasso                   0.00    -0.00            0.00   \n",
       "4        lassoCV                   0.00    -0.00            0.00   \n",
       "5      elasticCV                   1.54    -1.80            9.83   \n",
       "6  decision_tree                   0.04     0.02            0.09   \n",
       "\n",
       "   Sub_metering_2  Sub_metering_3  \n",
       "0           -0.14            8.02  \n",
       "1           -0.14            8.02  \n",
       "2           -0.14            8.02  \n",
       "3            0.00            3.96  \n",
       "4            0.00            6.85  \n",
       "5           -0.12            7.93  \n",
       "6            0.00            0.84  "
      ]
     },
     "execution_count": 1757,
     "metadata": {},
     "output_type": "execute_result"
    }
   ],
   "source": [
    "df_coef"
   ]
  },
  {
   "cell_type": "code",
   "execution_count": 1816,
   "metadata": {},
   "outputs": [
    {
     "name": "stdout",
     "output_type": "stream",
     "text": [
      "Resultado de los modelos sin tratamiento de outliers y sin escalamiento de variables\n"
     ]
    },
    {
     "data": {
      "text/html": [
       "<div>\n",
       "<style scoped>\n",
       "    .dataframe tbody tr th:only-of-type {\n",
       "        vertical-align: middle;\n",
       "    }\n",
       "\n",
       "    .dataframe tbody tr th {\n",
       "        vertical-align: top;\n",
       "    }\n",
       "\n",
       "    .dataframe thead th {\n",
       "        text-align: right;\n",
       "    }\n",
       "</style>\n",
       "<table border=\"1\" class=\"dataframe\">\n",
       "  <thead>\n",
       "    <tr style=\"text-align: right;\">\n",
       "      <th></th>\n",
       "      <th>linear</th>\n",
       "      <th>ridge</th>\n",
       "      <th>ridgeCV</th>\n",
       "      <th>lasso</th>\n",
       "      <th>lassoCV</th>\n",
       "      <th>elastic</th>\n",
       "      <th>elasticCV</th>\n",
       "      <th>decision_tree</th>\n",
       "    </tr>\n",
       "  </thead>\n",
       "  <tbody>\n",
       "    <tr>\n",
       "      <th>mae</th>\n",
       "      <td>1.52</td>\n",
       "      <td>1.52</td>\n",
       "      <td>1.52</td>\n",
       "      <td>1.56</td>\n",
       "      <td>1.56</td>\n",
       "      <td>1.57</td>\n",
       "      <td>1.55</td>\n",
       "      <td>1.61</td>\n",
       "    </tr>\n",
       "    <tr>\n",
       "      <th>mse</th>\n",
       "      <td>5.05</td>\n",
       "      <td>5.05</td>\n",
       "      <td>5.05</td>\n",
       "      <td>5.32</td>\n",
       "      <td>5.29</td>\n",
       "      <td>5.33</td>\n",
       "      <td>5.21</td>\n",
       "      <td>7.30</td>\n",
       "    </tr>\n",
       "    <tr>\n",
       "      <th>rmse</th>\n",
       "      <td>2.25</td>\n",
       "      <td>2.25</td>\n",
       "      <td>2.25</td>\n",
       "      <td>2.31</td>\n",
       "      <td>2.30</td>\n",
       "      <td>2.31</td>\n",
       "      <td>2.28</td>\n",
       "      <td>2.70</td>\n",
       "    </tr>\n",
       "    <tr>\n",
       "      <th>mape</th>\n",
       "      <td>0.56</td>\n",
       "      <td>0.56</td>\n",
       "      <td>0.56</td>\n",
       "      <td>0.63</td>\n",
       "      <td>0.62</td>\n",
       "      <td>0.64</td>\n",
       "      <td>0.61</td>\n",
       "      <td>0.54</td>\n",
       "    </tr>\n",
       "    <tr>\n",
       "      <th>r2</th>\n",
       "      <td>0.74</td>\n",
       "      <td>0.74</td>\n",
       "      <td>0.74</td>\n",
       "      <td>0.73</td>\n",
       "      <td>0.73</td>\n",
       "      <td>0.73</td>\n",
       "      <td>0.73</td>\n",
       "      <td>0.63</td>\n",
       "    </tr>\n",
       "    <tr>\n",
       "      <th>ev</th>\n",
       "      <td>0.74</td>\n",
       "      <td>0.74</td>\n",
       "      <td>0.74</td>\n",
       "      <td>0.73</td>\n",
       "      <td>0.73</td>\n",
       "      <td>0.73</td>\n",
       "      <td>0.73</td>\n",
       "      <td>0.63</td>\n",
       "    </tr>\n",
       "  </tbody>\n",
       "</table>\n",
       "</div>"
      ],
      "text/plain": [
       "      linear  ridge  ridgeCV  lasso  lassoCV  elastic  elasticCV  \\\n",
       "mae     1.52   1.52     1.52   1.56     1.56     1.57       1.55   \n",
       "mse     5.05   5.05     5.05   5.32     5.29     5.33       5.21   \n",
       "rmse    2.25   2.25     2.25   2.31     2.30     2.31       2.28   \n",
       "mape    0.56   0.56     0.56   0.63     0.62     0.64       0.61   \n",
       "r2      0.74   0.74     0.74   0.73     0.73     0.73       0.73   \n",
       "ev      0.74   0.74     0.74   0.73     0.73     0.73       0.73   \n",
       "\n",
       "      decision_tree  \n",
       "mae            1.61  \n",
       "mse            7.30  \n",
       "rmse           2.70  \n",
       "mape           0.54  \n",
       "r2             0.63  \n",
       "ev             0.63  "
      ]
     },
     "execution_count": 1816,
     "metadata": {},
     "output_type": "execute_result"
    }
   ],
   "source": [
    "# Imprimir los resultados de los modelos\n",
    "print(\"Resultado de los modelos sin tratamiento de outliers y sin escalamiento de variables\")\n",
    "df_metrics_1\n"
   ]
  },
  {
   "cell_type": "code",
   "execution_count": 1763,
   "metadata": {},
   "outputs": [
    {
     "data": {
      "text/html": [
       "<div>\n",
       "<style scoped>\n",
       "    .dataframe tbody tr th:only-of-type {\n",
       "        vertical-align: middle;\n",
       "    }\n",
       "\n",
       "    .dataframe tbody tr th {\n",
       "        vertical-align: top;\n",
       "    }\n",
       "\n",
       "    .dataframe thead th {\n",
       "        text-align: right;\n",
       "    }\n",
       "</style>\n",
       "<table border=\"1\" class=\"dataframe\">\n",
       "  <thead>\n",
       "    <tr style=\"text-align: right;\">\n",
       "      <th></th>\n",
       "      <th>linear</th>\n",
       "      <th>ridge</th>\n",
       "      <th>ridgeCV</th>\n",
       "      <th>lasso</th>\n",
       "      <th>lassoCV</th>\n",
       "      <th>elastic</th>\n",
       "      <th>elasticCV</th>\n",
       "      <th>decision_tree</th>\n",
       "    </tr>\n",
       "  </thead>\n",
       "  <tbody>\n",
       "    <tr>\n",
       "      <th>mae</th>\n",
       "      <td>1.23</td>\n",
       "      <td>1.23</td>\n",
       "      <td>1.23</td>\n",
       "      <td>1.29</td>\n",
       "      <td>1.26</td>\n",
       "      <td>1.29</td>\n",
       "      <td>1.25</td>\n",
       "      <td>1.31</td>\n",
       "    </tr>\n",
       "    <tr>\n",
       "      <th>mse</th>\n",
       "      <td>3.18</td>\n",
       "      <td>3.18</td>\n",
       "      <td>3.18</td>\n",
       "      <td>3.37</td>\n",
       "      <td>3.31</td>\n",
       "      <td>3.38</td>\n",
       "      <td>3.27</td>\n",
       "      <td>4.47</td>\n",
       "    </tr>\n",
       "    <tr>\n",
       "      <th>rmse</th>\n",
       "      <td>1.78</td>\n",
       "      <td>1.78</td>\n",
       "      <td>1.78</td>\n",
       "      <td>1.83</td>\n",
       "      <td>1.82</td>\n",
       "      <td>1.84</td>\n",
       "      <td>1.81</td>\n",
       "      <td>2.11</td>\n",
       "    </tr>\n",
       "    <tr>\n",
       "      <th>mape</th>\n",
       "      <td>0.55</td>\n",
       "      <td>0.55</td>\n",
       "      <td>0.55</td>\n",
       "      <td>0.63</td>\n",
       "      <td>0.61</td>\n",
       "      <td>0.63</td>\n",
       "      <td>0.59</td>\n",
       "      <td>0.53</td>\n",
       "    </tr>\n",
       "    <tr>\n",
       "      <th>r2</th>\n",
       "      <td>0.63</td>\n",
       "      <td>0.63</td>\n",
       "      <td>0.63</td>\n",
       "      <td>0.61</td>\n",
       "      <td>0.62</td>\n",
       "      <td>0.61</td>\n",
       "      <td>0.62</td>\n",
       "      <td>0.48</td>\n",
       "    </tr>\n",
       "    <tr>\n",
       "      <th>ev</th>\n",
       "      <td>0.63</td>\n",
       "      <td>0.63</td>\n",
       "      <td>0.63</td>\n",
       "      <td>0.61</td>\n",
       "      <td>0.62</td>\n",
       "      <td>0.61</td>\n",
       "      <td>0.62</td>\n",
       "      <td>0.48</td>\n",
       "    </tr>\n",
       "  </tbody>\n",
       "</table>\n",
       "</div>"
      ],
      "text/plain": [
       "      linear  ridge  ridgeCV  lasso  lassoCV  elastic  elasticCV  \\\n",
       "mae     1.23   1.23     1.23   1.29     1.26     1.29       1.25   \n",
       "mse     3.18   3.18     3.18   3.37     3.31     3.38       3.27   \n",
       "rmse    1.78   1.78     1.78   1.83     1.82     1.84       1.81   \n",
       "mape    0.55   0.55     0.55   0.63     0.61     0.63       0.59   \n",
       "r2      0.63   0.63     0.63   0.61     0.62     0.61       0.62   \n",
       "ev      0.63   0.63     0.63   0.61     0.62     0.61       0.62   \n",
       "\n",
       "      decision_tree  \n",
       "mae            1.31  \n",
       "mse            4.47  \n",
       "rmse           2.11  \n",
       "mape           0.53  \n",
       "r2             0.48  \n",
       "ev             0.48  "
      ]
     },
     "execution_count": 1763,
     "metadata": {},
     "output_type": "execute_result"
    }
   ],
   "source": [
    "print(\"Resultado de los modelos con tratamiento outliers y sin escalamiento de variables\")\n",
    "\n",
    "df_metrics_2\n"
   ]
  },
  {
   "cell_type": "code",
   "execution_count": 1817,
   "metadata": {},
   "outputs": [
    {
     "name": "stdout",
     "output_type": "stream",
     "text": [
      "Resultado de los modelos con tratamiento outliers y escalamiento de variables\n"
     ]
    },
    {
     "data": {
      "text/html": [
       "<div>\n",
       "<style scoped>\n",
       "    .dataframe tbody tr th:only-of-type {\n",
       "        vertical-align: middle;\n",
       "    }\n",
       "\n",
       "    .dataframe tbody tr th {\n",
       "        vertical-align: top;\n",
       "    }\n",
       "\n",
       "    .dataframe thead th {\n",
       "        text-align: right;\n",
       "    }\n",
       "</style>\n",
       "<table border=\"1\" class=\"dataframe\">\n",
       "  <thead>\n",
       "    <tr style=\"text-align: right;\">\n",
       "      <th></th>\n",
       "      <th>linear</th>\n",
       "      <th>ridge</th>\n",
       "      <th>ridgeCV</th>\n",
       "      <th>lasso</th>\n",
       "      <th>lassoCV</th>\n",
       "      <th>elasticCV</th>\n",
       "      <th>decision_tree</th>\n",
       "    </tr>\n",
       "  </thead>\n",
       "  <tbody>\n",
       "    <tr>\n",
       "      <th>mae</th>\n",
       "      <td>1.23</td>\n",
       "      <td>1.23</td>\n",
       "      <td>1.23</td>\n",
       "      <td>1.76</td>\n",
       "      <td>1.42</td>\n",
       "      <td>1.24</td>\n",
       "      <td>1.15</td>\n",
       "    </tr>\n",
       "    <tr>\n",
       "      <th>mse</th>\n",
       "      <td>3.18</td>\n",
       "      <td>3.18</td>\n",
       "      <td>3.18</td>\n",
       "      <td>5.20</td>\n",
       "      <td>4.04</td>\n",
       "      <td>3.19</td>\n",
       "      <td>2.92</td>\n",
       "    </tr>\n",
       "    <tr>\n",
       "      <th>rmse</th>\n",
       "      <td>1.78</td>\n",
       "      <td>1.78</td>\n",
       "      <td>1.78</td>\n",
       "      <td>2.28</td>\n",
       "      <td>2.01</td>\n",
       "      <td>1.79</td>\n",
       "      <td>1.71</td>\n",
       "    </tr>\n",
       "    <tr>\n",
       "      <th>mape</th>\n",
       "      <td>0.55</td>\n",
       "      <td>0.55</td>\n",
       "      <td>0.55</td>\n",
       "      <td>0.98</td>\n",
       "      <td>0.74</td>\n",
       "      <td>0.56</td>\n",
       "      <td>0.48</td>\n",
       "    </tr>\n",
       "    <tr>\n",
       "      <th>r2</th>\n",
       "      <td>0.63</td>\n",
       "      <td>0.63</td>\n",
       "      <td>0.63</td>\n",
       "      <td>0.40</td>\n",
       "      <td>0.53</td>\n",
       "      <td>0.63</td>\n",
       "      <td>0.66</td>\n",
       "    </tr>\n",
       "    <tr>\n",
       "      <th>ev</th>\n",
       "      <td>0.63</td>\n",
       "      <td>0.63</td>\n",
       "      <td>0.63</td>\n",
       "      <td>0.40</td>\n",
       "      <td>0.53</td>\n",
       "      <td>0.63</td>\n",
       "      <td>0.66</td>\n",
       "    </tr>\n",
       "  </tbody>\n",
       "</table>\n",
       "</div>"
      ],
      "text/plain": [
       "      linear  ridge  ridgeCV  lasso  lassoCV  elasticCV  decision_tree\n",
       "mae     1.23   1.23     1.23   1.76     1.42       1.24           1.15\n",
       "mse     3.18   3.18     3.18   5.20     4.04       3.19           2.92\n",
       "rmse    1.78   1.78     1.78   2.28     2.01       1.79           1.71\n",
       "mape    0.55   0.55     0.55   0.98     0.74       0.56           0.48\n",
       "r2      0.63   0.63     0.63   0.40     0.53       0.63           0.66\n",
       "ev      0.63   0.63     0.63   0.40     0.53       0.63           0.66"
      ]
     },
     "execution_count": 1817,
     "metadata": {},
     "output_type": "execute_result"
    }
   ],
   "source": [
    "print(\"Resultado de los modelos con tratamiento outliers y escalamiento de variables\")\n",
    "\n",
    "df_metrics_3"
   ]
  },
  {
   "cell_type": "markdown",
   "metadata": {},
   "source": [
    "* El motivo por el cual las métricas de evaluación de los modelos con y sin escalado son prácticamente iguales se debe a las características de los datos. las variables predictoras tienen distribuciones que ya están relativamente balanceadas (es decir, no tienen rangos muy dispares o valores extremos significativos), el impacto del escalado será mínimo o nulo. Esto indica que, las relaciones entre las variables predictoras y la variable objetivo no se ven significativamente alteradas por el rango o la magnitud de los datos. Aqui notamos una mejoria muy leve en los  modelos en general, sin embargo, esto no justuficaria aplicar escalado ya que observamos que los modelos lineales sigue practicamente igual despues de aplicar el metodo de escalamiento MaxMin. "
   ]
  },
  {
   "cell_type": "markdown",
   "metadata": {},
   "source": [
    "* ¿Para qué sirve la métrica *explained variance*? El cálculo se encuentra en el código."
   ]
  },
  {
   "cell_type": "markdown",
   "metadata": {},
   "source": [
    "La metrica explained variance (varianza explicada) mide qué tan bien un modelo captura la variabilidad presente en la variable objetivo (Y). \n",
    "Es una forma de evaluar qué porcentaje de la dispersión de los datos es explicado por el modelo, lo que da una idea de su calidad de ajuste.\n",
    "\n",
    "Interpretación:\n",
    "Su valor oscila entre 1 y valores negativos:\n",
    "1: El modelo explica perfectamente toda la variabilidad en los datos (las predicciones son exactas).\n",
    "0: El modelo no explica ninguna variabilidad más allá de la media de los datos.\n",
    "Negativo: Las predicciones son peores que simplemente predecir la media de la variable objetivo.\n",
    "\n",
    "Funcionalidades:\n",
    "* - Entender el desempeño del modelo:\n",
    "Una métrica alta (cercana a 1) indica que el modelo captura bien las relaciones en los datos y predice con precisión.\n",
    "Un valor bajo sugiere que el modelo no está capturando bien las tendencias y patrones.\n",
    "* - Comparar modelos:\n",
    "Es útil para decidir entre varios modelos cuál explica mejor la variabilidad de la variable objetivo.\n",
    "* - Identificar problemas:\n",
    "Si el valor es negativo, indica que el modelo está haciendo un trabajo muy deficiente (incluso peor que simplemente predecir la media)."
   ]
  },
  {
   "cell_type": "markdown",
   "metadata": {},
   "source": [
    "* ¿Qué hiperparámetros de los modelos modificó para llegar a la mejor solución?"
   ]
  },
  {
   "cell_type": "markdown",
   "metadata": {},
   "source": [
    "Para obtener los mejores hiperamétros utilizamos GridSearchCV, el cual realiza una búsqueda exhaustiva de las mejores combinaciones de hiperparámetros a través de validación cruzada, evaluando el rendimiento del modelo en cada combinación y seleccionando la que dé los mejores resultados.\n",
    "\n",
    "## RESULTADOS OBTENIDOS: Hiperametros Resultantes con mejor  en modelos\n",
    "\n",
    "* Riger regresion:{'alpha': 0.1}\n",
    "* Lasso regresion:{'alpha': 0.1, 'fit_intercept': False, 'max_iter': 1000, 'tol': 0.001}\n",
    "* Lasso  Cross Validation:{'max_iter': 1000, 'tol': 0.0001}\n",
    "- Elastic Net: Ninguno ya que los testeados empeoro los resultados del modelo.\n",
    "- Elastic Net CV: Ninguno ya que los testeados empeoro los resultados del modelo.\n",
    "* Decision Tree: {'max_depth': 10, 'min_samples_leaf': 4, 'min_samples_split': 10}\n",
    "\n",
    "* Nota: Los hiperametros resultantes fueron aplicados en los ultimos modelos implementados en este notebook antes de este bloque de codigo.\n",
    "\n",
    "## A continuación se detalla el codigo que se utilizo para conseguir los hiperametros ideales.\n"
   ]
  },
  {
   "cell_type": "markdown",
   "metadata": {},
   "source": [
    "## Buscando los mejores hiperparametros para riger regresion"
   ]
  },
  {
   "cell_type": "code",
   "execution_count": null,
   "metadata": {},
   "outputs": [
    {
     "name": "stdout",
     "output_type": "stream",
     "text": [
      "Mejores hiperparámetros encontrados:\n",
      "{'alpha': 0.1}\n"
     ]
    }
   ],
   "source": [
    "from sklearn.linear_model import Ridge\n",
    "from sklearn.model_selection import GridSearchCV\n",
    "\n",
    "# Definir el rango de hiperparámetros a explorar\n",
    "param_grid = {\n",
    "    'alpha': [0.1, 1.0, 10.0, 100.0],  # Controla la penalización (Regularización L2)\n",
    "}\n",
    "\n",
    "# Crear el objeto GridSearchCV con Ridge Regression\n",
    "grid_search = GridSearchCV(Ridge(), param_grid, cv=5, scoring='neg_mean_absolute_error')\n",
    "\n",
    "# Ajustar el modelo con los datos de entrenamiento\n",
    "grid_search.fit(X_train, Y_train)\n",
    "\n",
    "\n",
    "print(grid_search.best_params_)"
   ]
  },
  {
   "cell_type": "markdown",
   "metadata": {},
   "source": [
    "## Buscando los mejores hiperparametros para Lasso Regression"
   ]
  },
  {
   "cell_type": "code",
   "execution_count": null,
   "metadata": {},
   "outputs": [
    {
     "name": "stdout",
     "output_type": "stream",
     "text": [
      "Mejores hiperparámetros encontrados:\n",
      "{'alpha': 0.1, 'fit_intercept': False, 'max_iter': 1000, 'tol': 0.001}\n"
     ]
    }
   ],
   "source": [
    "from sklearn.linear_model import Lasso\n",
    "from sklearn.model_selection import GridSearchCV\n",
    "\n",
    "# Definir el rango de hiperparámetros para Lasso\n",
    "param_grid = {\n",
    "    'alpha': [0.1, 0.5, 1.0, 5.0, 10.0],  # Regularización L1\n",
    "    'fit_intercept': [True, False],       # Incluir intercepto en el modelo\n",
    "    'max_iter': [1000, 5000, 10000],      # Número de iteraciones\n",
    "    'tol': [0.0001, 0.001, 0.01]          # Tolerancia para convergencia\n",
    "}\n",
    "\n",
    "# Crear el objeto GridSearchCV con Lasso\n",
    "grid_search = GridSearchCV(Lasso(random_state=13), param_grid, cv=5, scoring='neg_mean_absolute_error')\n",
    "\n",
    "# Ajustar el modelo con los datos de entrenamiento\n",
    "grid_search.fit(X_train, Y_train)\n",
    "\n",
    "print(grid_search.best_params_)\n"
   ]
  },
  {
   "cell_type": "markdown",
   "metadata": {},
   "source": [
    "## Buscando los mejores hiperparametros para Lasso  Cross Validation "
   ]
  },
  {
   "cell_type": "markdown",
   "metadata": {},
   "source": [
    "* Lasso  Cross Validation  ya incluye una validación cruzada interna para seleccionar el mejor valor de alpha. Esto significa que LassoCV se encarga automáticamente de realizar la búsqueda de hiperparámetros para alpha durante el ajuste del modelo. Sin embargo otros parametros como max_tier y tol pueden ser ajustados. "
   ]
  },
  {
   "cell_type": "code",
   "execution_count": 1784,
   "metadata": {},
   "outputs": [
    {
     "name": "stdout",
     "output_type": "stream",
     "text": [
      "{'max_iter': 1000, 'tol': 0.0001}\n"
     ]
    }
   ],
   "source": [
    "from sklearn.linear_model import LassoCV\n",
    "from sklearn.model_selection import GridSearchCV\n",
    "\n",
    "param_grid = {\n",
    "    'max_iter': [1000, 5000, 10000],      # Número de iteraciones\n",
    "    'tol': [0.0001, 0.001, 0.01]          # Tolerancia para convergencia\n",
    "}\n",
    "\n",
    "grid_search = GridSearchCV(LassoCV(random_state=13), param_grid, cv=5, scoring='neg_mean_absolute_error')\n",
    "\n",
    "# Ajustar el modelo con los datos de entrenamiento\n",
    "grid_search.fit(X_train, Y_train)\n",
    "\n",
    "print(grid_search.best_params_)\n"
   ]
  },
  {
   "cell_type": "markdown",
   "metadata": {},
   "source": [
    "## Buscando los mejores hiperparametros para Elastic Net"
   ]
  },
  {
   "cell_type": "code",
   "execution_count": null,
   "metadata": {},
   "outputs": [
    {
     "name": "stdout",
     "output_type": "stream",
     "text": [
      "Fitting 5 folds for each of 16 candidates, totalling 80 fits\n",
      "Mejores parámetros encontrados: {'alpha': 0.1, 'l1_ratio': 1.0}\n"
     ]
    }
   ],
   "source": [
    "from sklearn.linear_model import ElasticNet\n",
    "from sklearn.model_selection import GridSearchCV\n",
    "\n",
    "# Definir el rango de hiperparámetros para la búsqueda\n",
    "param_grid = {\n",
    "    'alpha': [0.1, 0.5, 1.0, 10.0],  # Valores posibles de alpha\n",
    "    'l1_ratio': [0.1, 0.5, 0.7, 1.0]  # Valores posibles de l1_ratio (1 = Lasso, 0 = Ridge)\n",
    "}\n",
    "\n",
    "# Inicializar el modelo ElasticNet\n",
    "elastic_model = ElasticNet(random_state=13)\n",
    "\n",
    "# Usar GridSearchCV para encontrar los mejores hiperparámetros\n",
    "grid_search = GridSearchCV(estimator=elastic_model, param_grid=param_grid, cv=5, n_jobs=-1, verbose=1)\n",
    "\n",
    "# Ajustar el modelo a los datos de entrenamiento\n",
    "grid_search.fit(X_train, Y_train)\n",
    "\n",
    "print(grid_search.best_params_)\n",
    "\n"
   ]
  },
  {
   "cell_type": "markdown",
   "metadata": {},
   "source": [
    "* Se testeo el modelo con los hiperparametros 'alpha': 0.1, 'l1_ratio': 1.0 en Elastic Net  pero no favorecio el modelo empeorando su capacidad de predecir."
   ]
  },
  {
   "cell_type": "markdown",
   "metadata": {},
   "source": [
    "## Buscando los mejores hiperparametros para Elastic Net CV"
   ]
  },
  {
   "cell_type": "code",
   "execution_count": null,
   "metadata": {},
   "outputs": [
    {
     "name": "stdout",
     "output_type": "stream",
     "text": [
      "Fitting 5 folds for each of 36 candidates, totalling 180 fits\n",
      "{'alphas': [0.1, 0.5, 1.0, 10.0], 'l1_ratio': 1.0, 'max_iter': 500, 'tol': 0.0001}\n"
     ]
    }
   ],
   "source": [
    "from sklearn.linear_model import ElasticNetCV\n",
    "from sklearn.model_selection import GridSearchCV\n",
    "\n",
    "# Definir el rango de hiperparámetros para la búsqueda\n",
    "param_grid = {\n",
    "    'alphas': [[0.1, 0.5, 1.0, 10.0]],  # Valores posibles de alpha (se pasa como lista dentro de una lista)\n",
    "    'l1_ratio': [0.1, 0.5, 0.7, 1.0],   # Valores posibles de l1_ratio\n",
    "    'max_iter': [500, 1000, 2000],   # Cambiar el número de iteraciones\n",
    "    'tol': [0.0001, 0.001, 0.01]     # Cambiar la tolerancia\n",
    "}\n",
    "\n",
    "# Inicializar el modelo ElasticNetCV\n",
    "elasticCV_model = ElasticNetCV(cv=5, random_state=13)\n",
    "\n",
    "# Usar GridSearchCV para encontrar los mejores hiperparámetros\n",
    "grid_search = GridSearchCV(estimator=elasticCV_model, param_grid=param_grid, cv=5, n_jobs=-1, verbose=1)\n",
    "\n",
    "# Ajustar el modelo a los datos de entrenamiento\n",
    "grid_search.fit(X_train, Y_train)\n",
    "\n",
    "print(grid_search.best_params_)"
   ]
  },
  {
   "cell_type": "markdown",
   "metadata": {},
   "source": [
    "* Se testeo el modelo con los hiperparametros'alphas': [0.1, 0.5, 1.0, 10.0], 'l1_ratio': 1.0, 'max_iter': 500, 'tol': 0.0001 en Elastic Net CV  pero no favoreció el modelo empeorando su capacidad de predecir."
   ]
  },
  {
   "cell_type": "markdown",
   "metadata": {},
   "source": [
    "## Buscando los mejores hiperparametros para Decision Tree"
   ]
  },
  {
   "cell_type": "code",
   "execution_count": 1810,
   "metadata": {},
   "outputs": [
    {
     "name": "stdout",
     "output_type": "stream",
     "text": [
      "Fitting 5 folds for each of 36 candidates, totalling 180 fits\n",
      "{'max_depth': 10, 'min_samples_leaf': 4, 'min_samples_split': 10}\n"
     ]
    }
   ],
   "source": [
    "from sklearn.tree import DecisionTreeRegressor\n",
    "from sklearn.model_selection import GridSearchCV\n",
    "\n",
    "# Definir los hiperparámetros a probar\n",
    "param_grid = {\n",
    "    'max_depth': [3, 5, 10, None],  # Profundidad máxima\n",
    "    'min_samples_split': [2, 5, 10],  # Número mínimo de muestras para dividir\n",
    "    'min_samples_leaf': [1, 2, 4]  # Número mínimo de muestras en una hoja\n",
    "  \n",
    "}\n",
    "\n",
    "# Inicializar el modelo DecisionTreeRegressor\n",
    "tree_model = DecisionTreeRegressor(random_state=13)\n",
    "\n",
    "# Realizar la búsqueda de hiperparámetros con GridSearchCV\n",
    "grid_search = GridSearchCV(estimator=tree_model, param_grid=param_grid, cv=5, n_jobs=-1, verbose=1)\n",
    "\n",
    "# Ajustar el modelo con los datos de entrenamiento\n",
    "grid_search.fit(X_train, Y_train)\n",
    "\n",
    "\n",
    "print(grid_search.best_params_)"
   ]
  },
  {
   "cell_type": "markdown",
   "metadata": {},
   "source": [
    "  * De los modelos que desarrolló ¿cuál es el que tiene mejor performance respecto a las métricas? interprete los resultados basándose en las métricas."
   ]
  },
  {
   "cell_type": "markdown",
   "metadata": {},
   "source": [
    "# Mostrando los resultados de los modelos finales (Despues de limpieza de outliers y ajuste de hiperparametros)"
   ]
  },
  {
   "cell_type": "code",
   "execution_count": 1813,
   "metadata": {},
   "outputs": [
    {
     "data": {
      "text/html": [
       "<div>\n",
       "<style scoped>\n",
       "    .dataframe tbody tr th:only-of-type {\n",
       "        vertical-align: middle;\n",
       "    }\n",
       "\n",
       "    .dataframe tbody tr th {\n",
       "        vertical-align: top;\n",
       "    }\n",
       "\n",
       "    .dataframe thead th {\n",
       "        text-align: right;\n",
       "    }\n",
       "</style>\n",
       "<table border=\"1\" class=\"dataframe\">\n",
       "  <thead>\n",
       "    <tr style=\"text-align: right;\">\n",
       "      <th></th>\n",
       "      <th>linear</th>\n",
       "      <th>ridge</th>\n",
       "      <th>ridgeCV</th>\n",
       "      <th>lasso</th>\n",
       "      <th>lassoCV</th>\n",
       "      <th>elasticCV</th>\n",
       "      <th>decision_tree</th>\n",
       "    </tr>\n",
       "  </thead>\n",
       "  <tbody>\n",
       "    <tr>\n",
       "      <th>mae</th>\n",
       "      <td>1.23</td>\n",
       "      <td>1.23</td>\n",
       "      <td>1.23</td>\n",
       "      <td>1.76</td>\n",
       "      <td>1.42</td>\n",
       "      <td>1.24</td>\n",
       "      <td>1.15</td>\n",
       "    </tr>\n",
       "    <tr>\n",
       "      <th>mse</th>\n",
       "      <td>3.18</td>\n",
       "      <td>3.18</td>\n",
       "      <td>3.18</td>\n",
       "      <td>5.20</td>\n",
       "      <td>4.04</td>\n",
       "      <td>3.19</td>\n",
       "      <td>2.92</td>\n",
       "    </tr>\n",
       "    <tr>\n",
       "      <th>rmse</th>\n",
       "      <td>1.78</td>\n",
       "      <td>1.78</td>\n",
       "      <td>1.78</td>\n",
       "      <td>2.28</td>\n",
       "      <td>2.01</td>\n",
       "      <td>1.79</td>\n",
       "      <td>1.71</td>\n",
       "    </tr>\n",
       "    <tr>\n",
       "      <th>mape</th>\n",
       "      <td>0.55</td>\n",
       "      <td>0.55</td>\n",
       "      <td>0.55</td>\n",
       "      <td>0.98</td>\n",
       "      <td>0.74</td>\n",
       "      <td>0.56</td>\n",
       "      <td>0.48</td>\n",
       "    </tr>\n",
       "    <tr>\n",
       "      <th>r2</th>\n",
       "      <td>0.63</td>\n",
       "      <td>0.63</td>\n",
       "      <td>0.63</td>\n",
       "      <td>0.40</td>\n",
       "      <td>0.53</td>\n",
       "      <td>0.63</td>\n",
       "      <td>0.66</td>\n",
       "    </tr>\n",
       "    <tr>\n",
       "      <th>ev</th>\n",
       "      <td>0.63</td>\n",
       "      <td>0.63</td>\n",
       "      <td>0.63</td>\n",
       "      <td>0.40</td>\n",
       "      <td>0.53</td>\n",
       "      <td>0.63</td>\n",
       "      <td>0.66</td>\n",
       "    </tr>\n",
       "  </tbody>\n",
       "</table>\n",
       "</div>"
      ],
      "text/plain": [
       "      linear  ridge  ridgeCV  lasso  lassoCV  elasticCV  decision_tree\n",
       "mae     1.23   1.23     1.23   1.76     1.42       1.24           1.15\n",
       "mse     3.18   3.18     3.18   5.20     4.04       3.19           2.92\n",
       "rmse    1.78   1.78     1.78   2.28     2.01       1.79           1.71\n",
       "mape    0.55   0.55     0.55   0.98     0.74       0.56           0.48\n",
       "r2      0.63   0.63     0.63   0.40     0.53       0.63           0.66\n",
       "ev      0.63   0.63     0.63   0.40     0.53       0.63           0.66"
      ]
     },
     "execution_count": 1813,
     "metadata": {},
     "output_type": "execute_result"
    }
   ],
   "source": [
    "df_metrics_3"
   ]
  },
  {
   "cell_type": "markdown",
   "metadata": {},
   "source": [
    "Basándonos en las métricas resultantes, el modelo que tiene mejor performance es el modelo de Decision Tree. \n",
    "\n",
    "* Error Absoluto Medio (MAE):\n",
    "\n",
    "Decision Tree tiene el menor MAE con un valor de 1.15, lo que indica que sus predicciones, en promedio, están más cerca de los valores reales comparado con otros modelos.\n",
    "\n",
    "* Error Cuadrático Medio (MSE):\n",
    "\n",
    "Decision Tree también tiene el menor MSE (2.92), lo que significa que penaliza menos los errores grandes en comparación con los demás modelos.\n",
    "Raíz del Error Cuadrático Medio (RMSE):\n",
    "\n",
    "Este modelo tiene el menor RMSE (1.71), lo que refuerza que sus predicciones son más precisas en términos generales.\n",
    "\n",
    "* Error Absoluto Porcentual Medio (MAPE):\n",
    "\n",
    "Decision Tree tiene el menor MAPE con 0.48, indicando que el porcentaje de error en las predicciones es el más bajo.\n",
    "\n",
    "* Coeficiente de Determinación (R2):\n",
    "\n",
    "Decision Tree alcanza el mayor R2 (0.66), lo que implica que explica mejor la variabilidad de los datos en comparación con los demás.\n",
    "\n",
    "* Varianza Explicada (EV):\n",
    "\n",
    "La métrica de varianza explicada es consistente con el R2 siendo 0.66 para Decision Tree, el mayor valor registrado.\n",
    "\n",
    "* Interpretación general:\n",
    "\n",
    "Antes de comenzar la tarea pudimos observar que con las variables predictoras que estaban en el modelo ofrecian una predición muy buena casi perfecta, sin embargo, en la tarea se pidio cambiar estas variables predictoras a (Global_reactive_power, Voltage, Sub_metering_1, Sub_metering_2, Sub_metering_3*) y la variable de salida a (Global Intensity), al hacer este cambio  pudimos observar que ya la relacion no era tan lineal por lo que modelo de Decision Tree supera en todas las métricas clave a los modelos lineales (Linear, Ridge, RidgeCV, Lasso, LassoCV y Elastic Net CV). Esto sugiere que la relación entre las variables no es completamente lineal, y un modelo basado en árboles, con mayor flexibilidad para capturar patrones complejos, se adapta mejor a los datos.\n",
    "\n",
    "* El modelo Decision Tree es la mejor elección según los resultados presentados depues de realizar la limpieza de outliers y ajuste de hiperparametros."
   ]
  },
  {
   "cell_type": "markdown",
   "metadata": {},
   "source": [
    "* ¿Qué diferencias observa al mirar los coeficientes de cada modelo? Interprete cuales son las variables que mejor modelan el problema."
   ]
  },
  {
   "cell_type": "markdown",
   "metadata": {},
   "source": [
    "* Imprimimos los coeficientes resultantes para su análisis"
   ]
  },
  {
   "cell_type": "code",
   "execution_count": 1814,
   "metadata": {},
   "outputs": [
    {
     "data": {
      "text/html": [
       "<div>\n",
       "<style scoped>\n",
       "    .dataframe tbody tr th:only-of-type {\n",
       "        vertical-align: middle;\n",
       "    }\n",
       "\n",
       "    .dataframe tbody tr th {\n",
       "        vertical-align: top;\n",
       "    }\n",
       "\n",
       "    .dataframe thead th {\n",
       "        text-align: right;\n",
       "    }\n",
       "</style>\n",
       "<table border=\"1\" class=\"dataframe\">\n",
       "  <thead>\n",
       "    <tr style=\"text-align: right;\">\n",
       "      <th></th>\n",
       "      <th>index</th>\n",
       "      <th>Global_reactive_power</th>\n",
       "      <th>Voltage</th>\n",
       "      <th>Sub_metering_1</th>\n",
       "      <th>Sub_metering_2</th>\n",
       "      <th>Sub_metering_3</th>\n",
       "    </tr>\n",
       "  </thead>\n",
       "  <tbody>\n",
       "    <tr>\n",
       "      <th>0</th>\n",
       "      <td>linear</td>\n",
       "      <td>1.55</td>\n",
       "      <td>-1.78</td>\n",
       "      <td>11.84</td>\n",
       "      <td>-0.14</td>\n",
       "      <td>8.02</td>\n",
       "    </tr>\n",
       "    <tr>\n",
       "      <th>1</th>\n",
       "      <td>ridge</td>\n",
       "      <td>1.55</td>\n",
       "      <td>-1.78</td>\n",
       "      <td>11.84</td>\n",
       "      <td>-0.14</td>\n",
       "      <td>8.02</td>\n",
       "    </tr>\n",
       "    <tr>\n",
       "      <th>2</th>\n",
       "      <td>ridgeCV</td>\n",
       "      <td>1.55</td>\n",
       "      <td>-1.78</td>\n",
       "      <td>11.84</td>\n",
       "      <td>-0.14</td>\n",
       "      <td>8.02</td>\n",
       "    </tr>\n",
       "    <tr>\n",
       "      <th>3</th>\n",
       "      <td>lasso</td>\n",
       "      <td>0.00</td>\n",
       "      <td>-0.00</td>\n",
       "      <td>0.00</td>\n",
       "      <td>0.00</td>\n",
       "      <td>3.96</td>\n",
       "    </tr>\n",
       "    <tr>\n",
       "      <th>4</th>\n",
       "      <td>lassoCV</td>\n",
       "      <td>0.00</td>\n",
       "      <td>-0.00</td>\n",
       "      <td>0.00</td>\n",
       "      <td>0.00</td>\n",
       "      <td>6.85</td>\n",
       "    </tr>\n",
       "    <tr>\n",
       "      <th>5</th>\n",
       "      <td>elasticCV</td>\n",
       "      <td>1.54</td>\n",
       "      <td>-1.80</td>\n",
       "      <td>9.83</td>\n",
       "      <td>-0.12</td>\n",
       "      <td>7.93</td>\n",
       "    </tr>\n",
       "    <tr>\n",
       "      <th>6</th>\n",
       "      <td>decision_tree</td>\n",
       "      <td>0.04</td>\n",
       "      <td>0.02</td>\n",
       "      <td>0.09</td>\n",
       "      <td>0.00</td>\n",
       "      <td>0.84</td>\n",
       "    </tr>\n",
       "  </tbody>\n",
       "</table>\n",
       "</div>"
      ],
      "text/plain": [
       "           index  Global_reactive_power  Voltage  Sub_metering_1  \\\n",
       "0         linear                   1.55    -1.78           11.84   \n",
       "1          ridge                   1.55    -1.78           11.84   \n",
       "2        ridgeCV                   1.55    -1.78           11.84   \n",
       "3          lasso                   0.00    -0.00            0.00   \n",
       "4        lassoCV                   0.00    -0.00            0.00   \n",
       "5      elasticCV                   1.54    -1.80            9.83   \n",
       "6  decision_tree                   0.04     0.02            0.09   \n",
       "\n",
       "   Sub_metering_2  Sub_metering_3  \n",
       "0           -0.14            8.02  \n",
       "1           -0.14            8.02  \n",
       "2           -0.14            8.02  \n",
       "3            0.00            3.96  \n",
       "4            0.00            6.85  \n",
       "5           -0.12            7.93  \n",
       "6            0.00            0.84  "
      ]
     },
     "execution_count": 1814,
     "metadata": {},
     "output_type": "execute_result"
    }
   ],
   "source": [
    "df_coef"
   ]
  },
  {
   "cell_type": "code",
   "execution_count": 1815,
   "metadata": {},
   "outputs": [
    {
     "name": "stdout",
     "output_type": "stream",
     "text": [
      "Feature: 0, Score: 0.04304\n",
      "Feature: 1, Score: 0.01995\n",
      "Feature: 2, Score: 0.08901\n",
      "Feature: 3, Score: 0.00499\n",
      "Feature: 4, Score: 0.84301\n"
     ]
    }
   ],
   "source": [
    "importance = tree_model.feature_importances_\n",
    "# summarize feature importance\n",
    "for i,v in enumerate(importance):\n",
    "\tprint('Feature: %0d, Score: %.5f' % (i,v))"
   ]
  },
  {
   "cell_type": "markdown",
   "metadata": {},
   "source": [
    "* Interpretación de las variables que mejor modelan el problema:\n",
    "\n",
    "- Sub_metering_1 y Sub_metering_3 son consistentemente las variables más importantes en los modelos lineales, indicando que estas tienen la mayor correlación con la variable objetivo.\n",
    "\n",
    "- Lasso y ElasticNet resaltan la relevancia de Sub_metering_3, lo que sugiere que, incluso con regularización, esta variable sigue siendo fundamental.\n",
    "\n",
    "- Global_reactive_power y Voltage tienen una contribución más pequeña en los modelos lineales y tienden a ser ignoradas o minimizadas en los modelos regularizados.\n",
    "\n",
    "- Decision Tree, aunque no proporciona coeficientes directamente interpretables, sugiere que las contribuciones de las variables están distribuidas de manera diferente, con Sub_metering_3 aún siendo destacada, pero con menor magnitud que en los modelos lineales. Mas abajo se detallan los resultados de decision Tree basado en feature_importances_:\n",
    "\n",
    "    + Sub_metering_3 tiene una puntuación de 0.84301 (84.3%), lo que significa que es, con mucho, la variable más relevante para predecir la variable objetivo.\n",
    "    * Sub_metering_1 tiene una importancia del 8.9%, mientras que las demás variables tienen importancias mucho menores:\n",
    "    * Global_reactive_power: 4.3%\n",
    "    * Voltage: 1.9%\n",
    "    * Sub_metering_2: 0.5% (prácticamente irrelevante).\n",
    "\n",
    "\n",
    "\n",
    "* En resumen, Sub_metering_3 parece ser la variable más relevante y consistente para modelar el problema, seguida por Sub_metering_1 en los modelos lineales. Otros factores como Global_reactive_power y Voltage tienen una menor influencia. Esto podría reflejar relaciones no lineales o redundancias que son capturadas mejor por modelos como ElasticNet o Decision Tree."
   ]
  },
  {
   "cell_type": "markdown",
   "metadata": {},
   "source": []
  }
 ],
 "metadata": {
  "kernelspec": {
   "display_name": ".venv",
   "language": "python",
   "name": "python3"
  },
  "language_info": {
   "codemirror_mode": {
    "name": "ipython",
    "version": 3
   },
   "file_extension": ".py",
   "mimetype": "text/x-python",
   "name": "python",
   "nbconvert_exporter": "python",
   "pygments_lexer": "ipython3",
   "version": "3.10.5"
  }
 },
 "nbformat": 4,
 "nbformat_minor": 4
}
