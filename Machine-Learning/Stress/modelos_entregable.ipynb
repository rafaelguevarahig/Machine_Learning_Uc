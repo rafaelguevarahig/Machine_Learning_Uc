{
 "cells": [
  {
   "cell_type": "markdown",
   "id": "563450e8",
   "metadata": {},
   "source": [
    "# Impelemtación de Molodes de Machine Learning.\n"
   ]
  },
  {
   "cell_type": "code",
   "execution_count": 123,
   "id": "e347fb1b",
   "metadata": {},
   "outputs": [
    {
     "name": "stdout",
     "output_type": "stream",
     "text": [
      "Requirement already satisfied: pandas in c:\\users\\rafael.guevara\\documents\\estudios 2025\\machine_learning_uc\\.venv\\lib\\site-packages (2.3.3)\n",
      "Requirement already satisfied: numpy>=1.26.0 in c:\\users\\rafael.guevara\\documents\\estudios 2025\\machine_learning_uc\\.venv\\lib\\site-packages (from pandas) (2.1.3)\n",
      "Requirement already satisfied: python-dateutil>=2.8.2 in c:\\users\\rafael.guevara\\documents\\estudios 2025\\machine_learning_uc\\.venv\\lib\\site-packages (from pandas) (2.9.0.post0)\n",
      "Requirement already satisfied: pytz>=2020.1 in c:\\users\\rafael.guevara\\documents\\estudios 2025\\machine_learning_uc\\.venv\\lib\\site-packages (from pandas) (2025.2)\n",
      "Requirement already satisfied: tzdata>=2022.7 in c:\\users\\rafael.guevara\\documents\\estudios 2025\\machine_learning_uc\\.venv\\lib\\site-packages (from pandas) (2025.2)\n",
      "Requirement already satisfied: six>=1.5 in c:\\users\\rafael.guevara\\documents\\estudios 2025\\machine_learning_uc\\.venv\\lib\\site-packages (from python-dateutil>=2.8.2->pandas) (1.17.0)\n",
      "Requirement already satisfied: seaborn in c:\\users\\rafael.guevara\\documents\\estudios 2025\\machine_learning_uc\\.venv\\lib\\site-packages (0.13.2)\n",
      "Requirement already satisfied: numpy!=1.24.0,>=1.20 in c:\\users\\rafael.guevara\\documents\\estudios 2025\\machine_learning_uc\\.venv\\lib\\site-packages (from seaborn) (2.1.3)\n",
      "Requirement already satisfied: pandas>=1.2 in c:\\users\\rafael.guevara\\documents\\estudios 2025\\machine_learning_uc\\.venv\\lib\\site-packages (from seaborn) (2.3.3)\n",
      "Requirement already satisfied: matplotlib!=3.6.1,>=3.4 in c:\\users\\rafael.guevara\\documents\\estudios 2025\\machine_learning_uc\\.venv\\lib\\site-packages (from seaborn) (3.10.0)\n",
      "Requirement already satisfied: contourpy>=1.0.1 in c:\\users\\rafael.guevara\\documents\\estudios 2025\\machine_learning_uc\\.venv\\lib\\site-packages (from matplotlib!=3.6.1,>=3.4->seaborn) (1.3.3)\n",
      "Requirement already satisfied: cycler>=0.10 in c:\\users\\rafael.guevara\\documents\\estudios 2025\\machine_learning_uc\\.venv\\lib\\site-packages (from matplotlib!=3.6.1,>=3.4->seaborn) (0.12.1)\n",
      "Requirement already satisfied: fonttools>=4.22.0 in c:\\users\\rafael.guevara\\documents\\estudios 2025\\machine_learning_uc\\.venv\\lib\\site-packages (from matplotlib!=3.6.1,>=3.4->seaborn) (4.60.1)\n",
      "Requirement already satisfied: kiwisolver>=1.3.1 in c:\\users\\rafael.guevara\\documents\\estudios 2025\\machine_learning_uc\\.venv\\lib\\site-packages (from matplotlib!=3.6.1,>=3.4->seaborn) (1.4.9)\n",
      "Requirement already satisfied: packaging>=20.0 in c:\\users\\rafael.guevara\\documents\\estudios 2025\\machine_learning_uc\\.venv\\lib\\site-packages (from matplotlib!=3.6.1,>=3.4->seaborn) (25.0)\n",
      "Requirement already satisfied: pillow>=8 in c:\\users\\rafael.guevara\\documents\\estudios 2025\\machine_learning_uc\\.venv\\lib\\site-packages (from matplotlib!=3.6.1,>=3.4->seaborn) (12.0.0)\n",
      "Requirement already satisfied: pyparsing>=2.3.1 in c:\\users\\rafael.guevara\\documents\\estudios 2025\\machine_learning_uc\\.venv\\lib\\site-packages (from matplotlib!=3.6.1,>=3.4->seaborn) (3.2.5)\n",
      "Requirement already satisfied: python-dateutil>=2.7 in c:\\users\\rafael.guevara\\documents\\estudios 2025\\machine_learning_uc\\.venv\\lib\\site-packages (from matplotlib!=3.6.1,>=3.4->seaborn) (2.9.0.post0)\n",
      "Requirement already satisfied: pytz>=2020.1 in c:\\users\\rafael.guevara\\documents\\estudios 2025\\machine_learning_uc\\.venv\\lib\\site-packages (from pandas>=1.2->seaborn) (2025.2)\n",
      "Requirement already satisfied: tzdata>=2022.7 in c:\\users\\rafael.guevara\\documents\\estudios 2025\\machine_learning_uc\\.venv\\lib\\site-packages (from pandas>=1.2->seaborn) (2025.2)\n",
      "Requirement already satisfied: six>=1.5 in c:\\users\\rafael.guevara\\documents\\estudios 2025\\machine_learning_uc\\.venv\\lib\\site-packages (from python-dateutil>=2.7->matplotlib!=3.6.1,>=3.4->seaborn) (1.17.0)\n",
      "Requirement already satisfied: seaborn in c:\\users\\rafael.guevara\\documents\\estudios 2025\\machine_learning_uc\\.venv\\lib\\site-packages (0.13.2)\n",
      "Requirement already satisfied: numpy!=1.24.0,>=1.20 in c:\\users\\rafael.guevara\\documents\\estudios 2025\\machine_learning_uc\\.venv\\lib\\site-packages (from seaborn) (2.1.3)\n",
      "Requirement already satisfied: pandas>=1.2 in c:\\users\\rafael.guevara\\documents\\estudios 2025\\machine_learning_uc\\.venv\\lib\\site-packages (from seaborn) (2.3.3)\n",
      "Requirement already satisfied: matplotlib!=3.6.1,>=3.4 in c:\\users\\rafael.guevara\\documents\\estudios 2025\\machine_learning_uc\\.venv\\lib\\site-packages (from seaborn) (3.10.0)\n",
      "Requirement already satisfied: contourpy>=1.0.1 in c:\\users\\rafael.guevara\\documents\\estudios 2025\\machine_learning_uc\\.venv\\lib\\site-packages (from matplotlib!=3.6.1,>=3.4->seaborn) (1.3.3)\n",
      "Requirement already satisfied: cycler>=0.10 in c:\\users\\rafael.guevara\\documents\\estudios 2025\\machine_learning_uc\\.venv\\lib\\site-packages (from matplotlib!=3.6.1,>=3.4->seaborn) (0.12.1)\n",
      "Requirement already satisfied: fonttools>=4.22.0 in c:\\users\\rafael.guevara\\documents\\estudios 2025\\machine_learning_uc\\.venv\\lib\\site-packages (from matplotlib!=3.6.1,>=3.4->seaborn) (4.60.1)\n",
      "Requirement already satisfied: kiwisolver>=1.3.1 in c:\\users\\rafael.guevara\\documents\\estudios 2025\\machine_learning_uc\\.venv\\lib\\site-packages (from matplotlib!=3.6.1,>=3.4->seaborn) (1.4.9)\n",
      "Requirement already satisfied: packaging>=20.0 in c:\\users\\rafael.guevara\\documents\\estudios 2025\\machine_learning_uc\\.venv\\lib\\site-packages (from matplotlib!=3.6.1,>=3.4->seaborn) (25.0)\n",
      "Requirement already satisfied: pillow>=8 in c:\\users\\rafael.guevara\\documents\\estudios 2025\\machine_learning_uc\\.venv\\lib\\site-packages (from matplotlib!=3.6.1,>=3.4->seaborn) (12.0.0)\n",
      "Requirement already satisfied: pyparsing>=2.3.1 in c:\\users\\rafael.guevara\\documents\\estudios 2025\\machine_learning_uc\\.venv\\lib\\site-packages (from matplotlib!=3.6.1,>=3.4->seaborn) (3.2.5)\n",
      "Requirement already satisfied: python-dateutil>=2.7 in c:\\users\\rafael.guevara\\documents\\estudios 2025\\machine_learning_uc\\.venv\\lib\\site-packages (from matplotlib!=3.6.1,>=3.4->seaborn) (2.9.0.post0)\n",
      "Requirement already satisfied: pytz>=2020.1 in c:\\users\\rafael.guevara\\documents\\estudios 2025\\machine_learning_uc\\.venv\\lib\\site-packages (from pandas>=1.2->seaborn) (2025.2)\n",
      "Requirement already satisfied: tzdata>=2022.7 in c:\\users\\rafael.guevara\\documents\\estudios 2025\\machine_learning_uc\\.venv\\lib\\site-packages (from pandas>=1.2->seaborn) (2025.2)\n",
      "Requirement already satisfied: six>=1.5 in c:\\users\\rafael.guevara\\documents\\estudios 2025\\machine_learning_uc\\.venv\\lib\\site-packages (from python-dateutil>=2.7->matplotlib!=3.6.1,>=3.4->seaborn) (1.17.0)\n",
      "Requirement already satisfied: scikit-learn in c:\\users\\rafael.guevara\\documents\\estudios 2025\\machine_learning_uc\\.venv\\lib\\site-packages (1.7.2)\n",
      "Requirement already satisfied: numpy>=1.22.0 in c:\\users\\rafael.guevara\\documents\\estudios 2025\\machine_learning_uc\\.venv\\lib\\site-packages (from scikit-learn) (2.1.3)\n",
      "Requirement already satisfied: scipy>=1.8.0 in c:\\users\\rafael.guevara\\documents\\estudios 2025\\machine_learning_uc\\.venv\\lib\\site-packages (from scikit-learn) (1.15.3)\n",
      "Requirement already satisfied: joblib>=1.2.0 in c:\\users\\rafael.guevara\\documents\\estudios 2025\\machine_learning_uc\\.venv\\lib\\site-packages (from scikit-learn) (1.5.2)\n",
      "Requirement already satisfied: threadpoolctl>=3.1.0 in c:\\users\\rafael.guevara\\documents\\estudios 2025\\machine_learning_uc\\.venv\\lib\\site-packages (from scikit-learn) (3.6.0)\n",
      "Requirement already satisfied: scikit-learn in c:\\users\\rafael.guevara\\documents\\estudios 2025\\machine_learning_uc\\.venv\\lib\\site-packages (1.7.2)\n",
      "Requirement already satisfied: numpy>=1.22.0 in c:\\users\\rafael.guevara\\documents\\estudios 2025\\machine_learning_uc\\.venv\\lib\\site-packages (from scikit-learn) (2.1.3)\n",
      "Requirement already satisfied: scipy>=1.8.0 in c:\\users\\rafael.guevara\\documents\\estudios 2025\\machine_learning_uc\\.venv\\lib\\site-packages (from scikit-learn) (1.15.3)\n",
      "Requirement already satisfied: joblib>=1.2.0 in c:\\users\\rafael.guevara\\documents\\estudios 2025\\machine_learning_uc\\.venv\\lib\\site-packages (from scikit-learn) (1.5.2)\n",
      "Requirement already satisfied: threadpoolctl>=3.1.0 in c:\\users\\rafael.guevara\\documents\\estudios 2025\\machine_learning_uc\\.venv\\lib\\site-packages (from scikit-learn) (3.6.0)\n",
      "Requirement already satisfied: xgboost in c:\\users\\rafael.guevara\\documents\\estudios 2025\\machine_learning_uc\\.venv\\lib\\site-packages (3.1.1)\n",
      "Requirement already satisfied: numpy in c:\\users\\rafael.guevara\\documents\\estudios 2025\\machine_learning_uc\\.venv\\lib\\site-packages (from xgboost) (2.1.3)\n",
      "Requirement already satisfied: scipy in c:\\users\\rafael.guevara\\documents\\estudios 2025\\machine_learning_uc\\.venv\\lib\\site-packages (from xgboost) (1.15.3)\n",
      "Requirement already satisfied: xgboost in c:\\users\\rafael.guevara\\documents\\estudios 2025\\machine_learning_uc\\.venv\\lib\\site-packages (3.1.1)\n",
      "Requirement already satisfied: numpy in c:\\users\\rafael.guevara\\documents\\estudios 2025\\machine_learning_uc\\.venv\\lib\\site-packages (from xgboost) (2.1.3)\n",
      "Requirement already satisfied: scipy in c:\\users\\rafael.guevara\\documents\\estudios 2025\\machine_learning_uc\\.venv\\lib\\site-packages (from xgboost) (1.15.3)\n"
     ]
    },
    {
     "name": "stderr",
     "output_type": "stream",
     "text": [
      "ERROR: Invalid requirement: '##': Expected package name at the start of dependency specifier\n",
      "    ##\n",
      "    ^\n"
     ]
    }
   ],
   "source": [
    "# instalación de paquetes\n",
    "!pip install pandas\n",
    "!pip install seaborn\n",
    "!pip install scikit-learn\n",
    "!pip install xgboost\n",
    "!pip install xgboost --no-binary xgboost ## mac m1"
   ]
  },
  {
   "cell_type": "code",
   "execution_count": 101,
   "id": "98198d87",
   "metadata": {},
   "outputs": [],
   "source": [
    "from sklearn.neighbors import KNeighborsClassifier\n",
    "from sklearn.svm import SVC\n",
    "from sklearn.preprocessing import StandardScaler, Normalizer\n",
    "from sklearn.pipeline import Pipeline\n",
    "from sklearn.model_selection import StratifiedKFold, cross_val_score,cross_validate\n",
    "from sklearn.metrics import accuracy_score\n",
    "from sklearn.model_selection import train_test_split,GridSearchCV\n",
    "from sklearn.metrics import make_scorer, accuracy_score, precision_score, recall_score, f1_score,classification_report\n",
    "from sklearn.metrics import confusion_matrix\n",
    "from sklearn.ensemble import RandomForestClassifier\n",
    "\n",
    "\n",
    "\n",
    "\n",
    "import numpy as np\n",
    "import matplotlib.pyplot as plt\n",
    "import pandas as pd\n",
    "import seaborn as sns\n",
    "import plotly.graph_objects as go\n",
    "\n",
    "\n",
    "import xgboost as xgb\n",
    "from xgboost import XGBClassifier"
   ]
  },
  {
   "cell_type": "code",
   "execution_count": 9,
   "id": "03fcd333",
   "metadata": {},
   "outputs": [
    {
     "data": {
      "text/html": [
       "<div>\n",
       "<style scoped>\n",
       "    .dataframe tbody tr th:only-of-type {\n",
       "        vertical-align: middle;\n",
       "    }\n",
       "\n",
       "    .dataframe tbody tr th {\n",
       "        vertical-align: top;\n",
       "    }\n",
       "\n",
       "    .dataframe thead th {\n",
       "        text-align: right;\n",
       "    }\n",
       "</style>\n",
       "<table border=\"1\" class=\"dataframe\">\n",
       "  <thead>\n",
       "    <tr style=\"text-align: right;\">\n",
       "      <th></th>\n",
       "      <th>Age</th>\n",
       "      <th>Gender</th>\n",
       "      <th>Marital_Status</th>\n",
       "      <th>Sleep_Duration</th>\n",
       "      <th>Sleep_Quality</th>\n",
       "      <th>Physical_Activity</th>\n",
       "      <th>Screen_Time</th>\n",
       "      <th>Caffeine_Intake</th>\n",
       "      <th>Alcohol_Intake</th>\n",
       "      <th>Smoking_Habit</th>\n",
       "      <th>...</th>\n",
       "      <th>Social_Interactions</th>\n",
       "      <th>Meditation_Practice</th>\n",
       "      <th>Exercise_Type</th>\n",
       "      <th>Blood_Pressure</th>\n",
       "      <th>Cholesterol_Level</th>\n",
       "      <th>Blood_Sugar_Level</th>\n",
       "      <th>Stress_Detection</th>\n",
       "      <th>sleep_hours</th>\n",
       "      <th>sleep_efficiency</th>\n",
       "      <th>Occupation_Group</th>\n",
       "    </tr>\n",
       "  </thead>\n",
       "  <tbody>\n",
       "    <tr>\n",
       "      <th>0</th>\n",
       "      <td>30.0</td>\n",
       "      <td>1</td>\n",
       "      <td>0</td>\n",
       "      <td>7.0</td>\n",
       "      <td>4.0</td>\n",
       "      <td>2.0</td>\n",
       "      <td>4.0</td>\n",
       "      <td>1</td>\n",
       "      <td>0</td>\n",
       "      <td>0</td>\n",
       "      <td>...</td>\n",
       "      <td>5.0</td>\n",
       "      <td>1</td>\n",
       "      <td>1</td>\n",
       "      <td>120.0</td>\n",
       "      <td>180.0</td>\n",
       "      <td>90.0</td>\n",
       "      <td>0</td>\n",
       "      <td>9.0</td>\n",
       "      <td>7.777778</td>\n",
       "      <td>10</td>\n",
       "    </tr>\n",
       "    <tr>\n",
       "      <th>1</th>\n",
       "      <td>35.0</td>\n",
       "      <td>0</td>\n",
       "      <td>2</td>\n",
       "      <td>6.0</td>\n",
       "      <td>3.0</td>\n",
       "      <td>1.0</td>\n",
       "      <td>3.0</td>\n",
       "      <td>0</td>\n",
       "      <td>1</td>\n",
       "      <td>0</td>\n",
       "      <td>...</td>\n",
       "      <td>3.0</td>\n",
       "      <td>0</td>\n",
       "      <td>6</td>\n",
       "      <td>110.0</td>\n",
       "      <td>160.0</td>\n",
       "      <td>80.0</td>\n",
       "      <td>1</td>\n",
       "      <td>7.0</td>\n",
       "      <td>8.571429</td>\n",
       "      <td>0</td>\n",
       "    </tr>\n",
       "    <tr>\n",
       "      <th>2</th>\n",
       "      <td>40.0</td>\n",
       "      <td>1</td>\n",
       "      <td>1</td>\n",
       "      <td>7.0</td>\n",
       "      <td>4.0</td>\n",
       "      <td>2.0</td>\n",
       "      <td>4.0</td>\n",
       "      <td>1</td>\n",
       "      <td>0</td>\n",
       "      <td>0</td>\n",
       "      <td>...</td>\n",
       "      <td>5.0</td>\n",
       "      <td>1</td>\n",
       "      <td>4</td>\n",
       "      <td>130.0</td>\n",
       "      <td>200.0</td>\n",
       "      <td>100.0</td>\n",
       "      <td>2</td>\n",
       "      <td>9.0</td>\n",
       "      <td>7.777778</td>\n",
       "      <td>10</td>\n",
       "    </tr>\n",
       "    <tr>\n",
       "      <th>3</th>\n",
       "      <td>35.0</td>\n",
       "      <td>1</td>\n",
       "      <td>0</td>\n",
       "      <td>7.0</td>\n",
       "      <td>4.0</td>\n",
       "      <td>2.0</td>\n",
       "      <td>4.0</td>\n",
       "      <td>1</td>\n",
       "      <td>0</td>\n",
       "      <td>0</td>\n",
       "      <td>...</td>\n",
       "      <td>5.0</td>\n",
       "      <td>1</td>\n",
       "      <td>1</td>\n",
       "      <td>120.0</td>\n",
       "      <td>180.0</td>\n",
       "      <td>90.0</td>\n",
       "      <td>0</td>\n",
       "      <td>9.0</td>\n",
       "      <td>7.777778</td>\n",
       "      <td>10</td>\n",
       "    </tr>\n",
       "    <tr>\n",
       "      <th>4</th>\n",
       "      <td>29.0</td>\n",
       "      <td>0</td>\n",
       "      <td>0</td>\n",
       "      <td>8.0</td>\n",
       "      <td>5.0</td>\n",
       "      <td>3.0</td>\n",
       "      <td>2.0</td>\n",
       "      <td>1</td>\n",
       "      <td>0</td>\n",
       "      <td>0</td>\n",
       "      <td>...</td>\n",
       "      <td>4.0</td>\n",
       "      <td>1</td>\n",
       "      <td>6</td>\n",
       "      <td>110.0</td>\n",
       "      <td>180.0</td>\n",
       "      <td>90.0</td>\n",
       "      <td>0</td>\n",
       "      <td>8.0</td>\n",
       "      <td>10.000000</td>\n",
       "      <td>2</td>\n",
       "    </tr>\n",
       "  </tbody>\n",
       "</table>\n",
       "<p>5 rows × 22 columns</p>\n",
       "</div>"
      ],
      "text/plain": [
       "    Age  Gender  Marital_Status  Sleep_Duration  Sleep_Quality  \\\n",
       "0  30.0       1               0             7.0            4.0   \n",
       "1  35.0       0               2             6.0            3.0   \n",
       "2  40.0       1               1             7.0            4.0   \n",
       "3  35.0       1               0             7.0            4.0   \n",
       "4  29.0       0               0             8.0            5.0   \n",
       "\n",
       "   Physical_Activity  Screen_Time  Caffeine_Intake  Alcohol_Intake  \\\n",
       "0                2.0          4.0                1               0   \n",
       "1                1.0          3.0                0               1   \n",
       "2                2.0          4.0                1               0   \n",
       "3                2.0          4.0                1               0   \n",
       "4                3.0          2.0                1               0   \n",
       "\n",
       "   Smoking_Habit  ...  Social_Interactions  Meditation_Practice  \\\n",
       "0              0  ...                  5.0                    1   \n",
       "1              0  ...                  3.0                    0   \n",
       "2              0  ...                  5.0                    1   \n",
       "3              0  ...                  5.0                    1   \n",
       "4              0  ...                  4.0                    1   \n",
       "\n",
       "   Exercise_Type  Blood_Pressure  Cholesterol_Level  Blood_Sugar_Level  \\\n",
       "0              1           120.0              180.0               90.0   \n",
       "1              6           110.0              160.0               80.0   \n",
       "2              4           130.0              200.0              100.0   \n",
       "3              1           120.0              180.0               90.0   \n",
       "4              6           110.0              180.0               90.0   \n",
       "\n",
       "   Stress_Detection  sleep_hours  sleep_efficiency  Occupation_Group  \n",
       "0                 0          9.0          7.777778                10  \n",
       "1                 1          7.0          8.571429                 0  \n",
       "2                 2          9.0          7.777778                10  \n",
       "3                 0          9.0          7.777778                10  \n",
       "4                 0          8.0         10.000000                 2  \n",
       "\n",
       "[5 rows x 22 columns]"
      ]
     },
     "execution_count": 9,
     "metadata": {},
     "output_type": "execute_result"
    }
   ],
   "source": [
    "# Leemos el dataset limpio\n",
    "# Este dataset ya se encuentra analizado y preparado para aplicar modelos de Machine Learning, en caso de querer profundizar en el EDA y limpieza de datos, revisar el notebook \"decoding-stress-with-ai-shap.ipynb\"\n",
    "# Para Obtener detalles de los feactores y la variable objetivo, revisar el notebook \"decoding-stress-with-ai-shap.ipynb\"\n",
    "\n",
    "df = pd.read_csv('data_cleaned_to_ml.csv') \n",
    "df.head()"
   ]
  },
  {
   "cell_type": "code",
   "execution_count": 11,
   "id": "d3b0be6a",
   "metadata": {},
   "outputs": [],
   "source": [
    "X = df.drop(columns=['Stress_Detection']) # Separamos los features de la variable objetivo\n",
    "y = df['Stress_Detection'] # varible objetivo\n",
    "\n",
    "# Segmentamos los datos en entrenamiento y prueba\n",
    "X_train, X_test, y_train, y_test = train_test_split(X, y, test_size=0.2, random_state=42) "
   ]
  },
  {
   "cell_type": "code",
   "execution_count": null,
   "id": "f6487f15",
   "metadata": {},
   "outputs": [],
   "source": [
    "# Clasificación con K-Nearest Neighbors (KNN)"
   ]
  },
  {
   "cell_type": "code",
   "execution_count": 12,
   "id": "96c082b9",
   "metadata": {},
   "outputs": [
    {
     "name": "stdout",
     "output_type": "stream",
     "text": [
      "\n",
      "✅ Matriz de covarianza inversa calculada: (21, 21)\n"
     ]
    }
   ],
   "source": [
    "# Estandarizar datos para calcular matriz de covarianza para distancia de Mahalanobis\n",
    "scaler_for_vi = StandardScaler()\n",
    "X_train_scaled = scaler_for_vi.fit_transform(X_train)\n",
    "cov = np.cov(X_train_scaled, rowvar=False)\n",
    "VI = np.linalg.inv(cov + 1e-6*np.eye(cov.shape[0]))  # Regularización para invertibilidad\n",
    "\n",
    "print(f\"\\n✅ Matriz de covarianza inversa calculada: {VI.shape}\")"
   ]
  },
  {
   "cell_type": "code",
   "execution_count": 13,
   "id": "14e1c951",
   "metadata": {},
   "outputs": [],
   "source": [
    "# Definimos un pipeline de KNN que puede usar diferentes métricas y pesos\n",
    "\n",
    "def knn_pipeline(metric, metric_params=None, weights=\"uniform\", n_neighbors=5, \n",
    "                 cosine_norm=False, mahalanobis_VI=None):\n",
    "    \"\"\"\n",
    "    Crea un pipeline de KNN con diferentes métricas y pesos.\n",
    "    \n",
    "    Args:\n",
    "        metric: Métrica a usar ('minkowski', 'chebyshev', 'cosine', 'mahalanobis')\n",
    "        metric_params: Parámetros adicionales para la métrica\n",
    "        weights: 'uniform' o 'distance'\n",
    "        n_neighbors: Número de vecinos\n",
    "        cosine_norm: Si True, normaliza para coseno\n",
    "        mahalanobis_VI: Matriz inversa de covarianza para Mahalanobis\n",
    "    \"\"\"\n",
    "    steps = [(\"scaler\", StandardScaler())]\n",
    "    \n",
    "    # Para coseno conviene normalizar (ángulo):\n",
    "    if metric == \"cosine\" or cosine_norm:\n",
    "        steps.append((\"normalizer\", Normalizer(norm=\"l2\")))\n",
    "    \n",
    "    # Configurar KNN según métrica\n",
    "    if metric == \"mahalanobis\":\n",
    "        clf = KNeighborsClassifier(\n",
    "            n_neighbors=n_neighbors, \n",
    "            weights=weights,\n",
    "            metric=metric, \n",
    "            metric_params={\"VI\": mahalanobis_VI}\n",
    "        )\n",
    "    else:\n",
    "        clf = KNeighborsClassifier(\n",
    "            n_neighbors=n_neighbors, \n",
    "            weights=weights,\n",
    "            metric=metric, \n",
    "            metric_params=metric_params\n",
    "        )\n",
    "    \n",
    "    steps.append((\"knn\", clf))\n",
    "    return Pipeline(steps)\n"
   ]
  },
  {
   "cell_type": "code",
   "execution_count": 17,
   "id": "3ee65a07",
   "metadata": {},
   "outputs": [
    {
     "name": "stdout",
     "output_type": "stream",
     "text": [
      "\n",
      "🔄 Evaluando: L2 / uniform\n",
      "   ✅ Mejor k: 3 | CV Accuracy: 0.8408\n",
      "\n",
      "🔄 Evaluando: L2 / distance\n",
      "   ✅ Mejor k: 3 | CV Accuracy: 0.8408\n",
      "\n",
      "🔄 Evaluando: L2 / distance\n",
      "   ✅ Mejor k: 4 | CV Accuracy: 0.8675\n",
      "\n",
      "🔄 Evaluando: L1 / uniform\n",
      "   ✅ Mejor k: 4 | CV Accuracy: 0.8675\n",
      "\n",
      "🔄 Evaluando: L1 / uniform\n",
      "   ✅ Mejor k: 3 | CV Accuracy: 0.8875\n",
      "\n",
      "🔄 Evaluando: L∞ / uniform\n",
      "   ✅ Mejor k: 3 | CV Accuracy: 0.8875\n",
      "\n",
      "🔄 Evaluando: L∞ / uniform\n",
      "   ✅ Mejor k: 3 | CV Accuracy: 0.7096\n",
      "\n",
      "🔄 Evaluando: Coseno / uniform\n",
      "   ✅ Mejor k: 3 | CV Accuracy: 0.7096\n",
      "\n",
      "🔄 Evaluando: Coseno / uniform\n",
      "   ✅ Mejor k: 3 | CV Accuracy: 0.8375\n",
      "\n",
      "🔄 Evaluando: Mahalanobis / uniform\n",
      "   ✅ Mejor k: 3 | CV Accuracy: 0.8375\n",
      "\n",
      "🔄 Evaluando: Mahalanobis / uniform\n",
      "   ✅ Mejor k: 3 | CV Accuracy: 0.8533\n",
      "   ✅ Mejor k: 3 | CV Accuracy: 0.8533\n"
     ]
    }
   ],
   "source": [
    "# Creamos un configuracion para cada metrca de e iteramos sobre ellas apra evaluar cada una\n",
    "\n",
    "# Configuraciones de métricas a evaluar\n",
    "metric_configs = [\n",
    "    (\"L2 / uniform\",   {\"metric\": \"minkowski\", \"params\": {\"p\": 2}, \"weights\": \"uniform\"}),\n",
    "    (\"L2 / distance\",  {\"metric\": \"minkowski\", \"params\": {\"p\": 2}, \"weights\": \"distance\"}),\n",
    "    (\"L1 / uniform\",   {\"metric\": \"minkowski\", \"params\": {\"p\": 1}, \"weights\": \"uniform\"}),\n",
    "    (\"L∞ / uniform\",   {\"metric\": \"chebyshev\", \"params\": None,     \"weights\": \"uniform\"}),\n",
    "    (\"Coseno / uniform\", {\"metric\": \"cosine\", \"params\": None, \"weights\": \"uniform\", \"cosine_norm\": True}),\n",
    "    (\"Mahalanobis / uniform\", {\"metric\": \"mahalanobis\", \"params\": None, \"weights\": \"uniform\", \"mahalanobis_VI\": VI}),\n",
    "]\n",
    "\n",
    "# Evaluamos desde k=3 por defecto (k=1 tiende a sobreajustar)\n",
    "# Si quieres incluir k=1 para comparación, cambia a range(1, 21)\n",
    "k_range = range(3, 21)  \n",
    "skf = StratifiedKFold(n_splits=5, shuffle=True, random_state=42)\n",
    "\n",
    "# Almacenar resultados\n",
    "results = {}\n",
    "\n",
    "for name, config in metric_configs:\n",
    "    print(f\"\\n🔄 Evaluando: {name}\")\n",
    "    \n",
    "    k_scores = []\n",
    "    for k in k_range:\n",
    "        # Crear pipeline con k específico\n",
    "        if config[\"metric\"] == \"mahalanobis\":\n",
    "            pipe = knn_pipeline(\n",
    "                config[\"metric\"], \n",
    "                config[\"params\"], \n",
    "                config[\"weights\"], \n",
    "                n_neighbors=k,\n",
    "                mahalanobis_VI=config[\"mahalanobis_VI\"]\n",
    "            )\n",
    "        elif config.get(\"cosine_norm\"):\n",
    "            pipe = knn_pipeline(\n",
    "                config[\"metric\"], \n",
    "                config[\"params\"], \n",
    "                config[\"weights\"], \n",
    "                n_neighbors=k,\n",
    "                cosine_norm=True\n",
    "            )\n",
    "        else:\n",
    "            pipe = knn_pipeline(\n",
    "                config[\"metric\"], \n",
    "                config[\"params\"], \n",
    "                config[\"weights\"], \n",
    "                n_neighbors=k\n",
    "            )\n",
    "        \n",
    "        # Validación cruzada\n",
    "        scores = cross_val_score(\n",
    "            pipe, X_train, y_train, \n",
    "            cv=skf, \n",
    "            scoring=\"accuracy\", \n",
    "            n_jobs=-1\n",
    "        )\n",
    "        k_scores.append(scores.mean())\n",
    "    \n",
    "    # Guardar resultados\n",
    "    best_k = k_range[np.argmax(k_scores)]\n",
    "    best_score = max(k_scores)\n",
    "    results[name] = {\n",
    "        \"k_scores\": k_scores,\n",
    "        \"best_k\": best_k,\n",
    "        \"best_score\": best_score\n",
    "    }\n",
    "    \n",
    "    print(f\"   ✅ Mejor k: {best_k} | CV Accuracy: {best_score:.4f}\")"
   ]
  },
  {
   "cell_type": "code",
   "execution_count": 18,
   "id": "e0a98367",
   "metadata": {},
   "outputs": [
    {
     "data": {
      "image/png": "[encoded data removed]",
      "text/plain": [
       "<Figure size 1200x600 with 1 Axes>"
      ]
     },
     "metadata": {},
     "output_type": "display_data"
    },
    {
     "data": {
      "image/png": "[encoded data removed]",
      "text/plain": [
       "<Figure size 1000x600 with 1 Axes>"
      ]
     },
     "metadata": {},
     "output_type": "display_data"
    }
   ],
   "source": [
    "# Creamos una grafica para visualizar los resultados de K\n",
    "\n",
    "# Gráfica 1: Líneas para todas las métricas\n",
    "fig, ax = plt.subplots(figsize=(12, 6))\n",
    "\n",
    "colors = ['#2ecc71', '#3498db', '#e74c3c', '#f39c12', '#9b59b6', '#1abc9c']\n",
    "markers = ['o', 's', '^', 'D', 'v', 'P']\n",
    "\n",
    "for (name, _), color, marker in zip(metric_configs, colors, markers):\n",
    "    ax.plot(\n",
    "        k_range, \n",
    "        results[name][\"k_scores\"], \n",
    "        marker=marker,\n",
    "        linewidth=2,\n",
    "        markersize=6,\n",
    "        label=f'{name} (k={results[name] [\"best_k\"]})',\n",
    "        color=color\n",
    "    )\n",
    "\n",
    "ax.set_xlabel('Valor de k (vecinos)', fontsize=12, fontweight='bold')\n",
    "ax.set_ylabel('Accuracy (CV 5-fold)', fontsize=12, fontweight='bold')\n",
    "ax.set_title('KNN: Comparación de Métricas - Accuracy vs K', fontsize=14, fontweight='bold')\n",
    "ax.legend(loc='best', fontsize=10)\n",
    "ax.grid(True, alpha=0.3)\n",
    "ax.set_xticks(k_range)\n",
    "plt.tight_layout()\n",
    "plt.show()\n",
    "\n",
    "# Gráfica 2: Comparación de mejores K por métrica (barras)\n",
    "fig, ax = plt.subplots(figsize=(10, 6))\n",
    "\n",
    "names = [name for name, _ in metric_configs]\n",
    "best_scores = [results[name][\"best_score\"] for name in names]\n",
    "best_ks = [results[name][\"best_k\"] for name in names]\n",
    "\n",
    "x_pos = np.arange(len(names))\n",
    "bars = ax.bar(x_pos, best_scores, color=colors, alpha=0.7, edgecolor='black')\n",
    "\n",
    "# Añadir valores de k sobre las barras\n",
    "for i, (bar, k) in enumerate(zip(bars, best_ks)):\n",
    "    height = bar.get_height()\n",
    "    ax.text(\n",
    "        bar.get_x() + bar.get_width()/2., \n",
    "        height + 0.005,\n",
    "        f'k={k}',\n",
    "        ha='center', \n",
    "        va='bottom', \n",
    "        fontsize=10,\n",
    "        fontweight='bold'\n",
    "    )\n",
    "\n",
    "ax.set_ylabel('Accuracy (CV 5-fold)', fontsize=12, fontweight='bold')\n",
    "ax.set_title('KNN: Mejor Accuracy por Métrica (con k óptimo)', fontsize=14, fontweight='bold')\n",
    "ax.set_xticks(x_pos)\n",
    "ax.set_xticklabels(names, rotation=20, ha='right')\n",
    "ax.set_ylim(0, 1)\n",
    "ax.grid(axis='y', alpha=0.3)\n",
    "plt.tight_layout()\n",
    "plt.show()"
   ]
  },
  {
   "cell_type": "code",
   "execution_count": 20,
   "id": "baee4efd",
   "metadata": {},
   "outputs": [
    {
     "name": "stdout",
     "output_type": "stream",
     "text": [
      "\n",
      "🏆 Mejor configuración global:\n",
      "   • Métrica: L1 / uniform\n",
      "   • k óptimo: 3\n",
      "   • CV Accuracy: 0.8875\n"
     ]
    }
   ],
   "source": [
    "\n",
    "# Mostramos la mejor configuración de global, en nuestro caso y de acuerdo  a la grafica seria l1/uniform con un k=3\n",
    "\n",
    "best_metric_name = max(results, key=lambda x: results[x][\"best_score\"])\n",
    "best_metric_config = [c for name, c in metric_configs if name == best_metric_name][0]\n",
    "best_k = results[best_metric_name][\"best_k\"]\n",
    "\n",
    "print(f\"\\n🏆 Mejor configuración global:\")\n",
    "print(f\"   • Métrica: {best_metric_name}\")\n",
    "print(f\"   • k óptimo: {best_k}\")\n",
    "print(f\"   • CV Accuracy: {results[best_metric_name]['best_score']:.4f}\")"
   ]
  },
  {
   "cell_type": "code",
   "execution_count": 22,
   "id": "a76eea23",
   "metadata": {},
   "outputs": [],
   "source": [
    "# Ahora vamos entrenar el modelo final con la mejor configuración encontrada.\n",
    "# El codigo siguiente esta adaptando para funcionar con diferentes metricas L1, L2, Coseno y Mahalanobis\n",
    "\n",
    "if best_metric_config[\"metric\"] == \"mahalanobis\":\n",
    "    final_pipe = knn_pipeline(\n",
    "        best_metric_config[\"metric\"], \n",
    "        best_metric_config[\"params\"], \n",
    "        best_metric_config[\"weights\"], \n",
    "        n_neighbors=best_k,\n",
    "        mahalanobis_VI=best_metric_config[\"mahalanobis_VI\"]\n",
    "    )\n",
    "elif best_metric_config.get(\"cosine_norm\"):\n",
    "    final_pipe = knn_pipeline(\n",
    "        best_metric_config[\"metric\"], \n",
    "        best_metric_config[\"params\"], \n",
    "        best_metric_config[\"weights\"], \n",
    "        n_neighbors=best_k,\n",
    "        cosine_norm=True\n",
    "    )\n",
    "else:\n",
    "    final_pipe = knn_pipeline(\n",
    "        best_metric_config[\"metric\"], \n",
    "        best_metric_config[\"params\"], \n",
    "        best_metric_config[\"weights\"], \n",
    "        n_neighbors=best_k\n",
    "    )"
   ]
  },
  {
   "cell_type": "code",
   "execution_count": 26,
   "id": "55e2385c",
   "metadata": {},
   "outputs": [
    {
     "name": "stdout",
     "output_type": "stream",
     "text": [
      "\n",
      "✅ RESULTADOS EN CONJUNTO DE TEST:\n",
      "--------------------------------------------------------------------------------\n",
      "Accuracy:  0.9067\n",
      "Precision: 0.8948\n",
      "Recall:    0.8892\n",
      "F1-Score:  0.8919\n"
     ]
    },
    {
     "name": "stderr",
     "output_type": "stream",
     "text": [
      "c:\\Users\\rafael.guevara\\Documents\\Estudios 2025\\Machine_Learning_Uc\\.venv\\Lib\\site-packages\\sklearn\\neighbors\\_classification.py:239: SyntaxWarning: Parameter p is found in metric_params. The corresponding parameter from __init__ is ignored.\n",
      "  return self._fit(X, y)\n"
     ]
    }
   ],
   "source": [
    "# Ya definido la configuración del modelo final, procedemos a entrenar y evaluar en el conjunto de test\n",
    "\n",
    "# Entrenar y predecir\n",
    "final_pipe.fit(X_train, y_train)\n",
    "y_pred_knn_final = final_pipe.predict(X_test)\n",
    "\n",
    "# Métricas en test\n",
    "test_accuracy_knn = accuracy_score(y_test, y_pred_knn_final)\n",
    "test_precision_knn = precision_score(y_test, y_pred_knn_final, average='macro', zero_division=0)\n",
    "test_recall_knn = recall_score(y_test, y_pred_knn_final, average='macro', zero_division=0)\n",
    "test_f1_knn = f1_score(y_test, y_pred_knn_final, average='macro', zero_division=0)\n",
    "\n",
    "print(f\"\\n✅ RESULTADOS EN CONJUNTO DE TEST:\")\n",
    "print(\"-\" * 80)\n",
    "print(f\"Accuracy:  {test_accuracy_knn:.4f}\")\n",
    "print(f\"Precision: {test_precision_knn:.4f}\")\n",
    "print(f\"Recall:    {test_recall_knn:.4f}\")\n",
    "print(f\"F1-Score:  {test_f1_knn:.4f}\")\n"
   ]
  },
  {
   "cell_type": "code",
   "execution_count": 30,
   "id": "10844c21",
   "metadata": {},
   "outputs": [
    {
     "data": {
      "image/png": "[encoded data removed]",
      "text/plain": [
       "<Figure size 800x600 with 2 Axes>"
      ]
     },
     "metadata": {},
     "output_type": "display_data"
    }
   ],
   "source": [
    "#Matriz de confusión de KNN con la mejor configuración\n",
    "\n",
    "cm_knn_final = confusion_matrix(y_test, y_pred_knn_final)\n",
    "\n",
    "plt.figure(figsize=(8, 6))\n",
    "sns.heatmap(\n",
    "    cm_knn_final, \n",
    "    annot=True, \n",
    "    fmt='d', \n",
    "    cmap='Purples', \n",
    "    linewidths=2,\n",
    "    xticklabels=['Low', 'Medium', 'High'],\n",
    "    yticklabels=['Low', 'Medium', 'High'],\n",
    "    cbar_kws={'label': 'Número de predicciones'}\n",
    ")\n",
    "plt.title(f'Matriz de Confusión - KNN {best_metric_name} (k={best_k})', \n",
    "          fontsize=14, fontweight='bold', pad=20)\n",
    "plt.xlabel('Predicción', fontsize=12, fontweight='bold')\n",
    "plt.ylabel('Valor Real', fontsize=12, fontweight='bold')\n",
    "plt.tight_layout()\n",
    "plt.show()"
   ]
  },
  {
   "cell_type": "code",
   "execution_count": null,
   "id": "a8490b53",
   "metadata": {},
   "outputs": [],
   "source": [
    "# Clasificación con Support Vector Machine (SVM)"
   ]
  },
  {
   "cell_type": "code",
   "execution_count": 33,
   "id": "91fc63d4",
   "metadata": {},
   "outputs": [],
   "source": [
    "# Establecemos la configuración de los distintos tipos de kernels a evaluar\n",
    "kernels_config = [\n",
    "    (\"Linear\", {\"kernel\": \"linear\", \"C\": 1.0}),\n",
    "    (\"Poly (grado=3)\", {\"kernel\": \"poly\", \"C\": 1.0, \"degree\": 3, \"gamma\": \"scale\", \"coef0\": 1.0}),\n",
    "    (\"RBF\", {\"kernel\": \"rbf\", \"C\": 1.0, \"gamma\": \"scale\"}),\n",
    "    (\"Sigmoid\", {\"kernel\": \"sigmoid\", \"C\": 1.0, \"gamma\": \"scale\", \"coef0\": 1.0}),\n",
    "]"
   ]
  },
  {
   "cell_type": "code",
   "execution_count": 34,
   "id": "d47d1cc7",
   "metadata": {},
   "outputs": [],
   "source": [
    "# Nos aseguramos de escalar los datos de entrada al modelo de estaforma buscamos que hirperplano sea optimo y no esta afectado por caracteristicas con escalas grandes\n",
    "scaler = StandardScaler()\n",
    "X_train_scaled = scaler.fit_transform(X_train)\n",
    "X_test_scaled = scaler.transform(X_test)"
   ]
  },
  {
   "cell_type": "code",
   "execution_count": 37,
   "id": "ac8a24c2",
   "metadata": {},
   "outputs": [
    {
     "name": "stdout",
     "output_type": "stream",
     "text": [
      "\n",
      "🔄 Evaluando kernel: Linear\n",
      "   ✅ Test Accuracy: 0.6667\n",
      "   ✅ CV Accuracy: 0.6562 (+/- 0.0260)\n",
      "   📊 Support Vectors: 1706\n",
      "\n",
      "🔄 Evaluando kernel: Poly (grado=3)\n",
      "   ✅ Test Accuracy: 0.8317\n",
      "   ✅ CV Accuracy: 0.8200 (+/- 0.0339)\n",
      "   📊 Support Vectors: 1304\n",
      "\n",
      "🔄 Evaluando kernel: RBF\n",
      "   ✅ Test Accuracy: 0.7817\n",
      "   ✅ CV Accuracy: 0.7921 (+/- 0.0454)\n",
      "   📊 Support Vectors: 1586\n",
      "\n",
      "🔄 Evaluando kernel: Sigmoid\n",
      "   ✅ Test Accuracy: 0.3750\n",
      "   ✅ CV Accuracy: 0.4150 (+/- 0.0229)\n",
      "   📊 Support Vectors: 1688\n"
     ]
    }
   ],
   "source": [
    "# Evaluación de cada kernel\n",
    "kernel_results = {}\n",
    "cv_stratified = StratifiedKFold(n_splits=5, shuffle=True, random_state=42)\n",
    "\n",
    "for name, params in kernels_config:\n",
    "    print(f\"\\n🔄 Evaluando kernel: {name}\")\n",
    "    \n",
    "    # Crear y entrenar modelo\n",
    "    clf = SVC(**params, random_state=42)\n",
    "    clf.fit(X_train_scaled, y_train)\n",
    "    \n",
    "    # Predicciones\n",
    "    y_pred = clf.predict(X_test_scaled)\n",
    "    \n",
    "    # Métricas en test\n",
    "    acc = accuracy_score(y_test, y_pred)\n",
    "    prec = precision_score(y_test, y_pred, average='macro', zero_division=0)\n",
    "    rec = recall_score(y_test, y_pred, average='macro', zero_division=0)\n",
    "    f1 = f1_score(y_test, y_pred, average='macro', zero_division=0)\n",
    "    \n",
    "    # Validación cruzada\n",
    "    cv_scores = cross_val_score(clf, X_train_scaled, y_train, cv=cv_stratified, \n",
    "                                scoring='accuracy', n_jobs=-1)\n",
    "    \n",
    "    # Guardar resultados\n",
    "    kernel_results[name] = {\n",
    "        'test_acc': acc,\n",
    "        'test_prec': prec,\n",
    "        'test_rec': rec,\n",
    "        'test_f1': f1,\n",
    "        'cv_acc_mean': cv_scores.mean(),\n",
    "        'cv_acc_std': cv_scores.std(),\n",
    "        'n_support': clf.support_.shape[0] if hasattr(clf, 'support_') else None\n",
    "    }\n",
    "    \n",
    "    print(f\"   ✅ Test Accuracy: {acc:.4f}\")\n",
    "    print(f\"   ✅ CV Accuracy: {cv_scores.mean():.4f} (+/- {cv_scores.std()*2:.4f})\")\n",
    "    if kernel_results[name]['n_support']:\n",
    "        print(f\"   📊 Support Vectors: {kernel_results[name]['n_support']}\")\n",
    "\n"
   ]
  },
  {
   "cell_type": "code",
   "execution_count": 40,
   "id": "994d3105",
   "metadata": {},
   "outputs": [
    {
     "name": "stdout",
     "output_type": "stream",
     "text": [
      "                test_acc  test_prec  test_rec  test_f1  cv_acc_mean  \\\n",
      "Linear            0.6667     0.6515    0.6109   0.6190       0.6562   \n",
      "Poly (grado=3)    0.8317     0.8328    0.7908   0.8050       0.8200   \n",
      "RBF               0.7817     0.7945    0.7291   0.7460       0.7921   \n",
      "Sigmoid           0.3750     0.3718    0.3618   0.3628       0.4150   \n",
      "\n",
      "                cv_acc_std  n_support  \n",
      "Linear              0.0130     1706.0  \n",
      "Poly (grado=3)      0.0170     1304.0  \n",
      "RBF                 0.0227     1586.0  \n",
      "Sigmoid             0.0114     1688.0  \n"
     ]
    },
    {
     "data": {
      "application/vnd.plotly.v1+json": {
       "config": {
        "plotlyServerURL": "https://plot.ly"
       },
       "data": [
        {
         "marker": {
          "color": "#3498db"
         },
         "name": "Accuracy",
         "text": [
          "0.667",
          "0.832",
          "0.782",
          "0.375"
         ],
         "textposition": "auto",
         "type": "bar",
         "x": [
          "Linear",
          "Poly (grado=3)",
          "RBF",
          "Sigmoid"
         ],
         "y": [
          0.6666666666666666,
          0.8316666666666667,
          0.7816666666666666,
          0.375
         ]
        },
        {
         "marker": {
          "color": "#2ecc71"
         },
         "name": "Precision",
         "text": [
          "0.651",
          "0.833",
          "0.795",
          "0.372"
         ],
         "textposition": "auto",
         "type": "bar",
         "x": [
          "Linear",
          "Poly (grado=3)",
          "RBF",
          "Sigmoid"
         ],
         "y": [
          0.6514839343695882,
          0.8327865106624391,
          0.7945211770899845,
          0.37179814651079024
         ]
        },
        {
         "marker": {
          "color": "#f39c12"
         },
         "name": "Recall",
         "text": [
          "0.611",
          "0.791",
          "0.729",
          "0.362"
         ],
         "textposition": "auto",
         "type": "bar",
         "x": [
          "Linear",
          "Poly (grado=3)",
          "RBF",
          "Sigmoid"
         ],
         "y": [
          0.6109204952940921,
          0.7907857081633463,
          0.7290517694648813,
          0.36181952392100575
         ]
        },
        {
         "marker": {
          "color": "#886e6b"
         },
         "name": "F1-Score",
         "text": [
          "0.619",
          "0.805",
          "0.746",
          "0.363"
         ],
         "textposition": "auto",
         "type": "bar",
         "x": [
          "Linear",
          "Poly (grado=3)",
          "RBF",
          "Sigmoid"
         ],
         "y": [
          0.618956754373421,
          0.8049505286078604,
          0.7460111986245791,
          0.3627971258883984
         ]
        }
       ],
       "layout": {
        "barmode": "group",
        "height": 500,
        "template": {
         "data": {
          "bar": [
           {
            "error_x": {
             "color": "#2a3f5f"
            },
            "error_y": {
             "color": "#2a3f5f"
            },
            "marker": {
             "line": {
              "color": "#E5ECF6",
              "width": 0.5
             },
             "pattern": {
              "fillmode": "overlay",
              "size": 10,
              "solidity": 0.2
             }
            },
            "type": "bar"
           }
          ],
          "barpolar": [
           {
            "marker": {
             "line": {
              "color": "#E5ECF6",
              "width": 0.5
             },
             "pattern": {
              "fillmode": "overlay",
              "size": 10,
              "solidity": 0.2
             }
            },
            "type": "barpolar"
           }
          ],
          "carpet": [
           {
            "aaxis": {
             "endlinecolor": "#2a3f5f",
             "gridcolor": "white",
             "linecolor": "white",
             "minorgridcolor": "white",
             "startlinecolor": "#2a3f5f"
            },
            "baxis": {
             "endlinecolor": "#2a3f5f",
             "gridcolor": "white",
             "linecolor": "white",
             "minorgridcolor": "white",
             "startlinecolor": "#2a3f5f"
            },
            "type": "carpet"
           }
          ],
          "choropleth": [
           {
            "colorbar": {
             "outlinewidth": 0,
             "ticks": ""
            },
            "type": "choropleth"
           }
          ],
          "contour": [
           {
            "colorbar": {
             "outlinewidth": 0,
             "ticks": ""
            },
            "colorscale": [
             [
              0,
              "#0d0887"
             ],
             [
              0.1111111111111111,
              "#46039f"
             ],
             [
              0.2222222222222222,
              "#7201a8"
             ],
             [
              0.3333333333333333,
              "#9c179e"
             ],
             [
              0.4444444444444444,
              "#bd3786"
             ],
             [
              0.5555555555555556,
              "#d8576b"
             ],
             [
              0.6666666666666666,
              "#ed7953"
             ],
             [
              0.7777777777777778,
              "#fb9f3a"
             ],
             [
              0.8888888888888888,
              "#fdca26"
             ],
             [
              1,
              "#f0f921"
             ]
            ],
            "type": "contour"
           }
          ],
          "contourcarpet": [
           {
            "colorbar": {
             "outlinewidth": 0,
             "ticks": ""
            },
            "type": "contourcarpet"
           }
          ],
          "heatmap": [
           {
            "colorbar": {
             "outlinewidth": 0,
             "ticks": ""
            },
            "colorscale": [
             [
              0,
              "#0d0887"
             ],
             [
              0.1111111111111111,
              "#46039f"
             ],
             [
              0.2222222222222222,
              "#7201a8"
             ],
             [
              0.3333333333333333,
              "#9c179e"
             ],
             [
              0.4444444444444444,
              "#bd3786"
             ],
             [
              0.5555555555555556,
              "#d8576b"
             ],
             [
              0.6666666666666666,
              "#ed7953"
             ],
             [
              0.7777777777777778,
              "#fb9f3a"
             ],
             [
              0.8888888888888888,
              "#fdca26"
             ],
             [
              1,
              "#f0f921"
             ]
            ],
            "type": "heatmap"
           }
          ],
          "histogram": [
           {
            "marker": {
             "pattern": {
              "fillmode": "overlay",
              "size": 10,
              "solidity": 0.2
             }
            },
            "type": "histogram"
           }
          ],
          "histogram2d": [
           {
            "colorbar": {
             "outlinewidth": 0,
             "ticks": ""
            },
            "colorscale": [
             [
              0,
              "#0d0887"
             ],
             [
              0.1111111111111111,
              "#46039f"
             ],
             [
              0.2222222222222222,
              "#7201a8"
             ],
             [
              0.3333333333333333,
              "#9c179e"
             ],
             [
              0.4444444444444444,
              "#bd3786"
             ],
             [
              0.5555555555555556,
              "#d8576b"
             ],
             [
              0.6666666666666666,
              "#ed7953"
             ],
             [
              0.7777777777777778,
              "#fb9f3a"
             ],
             [
              0.8888888888888888,
              "#fdca26"
             ],
             [
              1,
              "#f0f921"
             ]
            ],
            "type": "histogram2d"
           }
          ],
          "histogram2dcontour": [
           {
            "colorbar": {
             "outlinewidth": 0,
             "ticks": ""
            },
            "colorscale": [
             [
              0,
              "#0d0887"
             ],
             [
              0.1111111111111111,
              "#46039f"
             ],
             [
              0.2222222222222222,
              "#7201a8"
             ],
             [
              0.3333333333333333,
              "#9c179e"
             ],
             [
              0.4444444444444444,
              "#bd3786"
             ],
             [
              0.5555555555555556,
              "#d8576b"
             ],
             [
              0.6666666666666666,
              "#ed7953"
             ],
             [
              0.7777777777777778,
              "#fb9f3a"
             ],
             [
              0.8888888888888888,
              "#fdca26"
             ],
             [
              1,
              "#f0f921"
             ]
            ],
            "type": "histogram2dcontour"
           }
          ],
          "mesh3d": [
           {
            "colorbar": {
             "outlinewidth": 0,
             "ticks": ""
            },
            "type": "mesh3d"
           }
          ],
          "parcoords": [
           {
            "line": {
             "colorbar": {
              "outlinewidth": 0,
              "ticks": ""
             }
            },
            "type": "parcoords"
           }
          ],
          "pie": [
           {
            "automargin": true,
            "type": "pie"
           }
          ],
          "scatter": [
           {
            "fillpattern": {
             "fillmode": "overlay",
             "size": 10,
             "solidity": 0.2
            },
            "type": "scatter"
           }
          ],
          "scatter3d": [
           {
            "line": {
             "colorbar": {
              "outlinewidth": 0,
              "ticks": ""
             }
            },
            "marker": {
             "colorbar": {
              "outlinewidth": 0,
              "ticks": ""
             }
            },
            "type": "scatter3d"
           }
          ],
          "scattercarpet": [
           {
            "marker": {
             "colorbar": {
              "outlinewidth": 0,
              "ticks": ""
             }
            },
            "type": "scattercarpet"
           }
          ],
          "scattergeo": [
           {
            "marker": {
             "colorbar": {
              "outlinewidth": 0,
              "ticks": ""
             }
            },
            "type": "scattergeo"
           }
          ],
          "scattergl": [
           {
            "marker": {
             "colorbar": {
              "outlinewidth": 0,
              "ticks": ""
             }
            },
            "type": "scattergl"
           }
          ],
          "scattermap": [
           {
            "marker": {
             "colorbar": {
              "outlinewidth": 0,
              "ticks": ""
             }
            },
            "type": "scattermap"
           }
          ],
          "scattermapbox": [
           {
            "marker": {
             "colorbar": {
              "outlinewidth": 0,
              "ticks": ""
             }
            },
            "type": "scattermapbox"
           }
          ],
          "scatterpolar": [
           {
            "marker": {
             "colorbar": {
              "outlinewidth": 0,
              "ticks": ""
             }
            },
            "type": "scatterpolar"
           }
          ],
          "scatterpolargl": [
           {
            "marker": {
             "colorbar": {
              "outlinewidth": 0,
              "ticks": ""
             }
            },
            "type": "scatterpolargl"
           }
          ],
          "scatterternary": [
           {
            "marker": {
             "colorbar": {
              "outlinewidth": 0,
              "ticks": ""
             }
            },
            "type": "scatterternary"
           }
          ],
          "surface": [
           {
            "colorbar": {
             "outlinewidth": 0,
             "ticks": ""
            },
            "colorscale": [
             [
              0,
              "#0d0887"
             ],
             [
              0.1111111111111111,
              "#46039f"
             ],
             [
              0.2222222222222222,
              "#7201a8"
             ],
             [
              0.3333333333333333,
              "#9c179e"
             ],
             [
              0.4444444444444444,
              "#bd3786"
             ],
             [
              0.5555555555555556,
              "#d8576b"
             ],
             [
              0.6666666666666666,
              "#ed7953"
             ],
             [
              0.7777777777777778,
              "#fb9f3a"
             ],
             [
              0.8888888888888888,
              "#fdca26"
             ],
             [
              1,
              "#f0f921"
             ]
            ],
            "type": "surface"
           }
          ],
          "table": [
           {
            "cells": {
             "fill": {
              "color": "#EBF0F8"
             },
             "line": {
              "color": "white"
             }
            },
            "header": {
             "fill": {
              "color": "#C8D4E3"
             },
             "line": {
              "color": "white"
             }
            },
            "type": "table"
           }
          ]
         },
         "layout": {
          "annotationdefaults": {
           "arrowcolor": "#2a3f5f",
           "arrowhead": 0,
           "arrowwidth": 1
          },
          "autotypenumbers": "strict",
          "coloraxis": {
           "colorbar": {
            "outlinewidth": 0,
            "ticks": ""
           }
          },
          "colorscale": {
           "diverging": [
            [
             0,
             "#8e0152"
            ],
            [
             0.1,
             "#c51b7d"
            ],
            [
             0.2,
             "#de77ae"
            ],
            [
             0.3,
             "#f1b6da"
            ],
            [
             0.4,
             "#fde0ef"
            ],
            [
             0.5,
             "#f7f7f7"
            ],
            [
             0.6,
             "#e6f5d0"
            ],
            [
             0.7,
             "#b8e186"
            ],
            [
             0.8,
             "#7fbc41"
            ],
            [
             0.9,
             "#4d9221"
            ],
            [
             1,
             "#276419"
            ]
           ],
           "sequential": [
            [
             0,
             "#0d0887"
            ],
            [
             0.1111111111111111,
             "#46039f"
            ],
            [
             0.2222222222222222,
             "#7201a8"
            ],
            [
             0.3333333333333333,
             "#9c179e"
            ],
            [
             0.4444444444444444,
             "#bd3786"
            ],
            [
             0.5555555555555556,
             "#d8576b"
            ],
            [
             0.6666666666666666,
             "#ed7953"
            ],
            [
             0.7777777777777778,
             "#fb9f3a"
            ],
            [
             0.8888888888888888,
             "#fdca26"
            ],
            [
             1,
             "#f0f921"
            ]
           ],
           "sequentialminus": [
            [
             0,
             "#0d0887"
            ],
            [
             0.1111111111111111,
             "#46039f"
            ],
            [
             0.2222222222222222,
             "#7201a8"
            ],
            [
             0.3333333333333333,
             "#9c179e"
            ],
            [
             0.4444444444444444,
             "#bd3786"
            ],
            [
             0.5555555555555556,
             "#d8576b"
            ],
            [
             0.6666666666666666,
             "#ed7953"
            ],
            [
             0.7777777777777778,
             "#fb9f3a"
            ],
            [
             0.8888888888888888,
             "#fdca26"
            ],
            [
             1,
             "#f0f921"
            ]
           ]
          },
          "colorway": [
           "#636efa",
           "#EF553B",
           "#00cc96",
           "#ab63fa",
           "#FFA15A",
           "#19d3f3",
           "#FF6692",
           "#B6E880",
           "#FF97FF",
           "#FECB52"
          ],
          "font": {
           "color": "#2a3f5f"
          },
          "geo": {
           "bgcolor": "white",
           "lakecolor": "white",
           "landcolor": "#E5ECF6",
           "showlakes": true,
           "showland": true,
           "subunitcolor": "white"
          },
          "hoverlabel": {
           "align": "left"
          },
          "hovermode": "closest",
          "mapbox": {
           "style": "light"
          },
          "paper_bgcolor": "white",
          "plot_bgcolor": "#E5ECF6",
          "polar": {
           "angularaxis": {
            "gridcolor": "white",
            "linecolor": "white",
            "ticks": ""
           },
           "bgcolor": "#E5ECF6",
           "radialaxis": {
            "gridcolor": "white",
            "linecolor": "white",
            "ticks": ""
           }
          },
          "scene": {
           "xaxis": {
            "backgroundcolor": "#E5ECF6",
            "gridcolor": "white",
            "gridwidth": 2,
            "linecolor": "white",
            "showbackground": true,
            "ticks": "",
            "zerolinecolor": "white"
           },
           "yaxis": {
            "backgroundcolor": "#E5ECF6",
            "gridcolor": "white",
            "gridwidth": 2,
            "linecolor": "white",
            "showbackground": true,
            "ticks": "",
            "zerolinecolor": "white"
           },
           "zaxis": {
            "backgroundcolor": "#E5ECF6",
            "gridcolor": "white",
            "gridwidth": 2,
            "linecolor": "white",
            "showbackground": true,
            "ticks": "",
            "zerolinecolor": "white"
           }
          },
          "shapedefaults": {
           "line": {
            "color": "#2a3f5f"
           }
          },
          "ternary": {
           "aaxis": {
            "gridcolor": "white",
            "linecolor": "white",
            "ticks": ""
           },
           "baxis": {
            "gridcolor": "white",
            "linecolor": "white",
            "ticks": ""
           },
           "bgcolor": "#E5ECF6",
           "caxis": {
            "gridcolor": "white",
            "linecolor": "white",
            "ticks": ""
           }
          },
          "title": {
           "x": 0.05
          },
          "xaxis": {
           "automargin": true,
           "gridcolor": "white",
           "linecolor": "white",
           "ticks": "",
           "title": {
            "standoff": 15
           },
           "zerolinecolor": "white",
           "zerolinewidth": 2
          },
          "yaxis": {
           "automargin": true,
           "gridcolor": "white",
           "linecolor": "white",
           "ticks": "",
           "title": {
            "standoff": 15
           },
           "zerolinecolor": "white",
           "zerolinewidth": 2
          }
         }
        },
        "title": {
         "text": "Comparación de Kernels SVM - Métricas en Test"
        },
        "xaxis": {
         "title": {
          "text": "Kernel"
         }
        },
        "yaxis": {
         "range": [
          0,
          1
         ],
         "title": {
          "text": "Score"
         }
        }
       }
      }
     },
     "metadata": {},
     "output_type": "display_data"
    }
   ],
   "source": [
    "# Visualizamos los resultados obtenidos de cada evaluación de kernels\n",
    "\n",
    "# Tabla comparativa\n",
    "comparison_kernels = pd.DataFrame(kernel_results).T\n",
    "print(comparison_kernels.round(4))\n",
    "\n",
    "# Gráfica comparativa\n",
    "fig = go.Figure()\n",
    "\n",
    "metrics = ['test_acc', 'test_prec', 'test_rec', 'test_f1']\n",
    "metric_names = ['Accuracy', 'Precision', 'Recall', 'F1-Score']\n",
    "colors = ['#3498db', '#2ecc71', '#f39c12', \"#886e6b\"]\n",
    "\n",
    "for metric, name, color in zip(metrics, metric_names, colors):\n",
    "    fig.add_trace(go.Bar(\n",
    "        name=name,\n",
    "        x=list(kernel_results.keys()),\n",
    "        y=[kernel_results[k][metric] for k in kernel_results.keys()],\n",
    "        marker_color=color,\n",
    "        text=[f\"{kernel_results[k][metric]:.3f}\" for k in kernel_results.keys()],\n",
    "        textposition='auto'\n",
    "    ))\n",
    "\n",
    "fig.update_layout(\n",
    "    title='Comparación de Kernels SVM - Métricas en Test',\n",
    "    xaxis_title='Kernel',\n",
    "    yaxis_title='Score',\n",
    "    barmode='group',\n",
    "    height=500,\n",
    "    yaxis_range=[0, 1]\n",
    ")\n",
    "\n",
    "fig.show()"
   ]
  },
  {
   "cell_type": "code",
   "execution_count": 43,
   "id": "f58a6df3",
   "metadata": {},
   "outputs": [
    {
     "name": "stdout",
     "output_type": "stream",
     "text": [
      "🔍 Iniciando Grid Search...\n",
      "   • Búsqueda en 42 combinaciones\n",
      "   • Validación cruzada: 5-fold estratificado\n",
      "Fitting 5 folds for each of 42 candidates, totalling 210 fits\n",
      "\n",
      "✅ Grid Search completado!\n",
      "   🏆 Mejores parámetros: {'svm__C': 10, 'svm__gamma': 0.1, 'svm__kernel': 'rbf'}\n",
      "   📊 Mejor CV Score: 0.8812\n"
     ]
    }
   ],
   "source": [
    "# Implementamos Grid Search para optimizar hiperparámetros del mejor kernel encontrado (RBF)\n",
    "\n",
    "# Pipeline con escalado y SVM\n",
    "pipeline_svm = Pipeline([\n",
    "    ('scaler', StandardScaler()),\n",
    "    ('svm', SVC(random_state=42))\n",
    "])\n",
    "\n",
    "\n",
    "# Grid de hiperparámetros (enfocado en RBF y Linear)\n",
    "param_grid = [\n",
    "    # RBF kernel\n",
    "    {\n",
    "        'svm__kernel': ['rbf'],\n",
    "        'svm__C': [0.1, 1, 10, 100],\n",
    "        'svm__gamma': ['scale', 'auto', 0.01, 0.1, 1.0]\n",
    "    },\n",
    "    # Linear kernel\n",
    "    {\n",
    "        'svm__kernel': ['linear'],\n",
    "        'svm__C': [0.1, 1, 10, 100]\n",
    "    },\n",
    "    # Poly kernel\n",
    "    {\n",
    "        'svm__kernel': ['poly'],\n",
    "        'svm__degree': [2, 3, 4],\n",
    "        'svm__C': [0.1, 1, 10],\n",
    "        'svm__gamma': ['scale', 'auto']\n",
    "    }\n",
    "]\n",
    "\n",
    "print(\"🔍 Iniciando Grid Search...\")\n",
    "print(f\"   • Búsqueda en {sum(len(g['svm__C']) * (len(g.get('svm__gamma', [1]))) * len(g.get('svm__degree', [1])) for g in param_grid)} combinaciones\")\n",
    "print(f\"   • Validación cruzada: 5-fold estratificado\")\n",
    "\n",
    "# Grid Search\n",
    "grid_search_svm = GridSearchCV(\n",
    "    pipeline_svm,\n",
    "    param_grid,\n",
    "    cv=cv_stratified,\n",
    "    scoring='accuracy',\n",
    "    n_jobs=-1,\n",
    "    verbose=1\n",
    ")\n",
    "\n",
    "grid_search_svm.fit(X_train, y_train)\n",
    "\n",
    "print(\"\\n✅ Grid Search completado!\")\n",
    "print(f\"   🏆 Mejores parámetros: {grid_search_svm.best_params_}\")\n",
    "print(f\"   📊 Mejor CV Score: {grid_search_svm.best_score_:.4f}\")"
   ]
  },
  {
   "cell_type": "code",
   "execution_count": 48,
   "id": "dacbba31",
   "metadata": {},
   "outputs": [
    {
     "name": "stdout",
     "output_type": "stream",
     "text": [
      "Entrenando modelo SVM...\n",
      "Realizando predicciones en conjunto de test...\n"
     ]
    }
   ],
   "source": [
    "# Implementamos el Modelo SVM con los mejores hiperparámetros encontrados y evaluamos en el conjunto de test. Entrenamos y predecimos\n",
    "\n",
    "\n",
    "# Crear pipeline con los mejores parámetros encontrados\n",
    "best_svm_pipeline = Pipeline([\n",
    "    ('scaler', StandardScaler()),\n",
    "    ('svm', SVC(\n",
    "        C=10, \n",
    "        gamma=0.1, \n",
    "        kernel='rbf',\n",
    "        random_state=42,\n",
    "        probability=True  # Para poder usar predict_proba si es necesario\n",
    "    ))\n",
    "])\n",
    "\n",
    "\n",
    "# Entrenar el modelo con los mejores parámetros\n",
    "print(\"Entrenando modelo SVM...\")\n",
    "best_svm_pipeline.fit(X_train, y_train)\n",
    "\n",
    "# Realizar predicciones\n",
    "print(\"Realizando predicciones en conjunto de test...\")\n",
    "y_pred_svm_best = best_svm_pipeline.predict(X_test)\n",
    "\n",
    "# Calcular métricas\n",
    "svm_best_accuracy = accuracy_score(y_test, y_pred_svm_best)\n",
    "svm_best_precision = precision_score(y_test, y_pred_svm_best, average='macro', zero_division=0)\n",
    "svm_best_recall = recall_score(y_test, y_pred_svm_best, average='macro', zero_division=0)\n",
    "svm_best_f1 = f1_score(y_test, y_pred_svm_best, average='macro', zero_division=0)\n"
   ]
  },
  {
   "cell_type": "code",
   "execution_count": 51,
   "id": "708e8917",
   "metadata": {},
   "outputs": [
    {
     "name": "stdout",
     "output_type": "stream",
     "text": [
      "\n",
      "================================================================================\n",
      "📈 RESULTADOS DEL MODELO SVM OPTIMIZADO EN CONJUNTO DE TEST\n",
      "================================================================================\n",
      "Accuracy:  0.9000\n",
      "Precision: 0.9040\n",
      "Recall:    0.8789\n",
      "F1-Score:  0.8893\n",
      "\n",
      "📋 REPORTE DE CLASIFICACIÓN DETALLADO:\n",
      "================================================================================\n",
      "              precision    recall  f1-score   support\n",
      "\n",
      "         Low       0.92      0.78      0.84       117\n",
      "      Medium       0.89      0.93      0.91       262\n",
      "        High       0.90      0.93      0.91       221\n",
      "\n",
      "    accuracy                           0.90       600\n",
      "   macro avg       0.90      0.88      0.89       600\n",
      "weighted avg       0.90      0.90      0.90       600\n",
      "\n"
     ]
    }
   ],
   "source": [
    "\n",
    "print(\"\\n\" + \"=\"*80)\n",
    "print(\"📈 RESULTADOS DEL MODELO SVM OPTIMIZADO EN CONJUNTO DE TEST\")\n",
    "print(\"=\"*80)\n",
    "print(f\"Accuracy:  {svm_best_accuracy:.4f}\")\n",
    "print(f\"Precision: {svm_best_precision:.4f}\")\n",
    "print(f\"Recall:    {svm_best_recall:.4f}\")\n",
    "print(f\"F1-Score:  {svm_best_f1:.4f}\")\n",
    "\n",
    "# Reporte de clasificación detallado\n",
    "print(\"\\n📋 REPORTE DE CLASIFICACIÓN DETALLADO:\")\n",
    "print(\"=\"*80)\n",
    "print(classification_report(y_test, y_pred_svm_best, target_names=['Low', 'Medium', 'High']))"
   ]
  },
  {
   "cell_type": "code",
   "execution_count": 52,
   "id": "6e195210",
   "metadata": {},
   "outputs": [
    {
     "data": {
      "image/png": "[encoded data removed]",
      "text/plain": [
       "<Figure size 1600x600 with 4 Axes>"
      ]
     },
     "metadata": {},
     "output_type": "display_data"
    }
   ],
   "source": [
    "# Visualización de los resultados en matriz de confusión\n",
    "cm_svm_best = confusion_matrix(y_test, y_pred_svm_best)\n",
    "\n",
    "# Visualización de la matriz de confusión\n",
    "fig, axes = plt.subplots(1, 2, figsize=(16, 6))\n",
    "\n",
    "# Matriz de confusión con valores absolutos\n",
    "sns.heatmap(\n",
    "    cm_svm_best, \n",
    "    annot=True, \n",
    "    fmt='d', \n",
    "    cmap='Blues', \n",
    "    linewidths=2,\n",
    "    xticklabels=['Low', 'Medium', 'High'],\n",
    "    yticklabels=['Low', 'Medium', 'High'],\n",
    "    cbar_kws={'label': 'Número de predicciones'},\n",
    "    ax=axes[0]\n",
    ")\n",
    "axes[0].set_title('Matriz de Confusión - SVM RBF\\n(Valores Absolutos)', \n",
    "                  fontsize=14, fontweight='bold', pad=15)\n",
    "axes[0].set_xlabel('Predicción', fontsize=12, fontweight='bold')\n",
    "axes[0].set_ylabel('Valor Real', fontsize=12, fontweight='bold')\n",
    "\n",
    "# Matriz de confusión normalizada (porcentajes)\n",
    "cm_normalized = cm_svm_best.astype('float') / cm_svm_best.sum(axis=1)[:, np.newaxis]\n",
    "sns.heatmap(\n",
    "    cm_normalized, \n",
    "    annot=True, \n",
    "    fmt='.2%', \n",
    "    cmap='Blues', \n",
    "    linewidths=2,\n",
    "    xticklabels=['Low', 'Medium', 'High'],\n",
    "    yticklabels=['Low', 'Medium', 'High'],\n",
    "    cbar_kws={'label': 'Porcentaje'},\n",
    "    ax=axes[1]\n",
    ")\n",
    "axes[1].set_title('Matriz de Confusión - SVM RBF\\n(Normalizada por Clase)', \n",
    "                  fontsize=14, fontweight='bold', pad=15)\n",
    "axes[1].set_xlabel('Predicción', fontsize=12, fontweight='bold')\n",
    "axes[1].set_ylabel('Valor Real', fontsize=12, fontweight='bold')\n",
    "\n",
    "plt.tight_layout()\n",
    "plt.show()"
   ]
  },
  {
   "cell_type": "markdown",
   "id": "f8e3c1fd",
   "metadata": {},
   "source": [
    "#Implementación de XgBoost"
   ]
  },
  {
   "cell_type": "code",
   "execution_count": 57,
   "id": "7ca8feef",
   "metadata": {},
   "outputs": [
    {
     "data": {
      "text/html": [
       "<style>#sk-container-id-1 {\n",
       "  /* Definition of color scheme common for light and dark mode */\n",
       "  --sklearn-color-text: #000;\n",
       "  --sklearn-color-text-muted: #666;\n",
       "  --sklearn-color-line: gray;\n",
       "  /* Definition of color scheme for unfitted estimators */\n",
       "  --sklearn-color-unfitted-level-0: #fff5e6;\n",
       "  --sklearn-color-unfitted-level-1: #f6e4d2;\n",
       "  --sklearn-color-unfitted-level-2: #ffe0b3;\n",
       "  --sklearn-color-unfitted-level-3: chocolate;\n",
       "  /* Definition of color scheme for fitted estimators */\n",
       "  --sklearn-color-fitted-level-0: #f0f8ff;\n",
       "  --sklearn-color-fitted-level-1: #d4ebff;\n",
       "  --sklearn-color-fitted-level-2: #b3dbfd;\n",
       "  --sklearn-color-fitted-level-3: cornflowerblue;\n",
       "\n",
       "  /* Specific color for light theme */\n",
       "  --sklearn-color-text-on-default-background: var(--sg-text-color, var(--theme-code-foreground, var(--jp-content-font-color1, black)));\n",
       "  --sklearn-color-background: var(--sg-background-color, var(--theme-background, var(--jp-layout-color0, white)));\n",
       "  --sklearn-color-border-box: var(--sg-text-color, var(--theme-code-foreground, var(--jp-content-font-color1, black)));\n",
       "  --sklearn-color-icon: #696969;\n",
       "\n",
       "  @media (prefers-color-scheme: dark) {\n",
       "    /* Redefinition of color scheme for dark theme */\n",
       "    --sklearn-color-text-on-default-background: var(--sg-text-color, var(--theme-code-foreground, var(--jp-content-font-color1, white)));\n",
       "    --sklearn-color-background: var(--sg-background-color, var(--theme-background, var(--jp-layout-color0, #111)));\n",
       "    --sklearn-color-border-box: var(--sg-text-color, var(--theme-code-foreground, var(--jp-content-font-color1, white)));\n",
       "    --sklearn-color-icon: #878787;\n",
       "  }\n",
       "}\n",
       "\n",
       "#sk-container-id-1 {\n",
       "  color: var(--sklearn-color-text);\n",
       "}\n",
       "\n",
       "#sk-container-id-1 pre {\n",
       "  padding: 0;\n",
       "}\n",
       "\n",
       "#sk-container-id-1 input.sk-hidden--visually {\n",
       "  border: 0;\n",
       "  clip: rect(1px 1px 1px 1px);\n",
       "  clip: rect(1px, 1px, 1px, 1px);\n",
       "  height: 1px;\n",
       "  margin: -1px;\n",
       "  overflow: hidden;\n",
       "  padding: 0;\n",
       "  position: absolute;\n",
       "  width: 1px;\n",
       "}\n",
       "\n",
       "#sk-container-id-1 div.sk-dashed-wrapped {\n",
       "  border: 1px dashed var(--sklearn-color-line);\n",
       "  margin: 0 0.4em 0.5em 0.4em;\n",
       "  box-sizing: border-box;\n",
       "  padding-bottom: 0.4em;\n",
       "  background-color: var(--sklearn-color-background);\n",
       "}\n",
       "\n",
       "#sk-container-id-1 div.sk-container {\n",
       "  /* jupyter's `normalize.less` sets `[hidden] { display: none; }`\n",
       "     but bootstrap.min.css set `[hidden] { display: none !important; }`\n",
       "     so we also need the `!important` here to be able to override the\n",
       "     default hidden behavior on the sphinx rendered scikit-learn.org.\n",
       "     See: https://github.com/scikit-learn/scikit-learn/issues/21755 */\n",
       "  display: inline-block !important;\n",
       "  position: relative;\n",
       "}\n",
       "\n",
       "#sk-container-id-1 div.sk-text-repr-fallback {\n",
       "  display: none;\n",
       "}\n",
       "\n",
       "div.sk-parallel-item,\n",
       "div.sk-serial,\n",
       "div.sk-item {\n",
       "  /* draw centered vertical line to link estimators */\n",
       "  background-image: linear-gradient(var(--sklearn-color-text-on-default-background), var(--sklearn-color-text-on-default-background));\n",
       "  background-size: 2px 100%;\n",
       "  background-repeat: no-repeat;\n",
       "  background-position: center center;\n",
       "}\n",
       "\n",
       "/* Parallel-specific style estimator block */\n",
       "\n",
       "#sk-container-id-1 div.sk-parallel-item::after {\n",
       "  content: \"\";\n",
       "  width: 100%;\n",
       "  border-bottom: 2px solid var(--sklearn-color-text-on-default-background);\n",
       "  flex-grow: 1;\n",
       "}\n",
       "\n",
       "#sk-container-id-1 div.sk-parallel {\n",
       "  display: flex;\n",
       "  align-items: stretch;\n",
       "  justify-content: center;\n",
       "  background-color: var(--sklearn-color-background);\n",
       "  position: relative;\n",
       "}\n",
       "\n",
       "#sk-container-id-1 div.sk-parallel-item {\n",
       "  display: flex;\n",
       "  flex-direction: column;\n",
       "}\n",
       "\n",
       "#sk-container-id-1 div.sk-parallel-item:first-child::after {\n",
       "  align-self: flex-end;\n",
       "  width: 50%;\n",
       "}\n",
       "\n",
       "#sk-container-id-1 div.sk-parallel-item:last-child::after {\n",
       "  align-self: flex-start;\n",
       "  width: 50%;\n",
       "}\n",
       "\n",
       "#sk-container-id-1 div.sk-parallel-item:only-child::after {\n",
       "  width: 0;\n",
       "}\n",
       "\n",
       "/* Serial-specific style estimator block */\n",
       "\n",
       "#sk-container-id-1 div.sk-serial {\n",
       "  display: flex;\n",
       "  flex-direction: column;\n",
       "  align-items: center;\n",
       "  background-color: var(--sklearn-color-background);\n",
       "  padding-right: 1em;\n",
       "  padding-left: 1em;\n",
       "}\n",
       "\n",
       "\n",
       "/* Toggleable style: style used for estimator/Pipeline/ColumnTransformer box that is\n",
       "clickable and can be expanded/collapsed.\n",
       "- Pipeline and ColumnTransformer use this feature and define the default style\n",
       "- Estimators will overwrite some part of the style using the `sk-estimator` class\n",
       "*/\n",
       "\n",
       "/* Pipeline and ColumnTransformer style (default) */\n",
       "\n",
       "#sk-container-id-1 div.sk-toggleable {\n",
       "  /* Default theme specific background. It is overwritten whether we have a\n",
       "  specific estimator or a Pipeline/ColumnTransformer */\n",
       "  background-color: var(--sklearn-color-background);\n",
       "}\n",
       "\n",
       "/* Toggleable label */\n",
       "#sk-container-id-1 label.sk-toggleable__label {\n",
       "  cursor: pointer;\n",
       "  display: flex;\n",
       "  width: 100%;\n",
       "  margin-bottom: 0;\n",
       "  padding: 0.5em;\n",
       "  box-sizing: border-box;\n",
       "  text-align: center;\n",
       "  align-items: start;\n",
       "  justify-content: space-between;\n",
       "  gap: 0.5em;\n",
       "}\n",
       "\n",
       "#sk-container-id-1 label.sk-toggleable__label .caption {\n",
       "  font-size: 0.6rem;\n",
       "  font-weight: lighter;\n",
       "  color: var(--sklearn-color-text-muted);\n",
       "}\n",
       "\n",
       "#sk-container-id-1 label.sk-toggleable__label-arrow:before {\n",
       "  /* Arrow on the left of the label */\n",
       "  content: \"▸\";\n",
       "  float: left;\n",
       "  margin-right: 0.25em;\n",
       "  color: var(--sklearn-color-icon);\n",
       "}\n",
       "\n",
       "#sk-container-id-1 label.sk-toggleable__label-arrow:hover:before {\n",
       "  color: var(--sklearn-color-text);\n",
       "}\n",
       "\n",
       "/* Toggleable content - dropdown */\n",
       "\n",
       "#sk-container-id-1 div.sk-toggleable__content {\n",
       "  display: none;\n",
       "  text-align: left;\n",
       "  /* unfitted */\n",
       "  background-color: var(--sklearn-color-unfitted-level-0);\n",
       "}\n",
       "\n",
       "#sk-container-id-1 div.sk-toggleable__content.fitted {\n",
       "  /* fitted */\n",
       "  background-color: var(--sklearn-color-fitted-level-0);\n",
       "}\n",
       "\n",
       "#sk-container-id-1 div.sk-toggleable__content pre {\n",
       "  margin: 0.2em;\n",
       "  border-radius: 0.25em;\n",
       "  color: var(--sklearn-color-text);\n",
       "  /* unfitted */\n",
       "  background-color: var(--sklearn-color-unfitted-level-0);\n",
       "}\n",
       "\n",
       "#sk-container-id-1 div.sk-toggleable__content.fitted pre {\n",
       "  /* unfitted */\n",
       "  background-color: var(--sklearn-color-fitted-level-0);\n",
       "}\n",
       "\n",
       "#sk-container-id-1 input.sk-toggleable__control:checked~div.sk-toggleable__content {\n",
       "  /* Expand drop-down */\n",
       "  display: block;\n",
       "  width: 100%;\n",
       "  overflow: visible;\n",
       "}\n",
       "\n",
       "#sk-container-id-1 input.sk-toggleable__control:checked~label.sk-toggleable__label-arrow:before {\n",
       "  content: \"▾\";\n",
       "}\n",
       "\n",
       "/* Pipeline/ColumnTransformer-specific style */\n",
       "\n",
       "#sk-container-id-1 div.sk-label input.sk-toggleable__control:checked~label.sk-toggleable__label {\n",
       "  color: var(--sklearn-color-text);\n",
       "  background-color: var(--sklearn-color-unfitted-level-2);\n",
       "}\n",
       "\n",
       "#sk-container-id-1 div.sk-label.fitted input.sk-toggleable__control:checked~label.sk-toggleable__label {\n",
       "  background-color: var(--sklearn-color-fitted-level-2);\n",
       "}\n",
       "\n",
       "/* Estimator-specific style */\n",
       "\n",
       "/* Colorize estimator box */\n",
       "#sk-container-id-1 div.sk-estimator input.sk-toggleable__control:checked~label.sk-toggleable__label {\n",
       "  /* unfitted */\n",
       "  background-color: var(--sklearn-color-unfitted-level-2);\n",
       "}\n",
       "\n",
       "#sk-container-id-1 div.sk-estimator.fitted input.sk-toggleable__control:checked~label.sk-toggleable__label {\n",
       "  /* fitted */\n",
       "  background-color: var(--sklearn-color-fitted-level-2);\n",
       "}\n",
       "\n",
       "#sk-container-id-1 div.sk-label label.sk-toggleable__label,\n",
       "#sk-container-id-1 div.sk-label label {\n",
       "  /* The background is the default theme color */\n",
       "  color: var(--sklearn-color-text-on-default-background);\n",
       "}\n",
       "\n",
       "/* On hover, darken the color of the background */\n",
       "#sk-container-id-1 div.sk-label:hover label.sk-toggleable__label {\n",
       "  color: var(--sklearn-color-text);\n",
       "  background-color: var(--sklearn-color-unfitted-level-2);\n",
       "}\n",
       "\n",
       "/* Label box, darken color on hover, fitted */\n",
       "#sk-container-id-1 div.sk-label.fitted:hover label.sk-toggleable__label.fitted {\n",
       "  color: var(--sklearn-color-text);\n",
       "  background-color: var(--sklearn-color-fitted-level-2);\n",
       "}\n",
       "\n",
       "/* Estimator label */\n",
       "\n",
       "#sk-container-id-1 div.sk-label label {\n",
       "  font-family: monospace;\n",
       "  font-weight: bold;\n",
       "  display: inline-block;\n",
       "  line-height: 1.2em;\n",
       "}\n",
       "\n",
       "#sk-container-id-1 div.sk-label-container {\n",
       "  text-align: center;\n",
       "}\n",
       "\n",
       "/* Estimator-specific */\n",
       "#sk-container-id-1 div.sk-estimator {\n",
       "  font-family: monospace;\n",
       "  border: 1px dotted var(--sklearn-color-border-box);\n",
       "  border-radius: 0.25em;\n",
       "  box-sizing: border-box;\n",
       "  margin-bottom: 0.5em;\n",
       "  /* unfitted */\n",
       "  background-color: var(--sklearn-color-unfitted-level-0);\n",
       "}\n",
       "\n",
       "#sk-container-id-1 div.sk-estimator.fitted {\n",
       "  /* fitted */\n",
       "  background-color: var(--sklearn-color-fitted-level-0);\n",
       "}\n",
       "\n",
       "/* on hover */\n",
       "#sk-container-id-1 div.sk-estimator:hover {\n",
       "  /* unfitted */\n",
       "  background-color: var(--sklearn-color-unfitted-level-2);\n",
       "}\n",
       "\n",
       "#sk-container-id-1 div.sk-estimator.fitted:hover {\n",
       "  /* fitted */\n",
       "  background-color: var(--sklearn-color-fitted-level-2);\n",
       "}\n",
       "\n",
       "/* Specification for estimator info (e.g. \"i\" and \"?\") */\n",
       "\n",
       "/* Common style for \"i\" and \"?\" */\n",
       "\n",
       ".sk-estimator-doc-link,\n",
       "a:link.sk-estimator-doc-link,\n",
       "a:visited.sk-estimator-doc-link {\n",
       "  float: right;\n",
       "  font-size: smaller;\n",
       "  line-height: 1em;\n",
       "  font-family: monospace;\n",
       "  background-color: var(--sklearn-color-background);\n",
       "  border-radius: 1em;\n",
       "  height: 1em;\n",
       "  width: 1em;\n",
       "  text-decoration: none !important;\n",
       "  margin-left: 0.5em;\n",
       "  text-align: center;\n",
       "  /* unfitted */\n",
       "  border: var(--sklearn-color-unfitted-level-1) 1pt solid;\n",
       "  color: var(--sklearn-color-unfitted-level-1);\n",
       "}\n",
       "\n",
       ".sk-estimator-doc-link.fitted,\n",
       "a:link.sk-estimator-doc-link.fitted,\n",
       "a:visited.sk-estimator-doc-link.fitted {\n",
       "  /* fitted */\n",
       "  border: var(--sklearn-color-fitted-level-1) 1pt solid;\n",
       "  color: var(--sklearn-color-fitted-level-1);\n",
       "}\n",
       "\n",
       "/* On hover */\n",
       "div.sk-estimator:hover .sk-estimator-doc-link:hover,\n",
       ".sk-estimator-doc-link:hover,\n",
       "div.sk-label-container:hover .sk-estimator-doc-link:hover,\n",
       ".sk-estimator-doc-link:hover {\n",
       "  /* unfitted */\n",
       "  background-color: var(--sklearn-color-unfitted-level-3);\n",
       "  color: var(--sklearn-color-background);\n",
       "  text-decoration: none;\n",
       "}\n",
       "\n",
       "div.sk-estimator.fitted:hover .sk-estimator-doc-link.fitted:hover,\n",
       ".sk-estimator-doc-link.fitted:hover,\n",
       "div.sk-label-container:hover .sk-estimator-doc-link.fitted:hover,\n",
       ".sk-estimator-doc-link.fitted:hover {\n",
       "  /* fitted */\n",
       "  background-color: var(--sklearn-color-fitted-level-3);\n",
       "  color: var(--sklearn-color-background);\n",
       "  text-decoration: none;\n",
       "}\n",
       "\n",
       "/* Span, style for the box shown on hovering the info icon */\n",
       ".sk-estimator-doc-link span {\n",
       "  display: none;\n",
       "  z-index: 9999;\n",
       "  position: relative;\n",
       "  font-weight: normal;\n",
       "  right: .2ex;\n",
       "  padding: .5ex;\n",
       "  margin: .5ex;\n",
       "  width: min-content;\n",
       "  min-width: 20ex;\n",
       "  max-width: 50ex;\n",
       "  color: var(--sklearn-color-text);\n",
       "  box-shadow: 2pt 2pt 4pt #999;\n",
       "  /* unfitted */\n",
       "  background: var(--sklearn-color-unfitted-level-0);\n",
       "  border: .5pt solid var(--sklearn-color-unfitted-level-3);\n",
       "}\n",
       "\n",
       ".sk-estimator-doc-link.fitted span {\n",
       "  /* fitted */\n",
       "  background: var(--sklearn-color-fitted-level-0);\n",
       "  border: var(--sklearn-color-fitted-level-3);\n",
       "}\n",
       "\n",
       ".sk-estimator-doc-link:hover span {\n",
       "  display: block;\n",
       "}\n",
       "\n",
       "/* \"?\"-specific style due to the `<a>` HTML tag */\n",
       "\n",
       "#sk-container-id-1 a.estimator_doc_link {\n",
       "  float: right;\n",
       "  font-size: 1rem;\n",
       "  line-height: 1em;\n",
       "  font-family: monospace;\n",
       "  background-color: var(--sklearn-color-background);\n",
       "  border-radius: 1rem;\n",
       "  height: 1rem;\n",
       "  width: 1rem;\n",
       "  text-decoration: none;\n",
       "  /* unfitted */\n",
       "  color: var(--sklearn-color-unfitted-level-1);\n",
       "  border: var(--sklearn-color-unfitted-level-1) 1pt solid;\n",
       "}\n",
       "\n",
       "#sk-container-id-1 a.estimator_doc_link.fitted {\n",
       "  /* fitted */\n",
       "  border: var(--sklearn-color-fitted-level-1) 1pt solid;\n",
       "  color: var(--sklearn-color-fitted-level-1);\n",
       "}\n",
       "\n",
       "/* On hover */\n",
       "#sk-container-id-1 a.estimator_doc_link:hover {\n",
       "  /* unfitted */\n",
       "  background-color: var(--sklearn-color-unfitted-level-3);\n",
       "  color: var(--sklearn-color-background);\n",
       "  text-decoration: none;\n",
       "}\n",
       "\n",
       "#sk-container-id-1 a.estimator_doc_link.fitted:hover {\n",
       "  /* fitted */\n",
       "  background-color: var(--sklearn-color-fitted-level-3);\n",
       "}\n",
       "\n",
       ".estimator-table summary {\n",
       "    padding: .5rem;\n",
       "    font-family: monospace;\n",
       "    cursor: pointer;\n",
       "}\n",
       "\n",
       ".estimator-table details[open] {\n",
       "    padding-left: 0.1rem;\n",
       "    padding-right: 0.1rem;\n",
       "    padding-bottom: 0.3rem;\n",
       "}\n",
       "\n",
       ".estimator-table .parameters-table {\n",
       "    margin-left: auto !important;\n",
       "    margin-right: auto !important;\n",
       "}\n",
       "\n",
       ".estimator-table .parameters-table tr:nth-child(odd) {\n",
       "    background-color: #fff;\n",
       "}\n",
       "\n",
       ".estimator-table .parameters-table tr:nth-child(even) {\n",
       "    background-color: #f6f6f6;\n",
       "}\n",
       "\n",
       ".estimator-table .parameters-table tr:hover {\n",
       "    background-color: #e0e0e0;\n",
       "}\n",
       "\n",
       ".estimator-table table td {\n",
       "    border: 1px solid rgba(106, 105, 104, 0.232);\n",
       "}\n",
       "\n",
       ".user-set td {\n",
       "    color:rgb(255, 94, 0);\n",
       "    text-align: left;\n",
       "}\n",
       "\n",
       ".user-set td.value pre {\n",
       "    color:rgb(255, 94, 0) !important;\n",
       "    background-color: transparent !important;\n",
       "}\n",
       "\n",
       ".default td {\n",
       "    color: black;\n",
       "    text-align: left;\n",
       "}\n",
       "\n",
       ".user-set td i,\n",
       ".default td i {\n",
       "    color: black;\n",
       "}\n",
       "\n",
       ".copy-paste-icon {\n",
       "    background-image: url(data:image/svg+xml;base64,PHN2ZyB4bWxucz0iaHR0cDovL3d3dy53My5vcmcvMjAwMC9zdmciIHZpZXdCb3g9IjAgMCA0NDggNTEyIj48IS0tIUZvbnQgQXdlc29tZSBGcmVlIDYuNy4yIGJ5IEBmb250YXdlc29tZSAtIGh0dHBzOi8vZm9udGF3ZXNvbWUuY29tIExpY2Vuc2UgLSBodHRwczovL2ZvbnRhd2Vzb21lLmNvbS9saWNlbnNlL2ZyZWUgQ29weXJpZ2h0IDIwMjUgRm9udGljb25zLCBJbmMuLS0+PHBhdGggZD0iTTIwOCAwTDMzMi4xIDBjMTIuNyAwIDI0LjkgNS4xIDMzLjkgMTQuMWw2Ny45IDY3LjljOSA5IDE0LjEgMjEuMiAxNC4xIDMzLjlMNDQ4IDMzNmMwIDI2LjUtMjEuNSA0OC00OCA0OGwtMTkyIDBjLTI2LjUgMC00OC0yMS41LTQ4LTQ4bDAtMjg4YzAtMjYuNSAyMS41LTQ4IDQ4LTQ4ek00OCAxMjhsODAgMCAwIDY0LTY0IDAgMCAyNTYgMTkyIDAgMC0zMiA2NCAwIDAgNDhjMCAyNi41LTIxLjUgNDgtNDggNDhMNDggNTEyYy0yNi41IDAtNDgtMjEuNS00OC00OEwwIDE3NmMwLTI2LjUgMjEuNS00OCA0OC00OHoiLz48L3N2Zz4=);\n",
       "    background-repeat: no-repeat;\n",
       "    background-size: 14px 14px;\n",
       "    background-position: 0;\n",
       "    display: inline-block;\n",
       "    width: 14px;\n",
       "    height: 14px;\n",
       "    cursor: pointer;\n",
       "}\n",
       "</style><body><div id=\"sk-container-id-1\" class=\"sk-top-container\"><div class=\"sk-text-repr-fallback\"><pre>XGBClassifier(base_score=None, booster=None, callbacks=None,\n",
       "              colsample_bylevel=None, colsample_bynode=None,\n",
       "              colsample_bytree=0.8, device=None, early_stopping_rounds=None,\n",
       "              enable_categorical=False, eval_metric=&#x27;mlogloss&#x27;,\n",
       "              feature_types=None, feature_weights=None, gamma=None,\n",
       "              grow_policy=None, importance_type=None,\n",
       "              interaction_constraints=None, learning_rate=0.1, max_bin=None,\n",
       "              max_cat_threshold=None, max_cat_to_onehot=None,\n",
       "              max_delta_step=None, max_depth=6, max_leaves=None,\n",
       "              min_child_weight=None, missing=nan, monotone_constraints=None,\n",
       "              multi_strategy=None, n_estimators=200, n_jobs=None, num_class=3, ...)</pre><b>In a Jupyter environment, please rerun this cell to show the HTML representation or trust the notebook. <br />On GitHub, the HTML representation is unable to render, please try loading this page with nbviewer.org.</b></div><div class=\"sk-container\" hidden><div class=\"sk-item\"><div class=\"sk-estimator fitted sk-toggleable\"><input class=\"sk-toggleable__control sk-hidden--visually\" id=\"sk-estimator-id-1\" type=\"checkbox\" checked><label for=\"sk-estimator-id-1\" class=\"sk-toggleable__label fitted sk-toggleable__label-arrow\"><div><div>XGBClassifier</div></div><div><a class=\"sk-estimator-doc-link fitted\" rel=\"noreferrer\" target=\"_blank\" href=\"https://xgboost.readthedocs.io/en/release_3.1.0/python/python_api.html#xgboost.XGBClassifier\">?<span>Documentation for XGBClassifier</span></a><span class=\"sk-estimator-doc-link fitted\">i<span>Fitted</span></span></div></label><div class=\"sk-toggleable__content fitted\" data-param-prefix=\"\">\n",
       "        <div class=\"estimator-table\">\n",
       "            <details>\n",
       "                <summary>Parameters</summary>\n",
       "                <table class=\"parameters-table\">\n",
       "                  <tbody>\n",
       "                    \n",
       "        <tr class=\"user-set\">\n",
       "            <td><i class=\"copy-paste-icon\"\n",
       "                 onclick=\"copyToClipboard('objective',\n",
       "                          this.parentElement.nextElementSibling)\"\n",
       "            ></i></td>\n",
       "            <td class=\"param\">objective&nbsp;</td>\n",
       "            <td class=\"value\">&#x27;multi:softmax&#x27;</td>\n",
       "        </tr>\n",
       "    \n",
       "\n",
       "        <tr class=\"user-set\">\n",
       "            <td><i class=\"copy-paste-icon\"\n",
       "                 onclick=\"copyToClipboard('base_score',\n",
       "                          this.parentElement.nextElementSibling)\"\n",
       "            ></i></td>\n",
       "            <td class=\"param\">base_score&nbsp;</td>\n",
       "            <td class=\"value\">None</td>\n",
       "        </tr>\n",
       "    \n",
       "\n",
       "        <tr class=\"user-set\">\n",
       "            <td><i class=\"copy-paste-icon\"\n",
       "                 onclick=\"copyToClipboard('booster',\n",
       "                          this.parentElement.nextElementSibling)\"\n",
       "            ></i></td>\n",
       "            <td class=\"param\">booster&nbsp;</td>\n",
       "            <td class=\"value\">None</td>\n",
       "        </tr>\n",
       "    \n",
       "\n",
       "        <tr class=\"user-set\">\n",
       "            <td><i class=\"copy-paste-icon\"\n",
       "                 onclick=\"copyToClipboard('callbacks',\n",
       "                          this.parentElement.nextElementSibling)\"\n",
       "            ></i></td>\n",
       "            <td class=\"param\">callbacks&nbsp;</td>\n",
       "            <td class=\"value\">None</td>\n",
       "        </tr>\n",
       "    \n",
       "\n",
       "        <tr class=\"user-set\">\n",
       "            <td><i class=\"copy-paste-icon\"\n",
       "                 onclick=\"copyToClipboard('colsample_bylevel',\n",
       "                          this.parentElement.nextElementSibling)\"\n",
       "            ></i></td>\n",
       "            <td class=\"param\">colsample_bylevel&nbsp;</td>\n",
       "            <td class=\"value\">None</td>\n",
       "        </tr>\n",
       "    \n",
       "\n",
       "        <tr class=\"user-set\">\n",
       "            <td><i class=\"copy-paste-icon\"\n",
       "                 onclick=\"copyToClipboard('colsample_bynode',\n",
       "                          this.parentElement.nextElementSibling)\"\n",
       "            ></i></td>\n",
       "            <td class=\"param\">colsample_bynode&nbsp;</td>\n",
       "            <td class=\"value\">None</td>\n",
       "        </tr>\n",
       "    \n",
       "\n",
       "        <tr class=\"user-set\">\n",
       "            <td><i class=\"copy-paste-icon\"\n",
       "                 onclick=\"copyToClipboard('colsample_bytree',\n",
       "                          this.parentElement.nextElementSibling)\"\n",
       "            ></i></td>\n",
       "            <td class=\"param\">colsample_bytree&nbsp;</td>\n",
       "            <td class=\"value\">0.8</td>\n",
       "        </tr>\n",
       "    \n",
       "\n",
       "        <tr class=\"user-set\">\n",
       "            <td><i class=\"copy-paste-icon\"\n",
       "                 onclick=\"copyToClipboard('device',\n",
       "                          this.parentElement.nextElementSibling)\"\n",
       "            ></i></td>\n",
       "            <td class=\"param\">device&nbsp;</td>\n",
       "            <td class=\"value\">None</td>\n",
       "        </tr>\n",
       "    \n",
       "\n",
       "        <tr class=\"user-set\">\n",
       "            <td><i class=\"copy-paste-icon\"\n",
       "                 onclick=\"copyToClipboard('early_stopping_rounds',\n",
       "                          this.parentElement.nextElementSibling)\"\n",
       "            ></i></td>\n",
       "            <td class=\"param\">early_stopping_rounds&nbsp;</td>\n",
       "            <td class=\"value\">None</td>\n",
       "        </tr>\n",
       "    \n",
       "\n",
       "        <tr class=\"user-set\">\n",
       "            <td><i class=\"copy-paste-icon\"\n",
       "                 onclick=\"copyToClipboard('enable_categorical',\n",
       "                          this.parentElement.nextElementSibling)\"\n",
       "            ></i></td>\n",
       "            <td class=\"param\">enable_categorical&nbsp;</td>\n",
       "            <td class=\"value\">False</td>\n",
       "        </tr>\n",
       "    \n",
       "\n",
       "        <tr class=\"user-set\">\n",
       "            <td><i class=\"copy-paste-icon\"\n",
       "                 onclick=\"copyToClipboard('eval_metric',\n",
       "                          this.parentElement.nextElementSibling)\"\n",
       "            ></i></td>\n",
       "            <td class=\"param\">eval_metric&nbsp;</td>\n",
       "            <td class=\"value\">&#x27;mlogloss&#x27;</td>\n",
       "        </tr>\n",
       "    \n",
       "\n",
       "        <tr class=\"user-set\">\n",
       "            <td><i class=\"copy-paste-icon\"\n",
       "                 onclick=\"copyToClipboard('feature_types',\n",
       "                          this.parentElement.nextElementSibling)\"\n",
       "            ></i></td>\n",
       "            <td class=\"param\">feature_types&nbsp;</td>\n",
       "            <td class=\"value\">None</td>\n",
       "        </tr>\n",
       "    \n",
       "\n",
       "        <tr class=\"user-set\">\n",
       "            <td><i class=\"copy-paste-icon\"\n",
       "                 onclick=\"copyToClipboard('feature_weights',\n",
       "                          this.parentElement.nextElementSibling)\"\n",
       "            ></i></td>\n",
       "            <td class=\"param\">feature_weights&nbsp;</td>\n",
       "            <td class=\"value\">None</td>\n",
       "        </tr>\n",
       "    \n",
       "\n",
       "        <tr class=\"user-set\">\n",
       "            <td><i class=\"copy-paste-icon\"\n",
       "                 onclick=\"copyToClipboard('gamma',\n",
       "                          this.parentElement.nextElementSibling)\"\n",
       "            ></i></td>\n",
       "            <td class=\"param\">gamma&nbsp;</td>\n",
       "            <td class=\"value\">None</td>\n",
       "        </tr>\n",
       "    \n",
       "\n",
       "        <tr class=\"user-set\">\n",
       "            <td><i class=\"copy-paste-icon\"\n",
       "                 onclick=\"copyToClipboard('grow_policy',\n",
       "                          this.parentElement.nextElementSibling)\"\n",
       "            ></i></td>\n",
       "            <td class=\"param\">grow_policy&nbsp;</td>\n",
       "            <td class=\"value\">None</td>\n",
       "        </tr>\n",
       "    \n",
       "\n",
       "        <tr class=\"user-set\">\n",
       "            <td><i class=\"copy-paste-icon\"\n",
       "                 onclick=\"copyToClipboard('importance_type',\n",
       "                          this.parentElement.nextElementSibling)\"\n",
       "            ></i></td>\n",
       "            <td class=\"param\">importance_type&nbsp;</td>\n",
       "            <td class=\"value\">None</td>\n",
       "        </tr>\n",
       "    \n",
       "\n",
       "        <tr class=\"user-set\">\n",
       "            <td><i class=\"copy-paste-icon\"\n",
       "                 onclick=\"copyToClipboard('interaction_constraints',\n",
       "                          this.parentElement.nextElementSibling)\"\n",
       "            ></i></td>\n",
       "            <td class=\"param\">interaction_constraints&nbsp;</td>\n",
       "            <td class=\"value\">None</td>\n",
       "        </tr>\n",
       "    \n",
       "\n",
       "        <tr class=\"user-set\">\n",
       "            <td><i class=\"copy-paste-icon\"\n",
       "                 onclick=\"copyToClipboard('learning_rate',\n",
       "                          this.parentElement.nextElementSibling)\"\n",
       "            ></i></td>\n",
       "            <td class=\"param\">learning_rate&nbsp;</td>\n",
       "            <td class=\"value\">0.1</td>\n",
       "        </tr>\n",
       "    \n",
       "\n",
       "        <tr class=\"user-set\">\n",
       "            <td><i class=\"copy-paste-icon\"\n",
       "                 onclick=\"copyToClipboard('max_bin',\n",
       "                          this.parentElement.nextElementSibling)\"\n",
       "            ></i></td>\n",
       "            <td class=\"param\">max_bin&nbsp;</td>\n",
       "            <td class=\"value\">None</td>\n",
       "        </tr>\n",
       "    \n",
       "\n",
       "        <tr class=\"user-set\">\n",
       "            <td><i class=\"copy-paste-icon\"\n",
       "                 onclick=\"copyToClipboard('max_cat_threshold',\n",
       "                          this.parentElement.nextElementSibling)\"\n",
       "            ></i></td>\n",
       "            <td class=\"param\">max_cat_threshold&nbsp;</td>\n",
       "            <td class=\"value\">None</td>\n",
       "        </tr>\n",
       "    \n",
       "\n",
       "        <tr class=\"user-set\">\n",
       "            <td><i class=\"copy-paste-icon\"\n",
       "                 onclick=\"copyToClipboard('max_cat_to_onehot',\n",
       "                          this.parentElement.nextElementSibling)\"\n",
       "            ></i></td>\n",
       "            <td class=\"param\">max_cat_to_onehot&nbsp;</td>\n",
       "            <td class=\"value\">None</td>\n",
       "        </tr>\n",
       "    \n",
       "\n",
       "        <tr class=\"user-set\">\n",
       "            <td><i class=\"copy-paste-icon\"\n",
       "                 onclick=\"copyToClipboard('max_delta_step',\n",
       "                          this.parentElement.nextElementSibling)\"\n",
       "            ></i></td>\n",
       "            <td class=\"param\">max_delta_step&nbsp;</td>\n",
       "            <td class=\"value\">None</td>\n",
       "        </tr>\n",
       "    \n",
       "\n",
       "        <tr class=\"user-set\">\n",
       "            <td><i class=\"copy-paste-icon\"\n",
       "                 onclick=\"copyToClipboard('max_depth',\n",
       "                          this.parentElement.nextElementSibling)\"\n",
       "            ></i></td>\n",
       "            <td class=\"param\">max_depth&nbsp;</td>\n",
       "            <td class=\"value\">6</td>\n",
       "        </tr>\n",
       "    \n",
       "\n",
       "        <tr class=\"user-set\">\n",
       "            <td><i class=\"copy-paste-icon\"\n",
       "                 onclick=\"copyToClipboard('max_leaves',\n",
       "                          this.parentElement.nextElementSibling)\"\n",
       "            ></i></td>\n",
       "            <td class=\"param\">max_leaves&nbsp;</td>\n",
       "            <td class=\"value\">None</td>\n",
       "        </tr>\n",
       "    \n",
       "\n",
       "        <tr class=\"user-set\">\n",
       "            <td><i class=\"copy-paste-icon\"\n",
       "                 onclick=\"copyToClipboard('min_child_weight',\n",
       "                          this.parentElement.nextElementSibling)\"\n",
       "            ></i></td>\n",
       "            <td class=\"param\">min_child_weight&nbsp;</td>\n",
       "            <td class=\"value\">None</td>\n",
       "        </tr>\n",
       "    \n",
       "\n",
       "        <tr class=\"user-set\">\n",
       "            <td><i class=\"copy-paste-icon\"\n",
       "                 onclick=\"copyToClipboard('missing',\n",
       "                          this.parentElement.nextElementSibling)\"\n",
       "            ></i></td>\n",
       "            <td class=\"param\">missing&nbsp;</td>\n",
       "            <td class=\"value\">nan</td>\n",
       "        </tr>\n",
       "    \n",
       "\n",
       "        <tr class=\"user-set\">\n",
       "            <td><i class=\"copy-paste-icon\"\n",
       "                 onclick=\"copyToClipboard('monotone_constraints',\n",
       "                          this.parentElement.nextElementSibling)\"\n",
       "            ></i></td>\n",
       "            <td class=\"param\">monotone_constraints&nbsp;</td>\n",
       "            <td class=\"value\">None</td>\n",
       "        </tr>\n",
       "    \n",
       "\n",
       "        <tr class=\"user-set\">\n",
       "            <td><i class=\"copy-paste-icon\"\n",
       "                 onclick=\"copyToClipboard('multi_strategy',\n",
       "                          this.parentElement.nextElementSibling)\"\n",
       "            ></i></td>\n",
       "            <td class=\"param\">multi_strategy&nbsp;</td>\n",
       "            <td class=\"value\">None</td>\n",
       "        </tr>\n",
       "    \n",
       "\n",
       "        <tr class=\"user-set\">\n",
       "            <td><i class=\"copy-paste-icon\"\n",
       "                 onclick=\"copyToClipboard('n_estimators',\n",
       "                          this.parentElement.nextElementSibling)\"\n",
       "            ></i></td>\n",
       "            <td class=\"param\">n_estimators&nbsp;</td>\n",
       "            <td class=\"value\">200</td>\n",
       "        </tr>\n",
       "    \n",
       "\n",
       "        <tr class=\"user-set\">\n",
       "            <td><i class=\"copy-paste-icon\"\n",
       "                 onclick=\"copyToClipboard('n_jobs',\n",
       "                          this.parentElement.nextElementSibling)\"\n",
       "            ></i></td>\n",
       "            <td class=\"param\">n_jobs&nbsp;</td>\n",
       "            <td class=\"value\">None</td>\n",
       "        </tr>\n",
       "    \n",
       "\n",
       "        <tr class=\"user-set\">\n",
       "            <td><i class=\"copy-paste-icon\"\n",
       "                 onclick=\"copyToClipboard('num_parallel_tree',\n",
       "                          this.parentElement.nextElementSibling)\"\n",
       "            ></i></td>\n",
       "            <td class=\"param\">num_parallel_tree&nbsp;</td>\n",
       "            <td class=\"value\">None</td>\n",
       "        </tr>\n",
       "    \n",
       "\n",
       "        <tr class=\"user-set\">\n",
       "            <td><i class=\"copy-paste-icon\"\n",
       "                 onclick=\"copyToClipboard('random_state',\n",
       "                          this.parentElement.nextElementSibling)\"\n",
       "            ></i></td>\n",
       "            <td class=\"param\">random_state&nbsp;</td>\n",
       "            <td class=\"value\">42</td>\n",
       "        </tr>\n",
       "    \n",
       "\n",
       "        <tr class=\"user-set\">\n",
       "            <td><i class=\"copy-paste-icon\"\n",
       "                 onclick=\"copyToClipboard('reg_alpha',\n",
       "                          this.parentElement.nextElementSibling)\"\n",
       "            ></i></td>\n",
       "            <td class=\"param\">reg_alpha&nbsp;</td>\n",
       "            <td class=\"value\">None</td>\n",
       "        </tr>\n",
       "    \n",
       "\n",
       "        <tr class=\"user-set\">\n",
       "            <td><i class=\"copy-paste-icon\"\n",
       "                 onclick=\"copyToClipboard('reg_lambda',\n",
       "                          this.parentElement.nextElementSibling)\"\n",
       "            ></i></td>\n",
       "            <td class=\"param\">reg_lambda&nbsp;</td>\n",
       "            <td class=\"value\">None</td>\n",
       "        </tr>\n",
       "    \n",
       "\n",
       "        <tr class=\"user-set\">\n",
       "            <td><i class=\"copy-paste-icon\"\n",
       "                 onclick=\"copyToClipboard('sampling_method',\n",
       "                          this.parentElement.nextElementSibling)\"\n",
       "            ></i></td>\n",
       "            <td class=\"param\">sampling_method&nbsp;</td>\n",
       "            <td class=\"value\">None</td>\n",
       "        </tr>\n",
       "    \n",
       "\n",
       "        <tr class=\"user-set\">\n",
       "            <td><i class=\"copy-paste-icon\"\n",
       "                 onclick=\"copyToClipboard('scale_pos_weight',\n",
       "                          this.parentElement.nextElementSibling)\"\n",
       "            ></i></td>\n",
       "            <td class=\"param\">scale_pos_weight&nbsp;</td>\n",
       "            <td class=\"value\">None</td>\n",
       "        </tr>\n",
       "    \n",
       "\n",
       "        <tr class=\"user-set\">\n",
       "            <td><i class=\"copy-paste-icon\"\n",
       "                 onclick=\"copyToClipboard('subsample',\n",
       "                          this.parentElement.nextElementSibling)\"\n",
       "            ></i></td>\n",
       "            <td class=\"param\">subsample&nbsp;</td>\n",
       "            <td class=\"value\">0.8</td>\n",
       "        </tr>\n",
       "    \n",
       "\n",
       "        <tr class=\"user-set\">\n",
       "            <td><i class=\"copy-paste-icon\"\n",
       "                 onclick=\"copyToClipboard('tree_method',\n",
       "                          this.parentElement.nextElementSibling)\"\n",
       "            ></i></td>\n",
       "            <td class=\"param\">tree_method&nbsp;</td>\n",
       "            <td class=\"value\">&#x27;hist&#x27;</td>\n",
       "        </tr>\n",
       "    \n",
       "\n",
       "        <tr class=\"user-set\">\n",
       "            <td><i class=\"copy-paste-icon\"\n",
       "                 onclick=\"copyToClipboard('validate_parameters',\n",
       "                          this.parentElement.nextElementSibling)\"\n",
       "            ></i></td>\n",
       "            <td class=\"param\">validate_parameters&nbsp;</td>\n",
       "            <td class=\"value\">None</td>\n",
       "        </tr>\n",
       "    \n",
       "\n",
       "        <tr class=\"user-set\">\n",
       "            <td><i class=\"copy-paste-icon\"\n",
       "                 onclick=\"copyToClipboard('verbosity',\n",
       "                          this.parentElement.nextElementSibling)\"\n",
       "            ></i></td>\n",
       "            <td class=\"param\">verbosity&nbsp;</td>\n",
       "            <td class=\"value\">None</td>\n",
       "        </tr>\n",
       "    \n",
       "\n",
       "        <tr class=\"user-set\">\n",
       "            <td><i class=\"copy-paste-icon\"\n",
       "                 onclick=\"copyToClipboard('num_class',\n",
       "                          this.parentElement.nextElementSibling)\"\n",
       "            ></i></td>\n",
       "            <td class=\"param\">num_class&nbsp;</td>\n",
       "            <td class=\"value\">3</td>\n",
       "        </tr>\n",
       "    \n",
       "                  </tbody>\n",
       "                </table>\n",
       "            </details>\n",
       "        </div>\n",
       "    </div></div></div></div></div><script>function copyToClipboard(text, element) {\n",
       "    // Get the parameter prefix from the closest toggleable content\n",
       "    const toggleableContent = element.closest('.sk-toggleable__content');\n",
       "    const paramPrefix = toggleableContent ? toggleableContent.dataset.paramPrefix : '';\n",
       "    const fullParamName = paramPrefix ? `${paramPrefix}${text}` : text;\n",
       "\n",
       "    const originalStyle = element.style;\n",
       "    const computedStyle = window.getComputedStyle(element);\n",
       "    const originalWidth = computedStyle.width;\n",
       "    const originalHTML = element.innerHTML.replace('Copied!', '');\n",
       "\n",
       "    navigator.clipboard.writeText(fullParamName)\n",
       "        .then(() => {\n",
       "            element.style.width = originalWidth;\n",
       "            element.style.color = 'green';\n",
       "            element.innerHTML = \"Copied!\";\n",
       "\n",
       "            setTimeout(() => {\n",
       "                element.innerHTML = originalHTML;\n",
       "                element.style = originalStyle;\n",
       "            }, 2000);\n",
       "        })\n",
       "        .catch(err => {\n",
       "            console.error('Failed to copy:', err);\n",
       "            element.style.color = 'red';\n",
       "            element.innerHTML = \"Failed!\";\n",
       "            setTimeout(() => {\n",
       "                element.innerHTML = originalHTML;\n",
       "                element.style = originalStyle;\n",
       "            }, 2000);\n",
       "        });\n",
       "    return false;\n",
       "}\n",
       "\n",
       "document.querySelectorAll('.fa-regular.fa-copy').forEach(function(element) {\n",
       "    const toggleableContent = element.closest('.sk-toggleable__content');\n",
       "    const paramPrefix = toggleableContent ? toggleableContent.dataset.paramPrefix : '';\n",
       "    const paramName = element.parentElement.nextElementSibling.textContent.trim();\n",
       "    const fullParamName = paramPrefix ? `${paramPrefix}${paramName}` : paramName;\n",
       "\n",
       "    element.setAttribute('title', fullParamName);\n",
       "});\n",
       "</script></body>"
      ],
      "text/plain": [
       "XGBClassifier(base_score=None, booster=None, callbacks=None,\n",
       "              colsample_bylevel=None, colsample_bynode=None,\n",
       "              colsample_bytree=0.8, device=None, early_stopping_rounds=None,\n",
       "              enable_categorical=False, eval_metric='mlogloss',\n",
       "              feature_types=None, feature_weights=None, gamma=None,\n",
       "              grow_policy=None, importance_type=None,\n",
       "              interaction_constraints=None, learning_rate=0.1, max_bin=None,\n",
       "              max_cat_threshold=None, max_cat_to_onehot=None,\n",
       "              max_delta_step=None, max_depth=6, max_leaves=None,\n",
       "              min_child_weight=None, missing=nan, monotone_constraints=None,\n",
       "              multi_strategy=None, n_estimators=200, n_jobs=None, num_class=3, ...)"
      ]
     },
     "execution_count": 57,
     "metadata": {},
     "output_type": "execute_result"
    }
   ],
   "source": [
    "# Configuramos y entrenamos el modelo XGBoost para clasificación multiclase\n",
    "\n",
    "xgb_model = xgb.XGBClassifier(\n",
    "    n_estimators=200,           # numero de árboles\n",
    "    max_depth=6,                # profundidad max de cada árbol\n",
    "    learning_rate=0.1,          # tasa de aprendizaje\n",
    "    subsample=0.8,              # fracción de muestras para cada árbol\n",
    "    colsample_bytree=0.8,       # fracción de features para cada árbol\n",
    "    objective='multi:softmax',  # clasificación multiclase\n",
    "    num_class=3,                # 3 clases (Low, Medium, High)\n",
    "    random_state=42,\n",
    "    eval_metric='mlogloss',     # Métrica de evaluación\n",
    "    tree_method='hist',         # Método de construcción de árboles\n",
    "    enable_categorical=False\n",
    ")\n",
    "\n",
    "xgb_model.fit(\n",
    "    X_train, \n",
    "    y_train,\n",
    "    eval_set=[(X_train, y_train), (X_test, y_test)],\n",
    "    verbose=False\n",
    ")"
   ]
  },
  {
   "cell_type": "code",
   "execution_count": 58,
   "id": "42e467f0",
   "metadata": {},
   "outputs": [
    {
     "name": "stdout",
     "output_type": "stream",
     "text": [
      "\n",
      "🎯 Realizando predicciones...\n",
      "\n",
      "================================================================================\n",
      "📈 RESULTADOS DEL MODELO XGBOOST EN CONJUNTO DE TEST\n",
      "================================================================================\n",
      "Accuracy:  0.8800\n",
      "Precision: 0.8843\n",
      "Recall:    0.8550\n",
      "F1-Score:  0.8667\n"
     ]
    }
   ],
   "source": [
    "# Entrenado el modelo procedemos a  realizar las predicciones en el conjunto de test y mostramos las metricas obtenidas\n",
    "\n",
    "print(\"\\n🎯 Realizando predicciones...\")\n",
    "y_pred_xgb = xgb_model.predict(X_test)\n",
    "y_pred_proba_xgb = xgb_model.predict_proba(X_test)\n",
    "\n",
    "# Calcular métricas\n",
    "xgb_accuracy = accuracy_score(y_test, y_pred_xgb)\n",
    "xgb_precision = precision_score(y_test, y_pred_xgb, average='macro', zero_division=0)\n",
    "xgb_recall = recall_score(y_test, y_pred_xgb, average='macro', zero_division=0)\n",
    "xgb_f1 = f1_score(y_test, y_pred_xgb, average='macro', zero_division=0)\n",
    "\n",
    "print(\"\\n\" + \"=\"*80)\n",
    "print(\"📈 RESULTADOS DEL MODELO XGBOOST EN CONJUNTO DE TEST\")\n",
    "print(\"=\"*80)\n",
    "print(f\"Accuracy:  {xgb_accuracy:.4f}\")\n",
    "print(f\"Precision: {xgb_precision:.4f}\")\n",
    "print(f\"Recall:    {xgb_recall:.4f}\")\n",
    "print(f\"F1-Score:  {xgb_f1:.4f}\")\n"
   ]
  },
  {
   "cell_type": "code",
   "execution_count": 75,
   "id": "47c5c2fc",
   "metadata": {},
   "outputs": [
    {
     "name": "stdout",
     "output_type": "stream",
     "text": [
      "✅ Resultados de validación cruzada:\n",
      "   Accuracy promedio: 0.8908 (+/- 0.0298)\n",
      "\n",
      "   Scores por fold:\n",
      "   Fold 1: 0.8896\n",
      "   Fold 2: 0.8729\n",
      "   Fold 3: 0.9125\n",
      "   Fold 4: 0.8771\n",
      "   Fold 5: 0.9021\n",
      "\n",
      "📊 Validación cruzada con múltiples métricas...\n",
      "RESUMEN DE VALIDACION CRUZADA (5-fold)\n",
      "================================================================================\n",
      "Accuracy:  0.8908 (+/- 0.0298)\n",
      "Precision: 0.8962 (+/- 0.0166)\n",
      "Recall:    0.8786 (+/- 0.0387)\n",
      "F1-Score:  0.8856 (+/- 0.0298)\n"
     ]
    }
   ],
   "source": [
    "# Aplicamos validacion cruzada con 5 folds para evaluar la estabilidad del modelo XGBoost, 5 folds es un buen compromiso entre sesgo y varianza\n",
    "\n",
    "cv_scores_xgb = cross_val_score(xgb_model, X_train, y_train, cv=5, scoring='accuracy', n_jobs=-1)\n",
    "\n",
    "print(\"✅ Resultados de validación cruzada:\")\n",
    "print(f\"   Accuracy promedio: {cv_scores_xgb.mean():.4f} (+/- {cv_scores_xgb.std() * 2:.4f})\")\n",
    "print(f\"\\n   Scores por fold:\")\n",
    "for i, score in enumerate(cv_scores_xgb, 1):\n",
    "    print(f\"   Fold {i}: {score:.4f}\")\n",
    "\n",
    "# Realizar validación cruzada completa con múltiples métricas\n",
    "scoring_xgb = {\n",
    "    'accuracy': make_scorer(accuracy_score),\n",
    "    'precision_macro': make_scorer(precision_score, average='macro', zero_division=0),\n",
    "    'recall_macro': make_scorer(recall_score, average='macro', zero_division=0),\n",
    "    'f1_macro': make_scorer(f1_score, average='macro', zero_division=0)\n",
    "}\n",
    "\n",
    "print(\"\\n📊 Validación cruzada con múltiples métricas...\")\n",
    "cv_results_xgb = cross_validate(\n",
    "    xgb_model, \n",
    "    X_train, \n",
    "    y_train, \n",
    "    cv=5, \n",
    "    scoring=scoring_xgb,\n",
    "    return_train_score=True,\n",
    "    n_jobs=-1\n",
    ")\n",
    "\n",
    "print(\"RESUMEN DE VALIDACION CRUZADA (5-fold)\")\n",
    "print(\"=\"*80)\n",
    "print(f\"Accuracy:  {cv_results_xgb['test_accuracy'].mean():.4f} (+/- {cv_results_xgb['test_accuracy'].std() * 2:.4f})\")\n",
    "print(f\"Precision: {cv_results_xgb['test_precision_macro'].mean():.4f} (+/- {cv_results_xgb['test_precision_macro'].std() * 2:.4f})\")\n",
    "print(f\"Recall:    {cv_results_xgb['test_recall_macro'].mean():.4f} (+/- {cv_results_xgb['test_recall_macro'].std() * 2:.4f})\")\n",
    "print(f\"F1-Score:  {cv_results_xgb['test_f1_macro'].mean():.4f} (+/- {cv_results_xgb['test_f1_macro'].std() * 2:.4f})\")"
   ]
  },
  {
   "cell_type": "code",
   "execution_count": 74,
   "id": "eab98ad2",
   "metadata": {},
   "outputs": [
    {
     "data": {
      "application/vnd.plotly.v1+json": {
       "config": {
        "plotlyServerURL": "https://plot.ly"
       },
       "data": [
        {
         "marker": {
          "color": "#1f77b4"
         },
         "name": "Accuracy",
         "text": [
          "0.890",
          "0.873",
          "0.912",
          "0.877",
          "0.902"
         ],
         "textposition": "auto",
         "type": "bar",
         "x": [
          "Fold 1",
          "Fold 2",
          "Fold 3",
          "Fold 4",
          "Fold 5"
         ],
         "y": {
          "bdata": "d3d3d3d37D/v7u7u7u7rPzMzMzMzM+0/ERERERER7D/e3d3d3d3sPw==",
          "dtype": "f8"
         }
        },
        {
         "marker": {
          "color": "#2ca02c"
         },
         "name": "Precision",
         "text": [
          "0.893",
          "0.886",
          "0.911",
          "0.892",
          "0.899"
         ],
         "textposition": "auto",
         "type": "bar",
         "x": [
          "Fold 1",
          "Fold 2",
          "Fold 3",
          "Fold 4",
          "Fold 5"
         ],
         "y": {
          "bdata": "q67dXmqS7D+D59pNaVzsP8tGYcJ7I+0/kdohatOI7D9rOg0XOMfsPw==",
          "dtype": "f8"
         }
        },
        {
         "marker": {
          "color": "#ff7f0e"
         },
         "name": "Recall",
         "text": [
          "0.872",
          "0.865",
          "0.911",
          "0.856",
          "0.889"
         ],
         "textposition": "auto",
         "type": "bar",
         "x": [
          "Fold 1",
          "Fold 2",
          "Fold 3",
          "Fold 4",
          "Fold 5"
         ],
         "y": {
          "bdata": "a8eRezTq6z91Moqa4K/rPyACniVcI+0/R+X5CCli6z83X5lxxXPsPw==",
          "dtype": "f8"
         }
        },
        {
         "marker": {
          "color": "#d62728"
         },
         "name": "F1-Score",
         "text": [
          "0.881",
          "0.874",
          "0.910",
          "0.869",
          "0.894"
         ],
         "textposition": "auto",
         "type": "bar",
         "x": [
          "Fold 1",
          "Fold 2",
          "Fold 3",
          "Fold 4",
          "Fold 5"
         ],
         "y": {
          "bdata": "Exk0/2Ut7D9MjK9uYPnrP1irB+FAIu0/0+5bYwPQ6z9x3FF6fJjsPw==",
          "dtype": "f8"
         }
        }
       ],
       "layout": {
        "barmode": "group",
        "height": 500,
        "legend": {
         "x": 0.7,
         "y": 0.95
        },
        "template": {
         "data": {
          "bar": [
           {
            "error_x": {
             "color": "#2a3f5f"
            },
            "error_y": {
             "color": "#2a3f5f"
            },
            "marker": {
             "line": {
              "color": "#E5ECF6",
              "width": 0.5
             },
             "pattern": {
              "fillmode": "overlay",
              "size": 10,
              "solidity": 0.2
             }
            },
            "type": "bar"
           }
          ],
          "barpolar": [
           {
            "marker": {
             "line": {
              "color": "#E5ECF6",
              "width": 0.5
             },
             "pattern": {
              "fillmode": "overlay",
              "size": 10,
              "solidity": 0.2
             }
            },
            "type": "barpolar"
           }
          ],
          "carpet": [
           {
            "aaxis": {
             "endlinecolor": "#2a3f5f",
             "gridcolor": "white",
             "linecolor": "white",
             "minorgridcolor": "white",
             "startlinecolor": "#2a3f5f"
            },
            "baxis": {
             "endlinecolor": "#2a3f5f",
             "gridcolor": "white",
             "linecolor": "white",
             "minorgridcolor": "white",
             "startlinecolor": "#2a3f5f"
            },
            "type": "carpet"
           }
          ],
          "choropleth": [
           {
            "colorbar": {
             "outlinewidth": 0,
             "ticks": ""
            },
            "type": "choropleth"
           }
          ],
          "contour": [
           {
            "colorbar": {
             "outlinewidth": 0,
             "ticks": ""
            },
            "colorscale": [
             [
              0,
              "#0d0887"
             ],
             [
              0.1111111111111111,
              "#46039f"
             ],
             [
              0.2222222222222222,
              "#7201a8"
             ],
             [
              0.3333333333333333,
              "#9c179e"
             ],
             [
              0.4444444444444444,
              "#bd3786"
             ],
             [
              0.5555555555555556,
              "#d8576b"
             ],
             [
              0.6666666666666666,
              "#ed7953"
             ],
             [
              0.7777777777777778,
              "#fb9f3a"
             ],
             [
              0.8888888888888888,
              "#fdca26"
             ],
             [
              1,
              "#f0f921"
             ]
            ],
            "type": "contour"
           }
          ],
          "contourcarpet": [
           {
            "colorbar": {
             "outlinewidth": 0,
             "ticks": ""
            },
            "type": "contourcarpet"
           }
          ],
          "heatmap": [
           {
            "colorbar": {
             "outlinewidth": 0,
             "ticks": ""
            },
            "colorscale": [
             [
              0,
              "#0d0887"
             ],
             [
              0.1111111111111111,
              "#46039f"
             ],
             [
              0.2222222222222222,
              "#7201a8"
             ],
             [
              0.3333333333333333,
              "#9c179e"
             ],
             [
              0.4444444444444444,
              "#bd3786"
             ],
             [
              0.5555555555555556,
              "#d8576b"
             ],
             [
              0.6666666666666666,
              "#ed7953"
             ],
             [
              0.7777777777777778,
              "#fb9f3a"
             ],
             [
              0.8888888888888888,
              "#fdca26"
             ],
             [
              1,
              "#f0f921"
             ]
            ],
            "type": "heatmap"
           }
          ],
          "histogram": [
           {
            "marker": {
             "pattern": {
              "fillmode": "overlay",
              "size": 10,
              "solidity": 0.2
             }
            },
            "type": "histogram"
           }
          ],
          "histogram2d": [
           {
            "colorbar": {
             "outlinewidth": 0,
             "ticks": ""
            },
            "colorscale": [
             [
              0,
              "#0d0887"
             ],
             [
              0.1111111111111111,
              "#46039f"
             ],
             [
              0.2222222222222222,
              "#7201a8"
             ],
             [
              0.3333333333333333,
              "#9c179e"
             ],
             [
              0.4444444444444444,
              "#bd3786"
             ],
             [
              0.5555555555555556,
              "#d8576b"
             ],
             [
              0.6666666666666666,
              "#ed7953"
             ],
             [
              0.7777777777777778,
              "#fb9f3a"
             ],
             [
              0.8888888888888888,
              "#fdca26"
             ],
             [
              1,
              "#f0f921"
             ]
            ],
            "type": "histogram2d"
           }
          ],
          "histogram2dcontour": [
           {
            "colorbar": {
             "outlinewidth": 0,
             "ticks": ""
            },
            "colorscale": [
             [
              0,
              "#0d0887"
             ],
             [
              0.1111111111111111,
              "#46039f"
             ],
             [
              0.2222222222222222,
              "#7201a8"
             ],
             [
              0.3333333333333333,
              "#9c179e"
             ],
             [
              0.4444444444444444,
              "#bd3786"
             ],
             [
              0.5555555555555556,
              "#d8576b"
             ],
             [
              0.6666666666666666,
              "#ed7953"
             ],
             [
              0.7777777777777778,
              "#fb9f3a"
             ],
             [
              0.8888888888888888,
              "#fdca26"
             ],
             [
              1,
              "#f0f921"
             ]
            ],
            "type": "histogram2dcontour"
           }
          ],
          "mesh3d": [
           {
            "colorbar": {
             "outlinewidth": 0,
             "ticks": ""
            },
            "type": "mesh3d"
           }
          ],
          "parcoords": [
           {
            "line": {
             "colorbar": {
              "outlinewidth": 0,
              "ticks": ""
             }
            },
            "type": "parcoords"
           }
          ],
          "pie": [
           {
            "automargin": true,
            "type": "pie"
           }
          ],
          "scatter": [
           {
            "fillpattern": {
             "fillmode": "overlay",
             "size": 10,
             "solidity": 0.2
            },
            "type": "scatter"
           }
          ],
          "scatter3d": [
           {
            "line": {
             "colorbar": {
              "outlinewidth": 0,
              "ticks": ""
             }
            },
            "marker": {
             "colorbar": {
              "outlinewidth": 0,
              "ticks": ""
             }
            },
            "type": "scatter3d"
           }
          ],
          "scattercarpet": [
           {
            "marker": {
             "colorbar": {
              "outlinewidth": 0,
              "ticks": ""
             }
            },
            "type": "scattercarpet"
           }
          ],
          "scattergeo": [
           {
            "marker": {
             "colorbar": {
              "outlinewidth": 0,
              "ticks": ""
             }
            },
            "type": "scattergeo"
           }
          ],
          "scattergl": [
           {
            "marker": {
             "colorbar": {
              "outlinewidth": 0,
              "ticks": ""
             }
            },
            "type": "scattergl"
           }
          ],
          "scattermap": [
           {
            "marker": {
             "colorbar": {
              "outlinewidth": 0,
              "ticks": ""
             }
            },
            "type": "scattermap"
           }
          ],
          "scattermapbox": [
           {
            "marker": {
             "colorbar": {
              "outlinewidth": 0,
              "ticks": ""
             }
            },
            "type": "scattermapbox"
           }
          ],
          "scatterpolar": [
           {
            "marker": {
             "colorbar": {
              "outlinewidth": 0,
              "ticks": ""
             }
            },
            "type": "scatterpolar"
           }
          ],
          "scatterpolargl": [
           {
            "marker": {
             "colorbar": {
              "outlinewidth": 0,
              "ticks": ""
             }
            },
            "type": "scatterpolargl"
           }
          ],
          "scatterternary": [
           {
            "marker": {
             "colorbar": {
              "outlinewidth": 0,
              "ticks": ""
             }
            },
            "type": "scatterternary"
           }
          ],
          "surface": [
           {
            "colorbar": {
             "outlinewidth": 0,
             "ticks": ""
            },
            "colorscale": [
             [
              0,
              "#0d0887"
             ],
             [
              0.1111111111111111,
              "#46039f"
             ],
             [
              0.2222222222222222,
              "#7201a8"
             ],
             [
              0.3333333333333333,
              "#9c179e"
             ],
             [
              0.4444444444444444,
              "#bd3786"
             ],
             [
              0.5555555555555556,
              "#d8576b"
             ],
             [
              0.6666666666666666,
              "#ed7953"
             ],
             [
              0.7777777777777778,
              "#fb9f3a"
             ],
             [
              0.8888888888888888,
              "#fdca26"
             ],
             [
              1,
              "#f0f921"
             ]
            ],
            "type": "surface"
           }
          ],
          "table": [
           {
            "cells": {
             "fill": {
              "color": "#EBF0F8"
             },
             "line": {
              "color": "white"
             }
            },
            "header": {
             "fill": {
              "color": "#C8D4E3"
             },
             "line": {
              "color": "white"
             }
            },
            "type": "table"
           }
          ]
         },
         "layout": {
          "annotationdefaults": {
           "arrowcolor": "#2a3f5f",
           "arrowhead": 0,
           "arrowwidth": 1
          },
          "autotypenumbers": "strict",
          "coloraxis": {
           "colorbar": {
            "outlinewidth": 0,
            "ticks": ""
           }
          },
          "colorscale": {
           "diverging": [
            [
             0,
             "#8e0152"
            ],
            [
             0.1,
             "#c51b7d"
            ],
            [
             0.2,
             "#de77ae"
            ],
            [
             0.3,
             "#f1b6da"
            ],
            [
             0.4,
             "#fde0ef"
            ],
            [
             0.5,
             "#f7f7f7"
            ],
            [
             0.6,
             "#e6f5d0"
            ],
            [
             0.7,
             "#b8e186"
            ],
            [
             0.8,
             "#7fbc41"
            ],
            [
             0.9,
             "#4d9221"
            ],
            [
             1,
             "#276419"
            ]
           ],
           "sequential": [
            [
             0,
             "#0d0887"
            ],
            [
             0.1111111111111111,
             "#46039f"
            ],
            [
             0.2222222222222222,
             "#7201a8"
            ],
            [
             0.3333333333333333,
             "#9c179e"
            ],
            [
             0.4444444444444444,
             "#bd3786"
            ],
            [
             0.5555555555555556,
             "#d8576b"
            ],
            [
             0.6666666666666666,
             "#ed7953"
            ],
            [
             0.7777777777777778,
             "#fb9f3a"
            ],
            [
             0.8888888888888888,
             "#fdca26"
            ],
            [
             1,
             "#f0f921"
            ]
           ],
           "sequentialminus": [
            [
             0,
             "#0d0887"
            ],
            [
             0.1111111111111111,
             "#46039f"
            ],
            [
             0.2222222222222222,
             "#7201a8"
            ],
            [
             0.3333333333333333,
             "#9c179e"
            ],
            [
             0.4444444444444444,
             "#bd3786"
            ],
            [
             0.5555555555555556,
             "#d8576b"
            ],
            [
             0.6666666666666666,
             "#ed7953"
            ],
            [
             0.7777777777777778,
             "#fb9f3a"
            ],
            [
             0.8888888888888888,
             "#fdca26"
            ],
            [
             1,
             "#f0f921"
            ]
           ]
          },
          "colorway": [
           "#636efa",
           "#EF553B",
           "#00cc96",
           "#ab63fa",
           "#FFA15A",
           "#19d3f3",
           "#FF6692",
           "#B6E880",
           "#FF97FF",
           "#FECB52"
          ],
          "font": {
           "color": "#2a3f5f"
          },
          "geo": {
           "bgcolor": "white",
           "lakecolor": "white",
           "landcolor": "#E5ECF6",
           "showlakes": true,
           "showland": true,
           "subunitcolor": "white"
          },
          "hoverlabel": {
           "align": "left"
          },
          "hovermode": "closest",
          "mapbox": {
           "style": "light"
          },
          "paper_bgcolor": "white",
          "plot_bgcolor": "#E5ECF6",
          "polar": {
           "angularaxis": {
            "gridcolor": "white",
            "linecolor": "white",
            "ticks": ""
           },
           "bgcolor": "#E5ECF6",
           "radialaxis": {
            "gridcolor": "white",
            "linecolor": "white",
            "ticks": ""
           }
          },
          "scene": {
           "xaxis": {
            "backgroundcolor": "#E5ECF6",
            "gridcolor": "white",
            "gridwidth": 2,
            "linecolor": "white",
            "showbackground": true,
            "ticks": "",
            "zerolinecolor": "white"
           },
           "yaxis": {
            "backgroundcolor": "#E5ECF6",
            "gridcolor": "white",
            "gridwidth": 2,
            "linecolor": "white",
            "showbackground": true,
            "ticks": "",
            "zerolinecolor": "white"
           },
           "zaxis": {
            "backgroundcolor": "#E5ECF6",
            "gridcolor": "white",
            "gridwidth": 2,
            "linecolor": "white",
            "showbackground": true,
            "ticks": "",
            "zerolinecolor": "white"
           }
          },
          "shapedefaults": {
           "line": {
            "color": "#2a3f5f"
           }
          },
          "ternary": {
           "aaxis": {
            "gridcolor": "white",
            "linecolor": "white",
            "ticks": ""
           },
           "baxis": {
            "gridcolor": "white",
            "linecolor": "white",
            "ticks": ""
           },
           "bgcolor": "#E5ECF6",
           "caxis": {
            "gridcolor": "white",
            "linecolor": "white",
            "ticks": ""
           }
          },
          "title": {
           "x": 0.05
          },
          "xaxis": {
           "automargin": true,
           "gridcolor": "white",
           "linecolor": "white",
           "ticks": "",
           "title": {
            "standoff": 15
           },
           "zerolinecolor": "white",
           "zerolinewidth": 2
          },
          "yaxis": {
           "automargin": true,
           "gridcolor": "white",
           "linecolor": "white",
           "ticks": "",
           "title": {
            "standoff": 15
           },
           "zerolinecolor": "white",
           "zerolinewidth": 2
          }
         }
        },
        "title": {
         "text": "Resultados de Validación Cruzada (5-fold) - XGBoost"
        },
        "xaxis": {
         "title": {
          "text": "Fold"
         }
        },
        "yaxis": {
         "range": [
          0,
          1
         ],
         "title": {
          "text": "Score"
         }
        }
       }
      }
     },
     "metadata": {},
     "output_type": "display_data"
    },
    {
     "name": "stdout",
     "output_type": "stream",
     "text": [
      "Accuracy    : 0.8908 (+/- 0.0333)\n",
      "Precision   : 0.8962 (+/- 0.0186)\n",
      "Recall      : 0.8786 (+/- 0.0433)\n",
      "F1-Score    : 0.8856 (+/- 0.0333)\n"
     ]
    }
   ],
   "source": [
    "# Visualización de resultados de validación cruzada para XGBoost\n",
    "cv_scores_df_xgb = pd.DataFrame({\n",
    "    'Fold': [f'Fold {i+1}' for i in range(5)],\n",
    "    'Accuracy': cv_results_xgb['test_accuracy'],\n",
    "    'Precision': cv_results_xgb['test_precision_macro'],\n",
    "    'Recall': cv_results_xgb['test_recall_macro'],\n",
    "    'F1-Score': cv_results_xgb['test_f1_macro']\n",
    "})\n",
    "\n",
    "# Gráfica de barras agrupadas\n",
    "fig_cv_xgb = go.Figure()\n",
    "\n",
    "metrics = ['Accuracy', 'Precision', 'Recall', 'F1-Score']\n",
    "colors = ['#1f77b4', '#2ca02c', '#ff7f0e', '#d62728']\n",
    "\n",
    "for metric, color in zip(metrics, colors):\n",
    "    fig_cv_xgb.add_trace(go.Bar(\n",
    "        name=metric,\n",
    "        x=cv_scores_df_xgb['Fold'],\n",
    "        y=cv_scores_df_xgb[metric],\n",
    "        marker_color=color,\n",
    "        text=[f\"{val:.3f}\" for val in cv_scores_df_xgb[metric]],\n",
    "        textposition='auto'\n",
    "    ))\n",
    "\n",
    "fig_cv_xgb.update_layout(\n",
    "    title='Resultados de Validación Cruzada (5-fold) - XGBoost',\n",
    "    xaxis_title='Fold',\n",
    "    yaxis_title='Score',\n",
    "    barmode='group',\n",
    "    height=500,\n",
    "    yaxis_range=[0, 1],\n",
    "    legend=dict(x=0.7, y=0.95)\n",
    ")\n",
    "\n",
    "fig_cv_xgb.show()\n",
    "\n",
    "for metric in metrics:\n",
    "    mean_val = cv_scores_df_xgb[metric].mean()\n",
    "    std_val = cv_scores_df_xgb[metric].std()\n",
    "    print(f\"{metric:12s}: {mean_val:.4f} (+/- {std_val * 2:.4f})\")"
   ]
  },
  {
   "cell_type": "code",
   "execution_count": 72,
   "id": "4325780a",
   "metadata": {},
   "outputs": [
    {
     "data": {
      "image/png": "[encoded data removed]",
      "text/plain": [
       "<Figure size 1000x800 with 2 Axes>"
      ]
     },
     "metadata": {},
     "output_type": "display_data"
    }
   ],
   "source": [
    "# Visualizamos los reultados obtenidos en una matriz de confusión\n",
    "\n",
    "cm_xgb = confusion_matrix(y_test, y_pred_xgb)\n",
    "\n",
    "plt.figure(figsize=(10, 8))\n",
    "sns.heatmap(cm_xgb, annot=True, fmt='d',  cmap='Purples', linewidths=2, \n",
    "            xticklabels=['Low', 'Medium', 'High'],\n",
    "            yticklabels=['Low', 'Medium', 'High'],\n",
    "            cbar_kws={'label': 'Número de predicciones'})\n",
    "plt.title('Matriz de Confusión - XGBoost (Datos Originales)', fontsize=16, fontweight='bold', pad=20)\n",
    "plt.xlabel('Predicción', fontsize=14, fontweight='bold')\n",
    "plt.ylabel('Valor Real', fontsize=14, fontweight='bold')\n",
    "plt.tight_layout()\n",
    "plt.show()"
   ]
  },
  {
   "cell_type": "code",
   "execution_count": 77,
   "id": "99c233bb",
   "metadata": {},
   "outputs": [],
   "source": [
    "# Dado Xgboost es un modelo de caja negra, es importante entender que features estan influyendo en las predicciones del modelo, para ello analizamos las importancias de las caracteristicas\n",
    "\n",
    "# Feature Importance de XGBoost\n",
    "feature_importance_xgb = xgb_model.feature_importances_\n",
    "feature_names_xgb = X_train.columns\n",
    "\n",
    "# Crear DataFrame con importancias\n",
    "importance_df_xgb = pd.DataFrame({\n",
    "    'Feature': feature_names_xgb,\n",
    "    'Importance': feature_importance_xgb\n",
    "}).sort_values(by='Importance', ascending=False)\n",
    "\n"
   ]
  },
  {
   "cell_type": "code",
   "execution_count": 100,
   "id": "01e65d5d",
   "metadata": {},
   "outputs": [
    {
     "data": {
      "image/png": "[encoded data removed]",
      "text/plain": [
       "<Figure size 1200x800 with 1 Axes>"
      ]
     },
     "metadata": {},
     "output_type": "display_data"
    },
    {
     "name": "stdout",
     "output_type": "stream",
     "text": [
      "\n",
      "📊 TOP 20 CARACTERÍSTICAS MÁS IMPORTANTES:\n",
      "============================================================\n",
      " 1. Caffeine_Intake                | 0.2221\n",
      " 2. Blood_Pressure                 | 0.0708\n",
      " 3. sleep_hours                    | 0.0691\n",
      " 4. Alcohol_Intake                 | 0.0595\n",
      " 5. Cholesterol_Level              | 0.0552\n",
      " 6. Blood_Sugar_Level              | 0.0518\n",
      " 7. Smoking_Habit                  | 0.0483\n",
      " 8. Exercise_Type                  | 0.0473\n",
      " 9. Gender                         | 0.0457\n",
      "10. Marital_Status                 | 0.0388\n",
      "11. Meditation_Practice            | 0.0367\n",
      "12. Age                            | 0.0366\n",
      "13. Occupation_Group               | 0.0356\n",
      "14. sleep_efficiency               | 0.0320\n",
      "15. Social_Interactions            | 0.0259\n",
      "16. Work_Hours                     | 0.0220\n",
      "17. Screen_Time                    | 0.0217\n",
      "18. Travel_Time                    | 0.0217\n",
      "19. Physical_Activity              | 0.0212\n",
      "20. Sleep_Quality                  | 0.0193\n"
     ]
    }
   ],
   "source": [
    "# Visualización del Top 20 de características más importantes\n",
    "top_20_features = importance_df_xgb.head(20)\n",
    "\n",
    "# Crear gráfico\n",
    "plt.figure(figsize=(12, 8))\n",
    "colors_gradient = plt.cm.viridis(np.linspace(0.3, 0.9, len(top_20_features)))\n",
    "bars = plt.barh(top_20_features['Feature'], top_20_features['Importance'], \n",
    "                color=colors_gradient, edgecolor='black', linewidth=0.8)\n",
    "\n",
    "# Añadir valores en las barras\n",
    "for bar in bars:\n",
    "    width = bar.get_width()\n",
    "    plt.text(width, bar.get_y() + bar.get_height()/2, \n",
    "             f'{width:.3f}', ha='left', va='center', fontsize=9, fontweight='bold')\n",
    "\n",
    "plt.xlabel('Importancia', fontsize=12, fontweight='bold')\n",
    "plt.title('Top 20 Características Más Importantes - XGBoost', fontsize=14, fontweight='bold', pad=15)\n",
    "plt.gca().invert_yaxis()\n",
    "plt.grid(axis='x', alpha=0.3, linestyle='--')\n",
    "plt.tight_layout()\n",
    "plt.show()\n",
    "\n",
    "# Mostrar tabla resumida\n",
    "print(\"\\n📊 TOP 20 CARACTERÍSTICAS MÁS IMPORTANTES:\")\n",
    "print(\"=\"*60)\n",
    "for i, (_, row) in enumerate(top_20_features.iterrows(), 1):\n",
    "    print(f\"{i:2d}. {row['Feature']:30s} | {row['Importance']:.4f}\")"
   ]
  },
  {
   "cell_type": "markdown",
   "id": "06404b98",
   "metadata": {},
   "source": [
    "## Implementanción de Randon Forest + GridSearchCV. La idea de entrear este modelo entrear el modelo mas optimo de RF y hacer un cuadro comparativo entre los modelos revisados\n",
    "\n"
   ]
  },
  {
   "cell_type": "code",
   "execution_count": 112,
   "id": "f3d4f061",
   "metadata": {},
   "outputs": [
    {
     "name": "stdout",
     "output_type": "stream",
     "text": [
      "Best Parameters: {'max_depth': None, 'min_samples_leaf': 1, 'min_samples_split': 3, 'n_estimators': 150}\n",
      "Best CV Score: 0.8850000000000001\n"
     ]
    }
   ],
   "source": [
    "# Implementamos Grid Search para optimizar hiperparámetros del modelo Random Forest\n",
    "\n",
    "rfc = RandomForestClassifier(random_state=42)\n",
    "\n",
    "param_grid = {\n",
    "    'n_estimators': [50, 100, 150],\n",
    "    'max_depth': [None, 5, 10, 20],  \n",
    "    'min_samples_split': [2, 3, 5],  \n",
    "    'min_samples_leaf': [1, 2, 3, 5],  # \n",
    "}\n",
    "\n",
    "grid_search = GridSearchCV(\n",
    "    estimator=rfc,\n",
    "    param_grid=param_grid,\n",
    "    cv=5,\n",
    "    scoring='accuracy',\n",
    "    n_jobs=-1\n",
    ")\n",
    "\n",
    "grid_search.fit(X_train, y_train)\n",
    "print(\"Best Parameters:\", grid_search.best_params_)\n",
    "print(\"Best CV Score:\", grid_search.best_score_)"
   ]
  },
  {
   "cell_type": "code",
   "execution_count": 113,
   "id": "afa9fb4f",
   "metadata": {},
   "outputs": [
    {
     "name": "stdout",
     "output_type": "stream",
     "text": [
      "              precision    recall  f1-score   support\n",
      "\n",
      "           0       0.94      0.69      0.80       117\n",
      "           1       0.85      0.94      0.89       262\n",
      "           2       0.90      0.93      0.92       221\n",
      "\n",
      "    accuracy                           0.89       600\n",
      "   macro avg       0.90      0.85      0.87       600\n",
      "weighted avg       0.89      0.89      0.88       600\n",
      "\n"
     ]
    }
   ],
   "source": [
    "# Evaluamos el modelo Random Forest con los mejores hiperparámetros encontrados\n",
    "y_pred = grid_search.predict(X_test)\n",
    "print(classification_report(y_test, y_pred))"
   ]
  },
  {
   "cell_type": "code",
   "execution_count": 114,
   "id": "61067daf",
   "metadata": {},
   "outputs": [
    {
     "data": {
      "image/png": "[encoded data removed]",
      "text/plain": [
       "<Figure size 600x400 with 2 Axes>"
      ]
     },
     "metadata": {},
     "output_type": "display_data"
    }
   ],
   "source": [
    "# Matriz de confusión para Random Forest\n",
    "\n",
    "cm = confusion_matrix(y_test, y_pred)\n",
    "\n",
    "plt.figure(figsize=(6, 4))\n",
    "sns.heatmap(cm, annot=True, fmt='d', cmap='Purples', linewidths=2)\n",
    "plt.title('Confusion Matrix')\n",
    "plt.xlabel('Predicted')\n",
    "plt.ylabel('Actual')\n",
    "plt.show()\n"
   ]
  },
  {
   "cell_type": "markdown",
   "id": "9d2f2d1b",
   "metadata": {},
   "source": [
    "## RESULTADOS DE TODOS MODELOS SUPERVISADOS IMPLEMENTADOS."
   ]
  },
  {
   "cell_type": "code",
   "execution_count": 120,
   "id": "abdd77f0",
   "metadata": {},
   "outputs": [
    {
     "name": "stdout",
     "output_type": "stream",
     "text": [
      "================================================================================\n",
      "📊 COMPARACIÓN DE RESULTADOS - TODOS LOS MODELOS\n",
      "================================================================================\n",
      "          Modelo  Accuracy  Precision   Recall  F1-Score\n",
      "KNN (L1/uniform)  0.906667   0.894839 0.889184  0.891865\n",
      "       SVM (RBF)  0.900000   0.904029 0.878892  0.889294\n",
      "         XGBoost  0.880000   0.884316 0.855033  0.866735\n",
      "   Random Forest  0.885000   0.899534 0.851675  0.868580\n",
      "================================================================================\n",
      "MEJOR MODELO POR METRICA:\n",
      "--------------------------------------------------------------------------------\n",
      "Accuracy    : KNN (L1/uniform)     (0.9067)\n",
      "Precision   : SVM (RBF)            (0.9040)\n",
      "Recall      : KNN (L1/uniform)     (0.8892)\n",
      "F1-Score    : KNN (L1/uniform)     (0.8919)\n"
     ]
    }
   ],
   "source": [
    "# Creaamos tabla Camparativa de todos los modelos implementados\n",
    "\n",
    "# Recopilar todas las métricas\n",
    "models_comparison = {\n",
    "    'Modelo': ['KNN (L1/uniform)', 'SVM (RBF)', 'XGBoost', 'Random Forest'],\n",
    "    'Accuracy': [test_accuracy_knn, svm_best_accuracy, xgb_accuracy, accuracy_score(y_test, y_pred)],\n",
    "    'Precision': [test_precision_knn, svm_best_precision, xgb_precision, precision_score(y_test, y_pred, average='macro')],\n",
    "    'Recall': [test_recall_knn, svm_best_recall, xgb_recall, recall_score(y_test, y_pred, average='macro')],\n",
    "    'F1-Score': [test_f1_knn, svm_best_f1, xgb_f1, f1_score(y_test, y_pred, average='macro')]\n",
    "}\n",
    "\n",
    "# crear DataFrame\n",
    "df_comparison = pd.DataFrame(models_comparison)\n",
    "\n",
    "# Mostrar tabla formateada\n",
    "print(\"=\"*80)\n",
    "print(\"📊 COMPARACIÓN DE RESULTADOS - TODOS LOS MODELOS\")\n",
    "print(\"=\"*80)\n",
    "print(df_comparison.to_string(index=False))\n",
    "print(\"=\"*80)\n",
    "\n",
    "# Identificar el mejor modelo por métrica\n",
    "print(\"MEJOR MODELO POR METRICA:\")\n",
    "print(\"-\"*80)\n",
    "for metric in ['Accuracy', 'Precision', 'Recall', 'F1-Score']:\n",
    "    best_idx = df_comparison[metric].idxmax()\n",
    "    best_model = df_comparison.loc[best_idx, 'Modelo']\n",
    "    best_value = df_comparison.loc[best_idx, metric]\n",
    "    print(f\"{metric:12s}: {best_model:20s} ({best_value:.4f})\")\n"
   ]
  },
  {
   "cell_type": "code",
   "execution_count": 121,
   "id": "68346a41",
   "metadata": {},
   "outputs": [
    {
     "data": {
      "image/png": "[encoded data removed]",
      "text/plain": [
       "<Figure size 1400x700 with 1 Axes>"
      ]
     },
     "metadata": {},
     "output_type": "display_data"
    }
   ],
   "source": [
    "# Grafico de resultados metricas modelos\n",
    "\n",
    "fig, ax = plt.subplots(figsize=(14, 7))\n",
    "\n",
    "# Configuración de posiciones y ancho de barras\n",
    "x = np.arange(len(df_comparison['Modelo']))\n",
    "width = 0.2\n",
    "\n",
    "# Colores para cada metri\n",
    "colors = ['#3498db',  '#2ecc71', '#f39c12', '#e74c3c']\n",
    "metrics = ['Accuracy',  'Precision', 'Recall',  'F1-Score']\n",
    "\n",
    "# Crear barras por metrica\n",
    "for i, (metric, color) in enumerate(zip(metrics, colors)):\n",
    "    offset = width * (i - 1.5)\n",
    "    bars = ax.bar(x + offset, df_comparison[metric], width, \n",
    "                   label=metric, color=color, alpha=0.8, edgecolor='black', linewidth=1)\n",
    "    \n",
    "    # añadimos valores \n",
    "    for bar in bars:\n",
    "        height = bar.get_height()\n",
    "        ax.text(bar.get_x()    + bar.get_width()/2., height + 0.01,\n",
    "                f'{height:.3f}', ha='center', va='bottom', fontsize=9, fontweight='bold')\n",
    "\n",
    "# Configuración del grafico\n",
    "ax.set_xlabel('Modelos',  fontsize=13, fontweight='bold')\n",
    "ax.set_ylabel('Score', fontsize=13, fontweight='bold')\n",
    "ax.set_title('Comparación de Rendimiento - Todos los Modelos', fontsize=15, fontweight='bold', pad=20)\n",
    "ax.set_xticks(x)\n",
    "ax.set_xticklabels( df_comparison['Modelo'], fontsize=11)\n",
    "ax.legend(loc='lower right', fontsize=11)\n",
    "ax.set_ylim(0, 1.05)\n",
    "ax.grid(axis='y', alpha=0.3, linestyle='--')\n",
    "\n",
    "plt.tight_layout()\n",
    "plt.show()\n"
   ]
  },
  {
   "cell_type": "markdown",
   "id": "51e8c797",
   "metadata": {},
   "source": []
  }
 ],
 "metadata": {
  "kernelspec": {
   "display_name": ".venv",
   "language": "python",
   "name": "python3"
  },
  "language_info": {
   "codemirror_mode": {
    "name": "ipython",
    "version": 3
   },
   "file_extension": ".py",
   "mimetype": "text/x-python",
   "name": "python",
   "nbconvert_exporter": "python",
   "pygments_lexer": "ipython3",
   "version": "3.12.3"
  }
 },
 "nbformat": 4,
 "nbformat_minor": 5
}
