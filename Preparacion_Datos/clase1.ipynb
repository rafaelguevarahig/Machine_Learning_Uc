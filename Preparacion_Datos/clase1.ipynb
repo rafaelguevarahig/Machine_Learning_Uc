{
 "cells": [
  {
   "cell_type": "code",
   "execution_count": 10,
   "id": "416c09a8",
   "metadata": {},
   "outputs": [
    {
     "name": "stdout",
     "output_type": "stream",
     "text": [
      "Requirement already satisfied: pandas in ./.venv/lib/python3.13/site-packages (2.3.2)\n",
      "Requirement already satisfied: numpy>=1.26.0 in ./.venv/lib/python3.13/site-packages (from pandas) (2.3.2)\n",
      "Requirement already satisfied: python-dateutil>=2.8.2 in ./.venv/lib/python3.13/site-packages (from pandas) (2.9.0.post0)\n",
      "Requirement already satisfied: pytz>=2020.1 in ./.venv/lib/python3.13/site-packages (from pandas) (2025.2)\n",
      "Requirement already satisfied: tzdata>=2022.7 in ./.venv/lib/python3.13/site-packages (from pandas) (2025.2)\n",
      "Requirement already satisfied: six>=1.5 in ./.venv/lib/python3.13/site-packages (from python-dateutil>=2.8.2->pandas) (1.17.0)\n",
      "\n",
      "\u001b[1m[\u001b[0m\u001b[34;49mnotice\u001b[0m\u001b[1;39;49m]\u001b[0m\u001b[39;49m A new release of pip is available: \u001b[0m\u001b[31;49m24.3.1\u001b[0m\u001b[39;49m -> \u001b[0m\u001b[32;49m25.2\u001b[0m\n",
      "\u001b[1m[\u001b[0m\u001b[34;49mnotice\u001b[0m\u001b[1;39;49m]\u001b[0m\u001b[39;49m To update, run: \u001b[0m\u001b[32;49mpip install --upgrade pip\u001b[0m\n",
      "Requirement already satisfied: numpy in ./.venv/lib/python3.13/site-packages (2.3.2)\n",
      "\n",
      "\u001b[1m[\u001b[0m\u001b[34;49mnotice\u001b[0m\u001b[1;39;49m]\u001b[0m\u001b[39;49m A new release of pip is available: \u001b[0m\u001b[31;49m24.3.1\u001b[0m\u001b[39;49m -> \u001b[0m\u001b[32;49m25.2\u001b[0m\n",
      "\u001b[1m[\u001b[0m\u001b[34;49mnotice\u001b[0m\u001b[1;39;49m]\u001b[0m\u001b[39;49m To update, run: \u001b[0m\u001b[32;49mpip install --upgrade pip\u001b[0m\n",
      "Requirement already satisfied: openpyxl in ./.venv/lib/python3.13/site-packages (3.1.5)\n",
      "Requirement already satisfied: et-xmlfile in ./.venv/lib/python3.13/site-packages (from openpyxl) (2.0.0)\n",
      "\n",
      "\u001b[1m[\u001b[0m\u001b[34;49mnotice\u001b[0m\u001b[1;39;49m]\u001b[0m\u001b[39;49m A new release of pip is available: \u001b[0m\u001b[31;49m24.3.1\u001b[0m\u001b[39;49m -> \u001b[0m\u001b[32;49m25.2\u001b[0m\n",
      "\u001b[1m[\u001b[0m\u001b[34;49mnotice\u001b[0m\u001b[1;39;49m]\u001b[0m\u001b[39;49m To update, run: \u001b[0m\u001b[32;49mpip install --upgrade pip\u001b[0m\n",
      "Collecting matplotlib\n",
      "  Downloading matplotlib-3.10.6-cp313-cp313-macosx_11_0_arm64.whl.metadata (11 kB)\n",
      "Collecting contourpy>=1.0.1 (from matplotlib)\n",
      "  Downloading contourpy-1.3.3-cp313-cp313-macosx_11_0_arm64.whl.metadata (5.5 kB)\n",
      "Collecting cycler>=0.10 (from matplotlib)\n",
      "  Using cached cycler-0.12.1-py3-none-any.whl.metadata (3.8 kB)\n",
      "Collecting fonttools>=4.22.0 (from matplotlib)\n",
      "  Downloading fonttools-4.59.2-cp313-cp313-macosx_10_13_universal2.whl.metadata (109 kB)\n",
      "Collecting kiwisolver>=1.3.1 (from matplotlib)\n",
      "  Downloading kiwisolver-1.4.9-cp313-cp313-macosx_11_0_arm64.whl.metadata (6.3 kB)\n",
      "Requirement already satisfied: numpy>=1.23 in ./.venv/lib/python3.13/site-packages (from matplotlib) (2.3.2)\n",
      "Requirement already satisfied: packaging>=20.0 in ./.venv/lib/python3.13/site-packages (from matplotlib) (25.0)\n",
      "Collecting pillow>=8 (from matplotlib)\n",
      "  Downloading pillow-11.3.0-cp313-cp313-macosx_11_0_arm64.whl.metadata (9.0 kB)\n",
      "Collecting pyparsing>=2.3.1 (from matplotlib)\n",
      "  Using cached pyparsing-3.2.3-py3-none-any.whl.metadata (5.0 kB)\n",
      "Requirement already satisfied: python-dateutil>=2.7 in ./.venv/lib/python3.13/site-packages (from matplotlib) (2.9.0.post0)\n",
      "Requirement already satisfied: six>=1.5 in ./.venv/lib/python3.13/site-packages (from python-dateutil>=2.7->matplotlib) (1.17.0)\n",
      "Downloading matplotlib-3.10.6-cp313-cp313-macosx_11_0_arm64.whl (8.1 MB)\n",
      "\u001b[2K   \u001b[90m━━━━━━━━━━━━━━━━━━━━━━━━━━━━━━━━━━━━━━━━\u001b[0m \u001b[32m8.1/8.1 MB\u001b[0m \u001b[31m57.3 MB/s\u001b[0m eta \u001b[36m0:00:00\u001b[0m\n",
      "\u001b[?25hDownloading contourpy-1.3.3-cp313-cp313-macosx_11_0_arm64.whl (274 kB)\n",
      "Using cached cycler-0.12.1-py3-none-any.whl (8.3 kB)\n",
      "Downloading fonttools-4.59.2-cp313-cp313-macosx_10_13_universal2.whl (2.8 MB)\n",
      "\u001b[2K   \u001b[90m━━━━━━━━━━━━━━━━━━━━━━━━━━━━━━━━━━━━━━━━\u001b[0m \u001b[32m2.8/2.8 MB\u001b[0m \u001b[31m48.0 MB/s\u001b[0m eta \u001b[36m0:00:00\u001b[0m\n",
      "\u001b[?25hDownloading kiwisolver-1.4.9-cp313-cp313-macosx_11_0_arm64.whl (64 kB)\n",
      "Downloading pillow-11.3.0-cp313-cp313-macosx_11_0_arm64.whl (4.7 MB)\n",
      "\u001b[2K   \u001b[90m━━━━━━━━━━━━━━━━━━━━━━━━━━━━━━━━━━━━━━━━\u001b[0m \u001b[32m4.7/4.7 MB\u001b[0m \u001b[31m60.7 MB/s\u001b[0m eta \u001b[36m0:00:00\u001b[0m\n",
      "\u001b[?25hUsing cached pyparsing-3.2.3-py3-none-any.whl (111 kB)\n",
      "Installing collected packages: pyparsing, pillow, kiwisolver, fonttools, cycler, contourpy, matplotlib\n",
      "Successfully installed contourpy-1.3.3 cycler-0.12.1 fonttools-4.59.2 kiwisolver-1.4.9 matplotlib-3.10.6 pillow-11.3.0 pyparsing-3.2.3\n",
      "\n",
      "\u001b[1m[\u001b[0m\u001b[34;49mnotice\u001b[0m\u001b[1;39;49m]\u001b[0m\u001b[39;49m A new release of pip is available: \u001b[0m\u001b[31;49m24.3.1\u001b[0m\u001b[39;49m -> \u001b[0m\u001b[32;49m25.2\u001b[0m\n",
      "\u001b[1m[\u001b[0m\u001b[34;49mnotice\u001b[0m\u001b[1;39;49m]\u001b[0m\u001b[39;49m To update, run: \u001b[0m\u001b[32;49mpip install --upgrade pip\u001b[0m\n"
     ]
    }
   ],
   "source": [
    "!pip install pandas\n",
    "!pip install numpy\n",
    "!pip install openpyxl\n",
    "!pip install matplotlib"
   ]
  },
  {
   "cell_type": "code",
   "execution_count": null,
   "id": "146b50e2",
   "metadata": {},
   "outputs": [],
   "source": [
    "import pandas as pd\n",
    "import numpy as np\n",
    "import matplotlib.pyplot as plt"
   ]
  },
  {
   "cell_type": "code",
   "execution_count": 15,
   "id": "add7d10a",
   "metadata": {},
   "outputs": [],
   "source": [
    "path_file = \"./creditSIM.xlsx\"\n",
    "df = pd.read_excel(path_file)"
   ]
  },
  {
   "cell_type": "code",
   "execution_count": 16,
   "id": "88318adf",
   "metadata": {},
   "outputs": [
    {
     "name": "stdout",
     "output_type": "stream",
     "text": [
      "<class 'pandas.core.frame.DataFrame'>\n",
      "RangeIndex: 3000 entries, 0 to 2999\n",
      "Data columns (total 11 columns):\n",
      " #   Column        Non-Null Count  Dtype  \n",
      "---  ------        --------------  -----  \n",
      " 0   ID            3000 non-null   int64  \n",
      " 1   AgnosDirec    2999 non-null   float64\n",
      " 2   AgnosEmpleo   2998 non-null   float64\n",
      " 3   DeudaExt      2999 non-null   float64\n",
      " 4   DeudaInt      2996 non-null   float64\n",
      " 5   Edad          2998 non-null   float64\n",
      " 6   Ingreso       2998 non-null   float64\n",
      " 7   Ingreso2      3000 non-null   float64\n",
      " 8   Nacionalidad  3000 non-null   object \n",
      " 9   NivelEdu      3000 non-null   object \n",
      " 10  VarObj        3000 non-null   object \n",
      "dtypes: float64(7), int64(1), object(3)\n",
      "memory usage: 257.9+ KB\n"
     ]
    }
   ],
   "source": [
    "df.info()"
   ]
  },
  {
   "cell_type": "code",
   "execution_count": 22,
   "id": "9ad07811",
   "metadata": {},
   "outputs": [
    {
     "data": {
      "text/html": [
       "<div>\n",
       "<style scoped>\n",
       "    .dataframe tbody tr th:only-of-type {\n",
       "        vertical-align: middle;\n",
       "    }\n",
       "\n",
       "    .dataframe tbody tr th {\n",
       "        vertical-align: top;\n",
       "    }\n",
       "\n",
       "    .dataframe thead th {\n",
       "        text-align: right;\n",
       "    }\n",
       "</style>\n",
       "<table border=\"1\" class=\"dataframe\">\n",
       "  <thead>\n",
       "    <tr style=\"text-align: right;\">\n",
       "      <th></th>\n",
       "      <th>ID</th>\n",
       "      <th>AgnosDirec</th>\n",
       "      <th>AgnosEmpleo</th>\n",
       "      <th>DeudaExt</th>\n",
       "      <th>DeudaInt</th>\n",
       "      <th>Edad</th>\n",
       "      <th>Ingreso</th>\n",
       "      <th>Ingreso2</th>\n",
       "      <th>Nacionalidad</th>\n",
       "      <th>NivelEdu</th>\n",
       "      <th>VarObj</th>\n",
       "    </tr>\n",
       "  </thead>\n",
       "  <tbody>\n",
       "    <tr>\n",
       "      <th>count</th>\n",
       "      <td>3000.00</td>\n",
       "      <td>2999.00</td>\n",
       "      <td>2998.00</td>\n",
       "      <td>2999.00</td>\n",
       "      <td>2996.00</td>\n",
       "      <td>2998.00</td>\n",
       "      <td>2998.00</td>\n",
       "      <td>3000.00</td>\n",
       "      <td>3000</td>\n",
       "      <td>3000</td>\n",
       "      <td>3000</td>\n",
       "    </tr>\n",
       "    <tr>\n",
       "      <th>unique</th>\n",
       "      <td>NaN</td>\n",
       "      <td>NaN</td>\n",
       "      <td>NaN</td>\n",
       "      <td>NaN</td>\n",
       "      <td>NaN</td>\n",
       "      <td>NaN</td>\n",
       "      <td>NaN</td>\n",
       "      <td>NaN</td>\n",
       "      <td>1</td>\n",
       "      <td>5</td>\n",
       "      <td>2</td>\n",
       "    </tr>\n",
       "    <tr>\n",
       "      <th>top</th>\n",
       "      <td>NaN</td>\n",
       "      <td>NaN</td>\n",
       "      <td>NaN</td>\n",
       "      <td>NaN</td>\n",
       "      <td>NaN</td>\n",
       "      <td>NaN</td>\n",
       "      <td>NaN</td>\n",
       "      <td>NaN</td>\n",
       "      <td>N</td>\n",
       "      <td>SupCom</td>\n",
       "      <td>N</td>\n",
       "    </tr>\n",
       "    <tr>\n",
       "      <th>freq</th>\n",
       "      <td>NaN</td>\n",
       "      <td>NaN</td>\n",
       "      <td>NaN</td>\n",
       "      <td>NaN</td>\n",
       "      <td>NaN</td>\n",
       "      <td>NaN</td>\n",
       "      <td>NaN</td>\n",
       "      <td>NaN</td>\n",
       "      <td>3000</td>\n",
       "      <td>979</td>\n",
       "      <td>2363</td>\n",
       "    </tr>\n",
       "    <tr>\n",
       "      <th>mean</th>\n",
       "      <td>101500.50</td>\n",
       "      <td>7.09</td>\n",
       "      <td>7.15</td>\n",
       "      <td>4531.01</td>\n",
       "      <td>2275.68</td>\n",
       "      <td>37.66</td>\n",
       "      <td>62567.74</td>\n",
       "      <td>52152.67</td>\n",
       "      <td>NaN</td>\n",
       "      <td>NaN</td>\n",
       "      <td>NaN</td>\n",
       "    </tr>\n",
       "    <tr>\n",
       "      <th>std</th>\n",
       "      <td>866.17</td>\n",
       "      <td>6.96</td>\n",
       "      <td>6.65</td>\n",
       "      <td>7084.78</td>\n",
       "      <td>5409.79</td>\n",
       "      <td>36.63</td>\n",
       "      <td>49385.68</td>\n",
       "      <td>42246.04</td>\n",
       "      <td>NaN</td>\n",
       "      <td>NaN</td>\n",
       "      <td>NaN</td>\n",
       "    </tr>\n",
       "    <tr>\n",
       "      <th>min</th>\n",
       "      <td>100001.00</td>\n",
       "      <td>0.00</td>\n",
       "      <td>0.00</td>\n",
       "      <td>21.55</td>\n",
       "      <td>8.30</td>\n",
       "      <td>18.00</td>\n",
       "      <td>-13123.60</td>\n",
       "      <td>-9723.72</td>\n",
       "      <td>NaN</td>\n",
       "      <td>NaN</td>\n",
       "      <td>NaN</td>\n",
       "    </tr>\n",
       "    <tr>\n",
       "      <th>25%</th>\n",
       "      <td>100750.75</td>\n",
       "      <td>2.00</td>\n",
       "      <td>2.00</td>\n",
       "      <td>1110.24</td>\n",
       "      <td>416.04</td>\n",
       "      <td>29.00</td>\n",
       "      <td>30282.68</td>\n",
       "      <td>25109.56</td>\n",
       "      <td>NaN</td>\n",
       "      <td>NaN</td>\n",
       "      <td>NaN</td>\n",
       "    </tr>\n",
       "    <tr>\n",
       "      <th>50%</th>\n",
       "      <td>101500.50</td>\n",
       "      <td>5.00</td>\n",
       "      <td>5.00</td>\n",
       "      <td>2278.66</td>\n",
       "      <td>958.28</td>\n",
       "      <td>36.50</td>\n",
       "      <td>49516.13</td>\n",
       "      <td>40632.27</td>\n",
       "      <td>NaN</td>\n",
       "      <td>NaN</td>\n",
       "      <td>NaN</td>\n",
       "    </tr>\n",
       "    <tr>\n",
       "      <th>75%</th>\n",
       "      <td>102250.25</td>\n",
       "      <td>10.00</td>\n",
       "      <td>10.00</td>\n",
       "      <td>5093.77</td>\n",
       "      <td>2318.27</td>\n",
       "      <td>44.00</td>\n",
       "      <td>78851.47</td>\n",
       "      <td>66206.20</td>\n",
       "      <td>NaN</td>\n",
       "      <td>NaN</td>\n",
       "      <td>NaN</td>\n",
       "    </tr>\n",
       "    <tr>\n",
       "      <th>max</th>\n",
       "      <td>103000.00</td>\n",
       "      <td>61.00</td>\n",
       "      <td>47.00</td>\n",
       "      <td>123939.24</td>\n",
       "      <td>190648.85</td>\n",
       "      <td>1970.00</td>\n",
       "      <td>536488.40</td>\n",
       "      <td>513618.59</td>\n",
       "      <td>NaN</td>\n",
       "      <td>NaN</td>\n",
       "      <td>NaN</td>\n",
       "    </tr>\n",
       "  </tbody>\n",
       "</table>\n",
       "</div>"
      ],
      "text/plain": [
       "               ID  AgnosDirec  AgnosEmpleo   DeudaExt   DeudaInt     Edad  \\\n",
       "count     3000.00     2999.00      2998.00    2999.00    2996.00  2998.00   \n",
       "unique        NaN         NaN          NaN        NaN        NaN      NaN   \n",
       "top           NaN         NaN          NaN        NaN        NaN      NaN   \n",
       "freq          NaN         NaN          NaN        NaN        NaN      NaN   \n",
       "mean    101500.50        7.09         7.15    4531.01    2275.68    37.66   \n",
       "std        866.17        6.96         6.65    7084.78    5409.79    36.63   \n",
       "min     100001.00        0.00         0.00      21.55       8.30    18.00   \n",
       "25%     100750.75        2.00         2.00    1110.24     416.04    29.00   \n",
       "50%     101500.50        5.00         5.00    2278.66     958.28    36.50   \n",
       "75%     102250.25       10.00        10.00    5093.77    2318.27    44.00   \n",
       "max     103000.00       61.00        47.00  123939.24  190648.85  1970.00   \n",
       "\n",
       "          Ingreso   Ingreso2 Nacionalidad NivelEdu VarObj  \n",
       "count     2998.00    3000.00         3000     3000   3000  \n",
       "unique        NaN        NaN            1        5      2  \n",
       "top           NaN        NaN            N   SupCom      N  \n",
       "freq          NaN        NaN         3000      979   2363  \n",
       "mean     62567.74   52152.67          NaN      NaN    NaN  \n",
       "std      49385.68   42246.04          NaN      NaN    NaN  \n",
       "min     -13123.60   -9723.72          NaN      NaN    NaN  \n",
       "25%      30282.68   25109.56          NaN      NaN    NaN  \n",
       "50%      49516.13   40632.27          NaN      NaN    NaN  \n",
       "75%      78851.47   66206.20          NaN      NaN    NaN  \n",
       "max     536488.40  513618.59          NaN      NaN    NaN  "
      ]
     },
     "execution_count": 22,
     "metadata": {},
     "output_type": "execute_result"
    }
   ],
   "source": [
    "df.describe(include='all').round(2)"
   ]
  },
  {
   "cell_type": "code",
   "execution_count": 24,
   "id": "38720b02",
   "metadata": {},
   "outputs": [
    {
     "data": {
      "text/plain": [
       "ID              0\n",
       "AgnosDirec      1\n",
       "AgnosEmpleo     2\n",
       "DeudaExt        1\n",
       "DeudaInt        4\n",
       "Edad            2\n",
       "Ingreso         2\n",
       "Ingreso2        0\n",
       "Nacionalidad    0\n",
       "NivelEdu        0\n",
       "VarObj          0\n",
       "dtype: int64"
      ]
     },
     "execution_count": 24,
     "metadata": {},
     "output_type": "execute_result"
    }
   ],
   "source": [
    "# Revisar valores nulos\n",
    "df.isnull().sum()"
   ]
  },
  {
   "cell_type": "code",
   "execution_count": 37,
   "id": "5272b7ee",
   "metadata": {},
   "outputs": [
    {
     "data": {
      "text/plain": [
       "Edad\n",
       "18.0        7\n",
       "19.0       18\n",
       "20.0       45\n",
       "21.0       57\n",
       "22.0       47\n",
       "23.0       72\n",
       "24.0       59\n",
       "25.0       74\n",
       "26.0       82\n",
       "27.0       90\n",
       "28.0      107\n",
       "29.0       95\n",
       "30.0       99\n",
       "31.0       94\n",
       "32.0      106\n",
       "33.0      118\n",
       "34.0      104\n",
       "35.0      114\n",
       "36.0      111\n",
       "37.0      105\n",
       "38.0      126\n",
       "39.0       85\n",
       "40.0      114\n",
       "41.0      115\n",
       "42.0      102\n",
       "43.0       94\n",
       "44.0       89\n",
       "45.0       84\n",
       "46.0       62\n",
       "47.0       66\n",
       "48.0       78\n",
       "49.0       60\n",
       "50.0       45\n",
       "51.0       35\n",
       "52.0       32\n",
       "53.0       36\n",
       "54.0       18\n",
       "55.0       32\n",
       "56.0       29\n",
       "57.0       21\n",
       "58.0       15\n",
       "59.0        5\n",
       "60.0       10\n",
       "61.0        9\n",
       "62.0        5\n",
       "63.0        3\n",
       "64.0        8\n",
       "65.0        6\n",
       "66.0        2\n",
       "67.0        2\n",
       "68.0        2\n",
       "69.0        2\n",
       "71.0        1\n",
       "1970.0      1\n",
       "Name: count, dtype: int64"
      ]
     },
     "execution_count": 37,
     "metadata": {},
     "output_type": "execute_result"
    }
   ],
   "source": [
    "df[\"Edad\"].value_counts().sort_index()"
   ]
  },
  {
   "cell_type": "code",
   "execution_count": 36,
   "id": "23631b8d",
   "metadata": {},
   "outputs": [
    {
     "data": {
      "text/plain": [
       "<Axes: xlabel='Edad'>"
      ]
     },
     "execution_count": 36,
     "metadata": {},
     "output_type": "execute_result"
    },
    {
     "data": {
      "image/png": "[encoded data removed]",
      "text/plain": [
       "<Figure size 1000x500 with 1 Axes>"
      ]
     },
     "metadata": {},
     "output_type": "display_data"
    }
   ],
   "source": [
    "df[\"Edad\"].value_counts().sort_index().plot(kind='bar', figsize=(10,5))"
   ]
  },
  {
   "cell_type": "code",
   "execution_count": 38,
   "id": "e79aa9b8",
   "metadata": {},
   "outputs": [
    {
     "ename": "NameError",
     "evalue": "name 'plt' is not defined",
     "output_type": "error",
     "traceback": [
      "\u001b[31m---------------------------------------------------------------------------\u001b[39m",
      "\u001b[31mNameError\u001b[39m                                 Traceback (most recent call last)",
      "\u001b[36mCell\u001b[39m\u001b[36m \u001b[39m\u001b[32mIn[38]\u001b[39m\u001b[32m, line 2\u001b[39m\n\u001b[32m      1\u001b[39m df.groupby([\u001b[33m\"\u001b[39m\u001b[33mEdad\u001b[39m\u001b[33m\"\u001b[39m,\u001b[33m\"\u001b[39m\u001b[33mVarObj\u001b[39m\u001b[33m\"\u001b[39m]).size().unstack().plot(kind=\u001b[33m'\u001b[39m\u001b[33mbar\u001b[39m\u001b[33m'\u001b[39m, stacked=\u001b[38;5;28;01mTrue\u001b[39;00m, figsize=(\u001b[32m10\u001b[39m,\u001b[32m5\u001b[39m))\n\u001b[32m----> \u001b[39m\u001b[32m2\u001b[39m \u001b[43mplt\u001b[49m.show()\n",
      "\u001b[31mNameError\u001b[39m: name 'plt' is not defined"
     ]
    },
    {
     "data": {
      "image/png": "[encoded data removed]",
      "text/plain": [
       "<Figure size 1000x500 with 1 Axes>"
      ]
     },
     "metadata": {},
     "output_type": "display_data"
    }
   ],
   "source": [
    "\n",
    "df.groupby([\"Edad\",\"VarObj\"]).size().unstack().plot(kind='bar', stacked=True, figsize=(10,5))\n",
    "plt.show()"
   ]
  },
  {
   "cell_type": "code",
   "execution_count": 55,
   "id": "a2c396d6",
   "metadata": {},
   "outputs": [
    {
     "data": {
      "text/plain": [
       "VarObj\n",
       "N    0.79\n",
       "S    0.21\n",
       "Name: proportion, dtype: float64"
      ]
     },
     "execution_count": 55,
     "metadata": {},
     "output_type": "execute_result"
    }
   ],
   "source": [
    "df[\"VarObj\"].value_counts(normalize=True).round(2)"
   ]
  },
  {
   "cell_type": "code",
   "execution_count": 58,
   "id": "a1489b38",
   "metadata": {},
   "outputs": [
    {
     "data": {
      "text/html": [
       "<div>\n",
       "<style scoped>\n",
       "    .dataframe tbody tr th:only-of-type {\n",
       "        vertical-align: middle;\n",
       "    }\n",
       "\n",
       "    .dataframe tbody tr th {\n",
       "        vertical-align: top;\n",
       "    }\n",
       "\n",
       "    .dataframe thead th {\n",
       "        text-align: right;\n",
       "    }\n",
       "</style>\n",
       "<table border=\"1\" class=\"dataframe\">\n",
       "  <thead>\n",
       "    <tr style=\"text-align: right;\">\n",
       "      <th></th>\n",
       "      <th>ID</th>\n",
       "      <th>AgnosDirec</th>\n",
       "      <th>AgnosEmpleo</th>\n",
       "      <th>DeudaExt</th>\n",
       "      <th>DeudaInt</th>\n",
       "      <th>Edad</th>\n",
       "      <th>Ingreso</th>\n",
       "      <th>Ingreso2</th>\n",
       "      <th>Nacionalidad</th>\n",
       "      <th>NivelEdu</th>\n",
       "      <th>VarObj</th>\n",
       "    </tr>\n",
       "  </thead>\n",
       "  <tbody>\n",
       "    <tr>\n",
       "      <th>137</th>\n",
       "      <td>100138</td>\n",
       "      <td>7.0</td>\n",
       "      <td>13.0</td>\n",
       "      <td>11982.421363</td>\n",
       "      <td>8423.543356</td>\n",
       "      <td>1970.0</td>\n",
       "      <td>134230.440064</td>\n",
       "      <td>114093.282397</td>\n",
       "      <td>N</td>\n",
       "      <td>Med</td>\n",
       "      <td>N</td>\n",
       "    </tr>\n",
       "  </tbody>\n",
       "</table>\n",
       "</div>"
      ],
      "text/plain": [
       "         ID  AgnosDirec  AgnosEmpleo      DeudaExt     DeudaInt    Edad  \\\n",
       "137  100138         7.0         13.0  11982.421363  8423.543356  1970.0   \n",
       "\n",
       "           Ingreso       Ingreso2 Nacionalidad NivelEdu VarObj  \n",
       "137  134230.440064  114093.282397            N      Med      N  "
      ]
     },
     "execution_count": 58,
     "metadata": {},
     "output_type": "execute_result"
    }
   ],
   "source": [
    "df[df['Edad'] > 100]"
   ]
  },
  {
   "cell_type": "code",
   "execution_count": 59,
   "id": "29e7d91a",
   "metadata": {},
   "outputs": [],
   "source": [
    "df[df['Edad'] > 100] = np.nan"
   ]
  },
  {
   "cell_type": "code",
   "execution_count": 61,
   "id": "67992a33",
   "metadata": {},
   "outputs": [
    {
     "data": {
      "text/html": [
       "<div>\n",
       "<style scoped>\n",
       "    .dataframe tbody tr th:only-of-type {\n",
       "        vertical-align: middle;\n",
       "    }\n",
       "\n",
       "    .dataframe tbody tr th {\n",
       "        vertical-align: top;\n",
       "    }\n",
       "\n",
       "    .dataframe thead th {\n",
       "        text-align: right;\n",
       "    }\n",
       "</style>\n",
       "<table border=\"1\" class=\"dataframe\">\n",
       "  <thead>\n",
       "    <tr style=\"text-align: right;\">\n",
       "      <th></th>\n",
       "      <th>ID</th>\n",
       "      <th>AgnosDirec</th>\n",
       "      <th>AgnosEmpleo</th>\n",
       "      <th>DeudaExt</th>\n",
       "      <th>DeudaInt</th>\n",
       "      <th>Edad</th>\n",
       "      <th>Ingreso</th>\n",
       "      <th>Ingreso2</th>\n",
       "      <th>Nacionalidad</th>\n",
       "      <th>NivelEdu</th>\n",
       "      <th>VarObj</th>\n",
       "    </tr>\n",
       "  </thead>\n",
       "  <tbody>\n",
       "  </tbody>\n",
       "</table>\n",
       "</div>"
      ],
      "text/plain": [
       "Empty DataFrame\n",
       "Columns: [ID, AgnosDirec, AgnosEmpleo, DeudaExt, DeudaInt, Edad, Ingreso, Ingreso2, Nacionalidad, NivelEdu, VarObj]\n",
       "Index: []"
      ]
     },
     "execution_count": 61,
     "metadata": {},
     "output_type": "execute_result"
    }
   ],
   "source": [
    "df[df['Edad'] > 100]\n",
    "# ya no aparecera   "
   ]
  },
  {
   "cell_type": "code",
   "execution_count": 62,
   "id": "02e0490b",
   "metadata": {},
   "outputs": [
    {
     "data": {
      "text/html": [
       "<div>\n",
       "<style scoped>\n",
       "    .dataframe tbody tr th:only-of-type {\n",
       "        vertical-align: middle;\n",
       "    }\n",
       "\n",
       "    .dataframe tbody tr th {\n",
       "        vertical-align: top;\n",
       "    }\n",
       "\n",
       "    .dataframe thead th {\n",
       "        text-align: right;\n",
       "    }\n",
       "</style>\n",
       "<table border=\"1\" class=\"dataframe\">\n",
       "  <thead>\n",
       "    <tr style=\"text-align: right;\">\n",
       "      <th></th>\n",
       "      <th>ID</th>\n",
       "      <th>AgnosDirec</th>\n",
       "      <th>AgnosEmpleo</th>\n",
       "      <th>DeudaExt</th>\n",
       "      <th>DeudaInt</th>\n",
       "      <th>Edad</th>\n",
       "      <th>Ingreso</th>\n",
       "      <th>Ingreso2</th>\n",
       "      <th>Nacionalidad</th>\n",
       "      <th>NivelEdu</th>\n",
       "      <th>VarObj</th>\n",
       "    </tr>\n",
       "  </thead>\n",
       "  <tbody>\n",
       "    <tr>\n",
       "      <th>521</th>\n",
       "      <td>100522.0</td>\n",
       "      <td>3.0</td>\n",
       "      <td>0.0</td>\n",
       "      <td>797.023075</td>\n",
       "      <td>670.738436</td>\n",
       "      <td>29.0</td>\n",
       "      <td>-13123.60228</td>\n",
       "      <td>-9723.719313</td>\n",
       "      <td>N</td>\n",
       "      <td>Bas</td>\n",
       "      <td>S</td>\n",
       "    </tr>\n",
       "  </tbody>\n",
       "</table>\n",
       "</div>"
      ],
      "text/plain": [
       "           ID  AgnosDirec  AgnosEmpleo    DeudaExt    DeudaInt  Edad  \\\n",
       "521  100522.0         3.0          0.0  797.023075  670.738436  29.0   \n",
       "\n",
       "         Ingreso     Ingreso2 Nacionalidad NivelEdu VarObj  \n",
       "521 -13123.60228 -9723.719313            N      Bas      S  "
      ]
     },
     "execution_count": 62,
     "metadata": {},
     "output_type": "execute_result"
    }
   ],
   "source": [
    "df[df['Ingreso'] < 0]"
   ]
  },
  {
   "cell_type": "code",
   "execution_count": 63,
   "id": "72bed1bb",
   "metadata": {},
   "outputs": [],
   "source": [
    "df[df['Ingreso'] < 0] = np.nan\n"
   ]
  }
 ],
 "metadata": {
  "kernelspec": {
   "display_name": ".venv",
   "language": "python",
   "name": "python3"
  },
  "language_info": {
   "codemirror_mode": {
    "name": "ipython",
    "version": 3
   },
   "file_extension": ".py",
   "mimetype": "text/x-python",
   "name": "python",
   "nbconvert_exporter": "python",
   "pygments_lexer": "ipython3",
   "version": "3.13.1"
  }
 },
 "nbformat": 4,
 "nbformat_minor": 5
}
